{
 "cells": [
  {
   "cell_type": "code",
   "execution_count": 1,
   "id": "fa01731e",
   "metadata": {},
   "outputs": [],
   "source": [
    "import python_utils as utils\n",
    "import sys\n",
    "import pickle\n",
    "import matplotlib.pyplot as plt\n",
    "import pandas as pd\n",
    "import numpy as np\n",
    "import os\n",
    "import re\n",
    "from matplotlib.gridspec import GridSpec\n",
    "import matplotlib.colors as colors\n",
    "\n",
    "%matplotlib inline\n",
    "%config InlineBackend.figure_format = 'svg'\n",
    "\n",
    "plt.rcParams['axes.titlesize'] = 16\n",
    "plt.rcParams['axes.labelsize'] = 15\n",
    "plt.rcParams['legend.fontsize'] = 13\n"
   ]
  },
  {
   "cell_type": "code",
   "execution_count": 2,
   "id": "e91d1627",
   "metadata": {},
   "outputs": [],
   "source": [
    "#messo n_parseg = 150 e sembra avere senso lo spettrogramma anche se non sono 100 come nell'articolo\n",
    "parseg = 250\n",
    "neglect_t = 3000\n",
    "def mask(f, lower_bound=12, upper_bound=30):\n",
    "    return (lower_bound <= f) & (f <= upper_bound)\n",
    "\n",
    "# Funzione per il calcolo della media mobile migliorata\n",
    "def moving_average(data, window_size):\n",
    "    moving_avg = np.empty(len(data))\n",
    "    moving_avg[:] = np.NaN  # Inizializza con NaN\n",
    "    half_window = window_size // 2\n",
    "    for i in range(half_window, len(data) - half_window):\n",
    "        moving_avg[i] = np.mean(data[i - half_window:i + half_window + 1])\n",
    "    return moving_avg"
   ]
  },
  {
   "cell_type": "markdown",
   "id": "bfd793ea-50b0-4712-973b-0bf4ad1604bb",
   "metadata": {},
   "source": [
    "# constant values"
   ]
  },
  {
   "cell_type": "code",
   "execution_count": 3,
   "id": "f04d78cb-b9b1-4af8-92fb-2c46feb9155f",
   "metadata": {},
   "outputs": [],
   "source": [
    "function = \"flat_begin\"\n",
    "subnets = \"STN\"\n",
    "sigm_par = float('inf')\n",
    "\n",
    "new_function = re.sub(r\"[^0-9]\", \"\", function) #lascia solo numero funzione"
   ]
  },
  {
   "cell_type": "code",
   "execution_count": 4,
   "id": "fac10d4c-063b-479a-a811-b9d3acb9e9a6",
   "metadata": {},
   "outputs": [],
   "source": [
    "dd_values = np.linspace(0.6, 1.1, 6)"
   ]
  },
  {
   "cell_type": "code",
   "execution_count": 5,
   "id": "ec8bf9fc-1413-4afb-bd06-5bc8345c9f39",
   "metadata": {},
   "outputs": [],
   "source": [
    "folder_names = [f\"flat_begin_0.00_0.00000_0.00_{dd:.3f}_1.00_1.00_1.6\" for dd in dd_values]"
   ]
  },
  {
   "cell_type": "code",
   "execution_count": 6,
   "id": "f5358b35-989d-445c-84fc-397bce2c221c",
   "metadata": {},
   "outputs": [
    {
     "name": "stdout",
     "output_type": "stream",
     "text": [
      "nparseg = 250\tnoverlap=125\n",
      "nparseg = 250\tnoverlap=125\n",
      "nparseg = 250\tnoverlap=125\n",
      "nparseg = 250\tnoverlap=125\n",
      "nparseg = 250\tnoverlap=125\n",
      "nparseg = 250\tnoverlap=125\n"
     ]
    }
   ],
   "source": [
    "# Prima, determiniamo i valori minimo e massimo globali per Sxx_lim\n",
    "min_Sxx = np.inf\n",
    "max_Sxx = -np.inf\n",
    "\n",
    "for dd in dd_values:\n",
    "    folder = f\"flat_begin_0.00_0.00000_0.00_{dd:.3f}_1.00_1.00_1.6\"\n",
    "    file_path = f\"./build2/output/n1/{folder}/ext_rateD2.txt\"\n",
    "    data3 = np.loadtxt(file_path).T\n",
    "    \n",
    "    # spikesim\n",
    "    s3 = utils.SpikeSim(f\"./build2/output/n1/{folder}\", 'new_sim_parallel.yaml', neglect_t, np.max(data3[0])-neglect_t)\n",
    "    \n",
    "    output = s3.periodogram(pop=subnets, res=1., N_parseg=parseg)\n",
    "    f = output[0]\n",
    "    t = output[1]\n",
    "    Sxx = output[2]\n",
    "    data3[0] = data3[0]/1000\n",
    "    data3[1] = data3[1]/1.083\n",
    "\n",
    "    masked_indices = mask(output[0])  # Utilizza 'mask' per selezionare gli indici\n",
    "    Sxx_lim = Sxx[masked_indices, :]\n",
    "    min_Sxx = min(min_Sxx, np.min(Sxx_lim))\n",
    "    max_Sxx = max(max_Sxx, np.max(Sxx_lim))"
   ]
  },
  {
   "cell_type": "code",
   "execution_count": 7,
   "id": "60653bed-62aa-4100-b017-64047fef35f5",
   "metadata": {},
   "outputs": [
    {
     "data": {
      "application/vnd.jupyter.widget-view+json": {
       "model_id": "13c59f00c518408887cb527b6e41df34",
       "version_major": 2,
       "version_minor": 0
      },
      "text/plain": [
       "Canvas(toolbar=Toolbar(toolitems=[('Home', 'Reset original view', 'home', 'home'), ('Back', 'Back to previous …"
      ]
     },
     "metadata": {},
     "output_type": "display_data"
    },
    {
     "name": "stdout",
     "output_type": "stream",
     "text": [
      "nparseg = 250\tnoverlap=125\n",
      "nparseg = 250\tnoverlap=125\n",
      "nparseg = 250\tnoverlap=125\n",
      "nparseg = 250\tnoverlap=125\n",
      "nparseg = 250\tnoverlap=125\n",
      "nparseg = 250\tnoverlap=125\n"
     ]
    }
   ],
   "source": [
    "%matplotlib widget\n",
    "\n",
    "# Ora, usa min_Sxx e max_Sxx per settare la scala comune nei subplot\n",
    "fig, axs = plt.subplots(2, 3, figsize=(16, 8))\n",
    "fig.subplots_adjust(hspace=0.4, wspace=0.4)\n",
    "axs = axs.flatten()\n",
    "\n",
    "\n",
    "\n",
    "for i, dd in enumerate(dd_values):\n",
    "    folder = f\"flat_begin_0.00_0.00000_0.00_{dd:.3f}_1.00_1.00_1.6\"\n",
    "    file_path = f\"./build2/output/n1/{folder}/ext_rateD2.txt\"\n",
    "    data3 = np.loadtxt(file_path).T\n",
    "    \n",
    "    # spikesim\n",
    "    s3 = utils.SpikeSim(f\"./build2/output/n1/{folder}\", 'new_sim_parallel.yaml', neglect_t, np.max(data3[0])-neglect_t)\n",
    "    \n",
    "    output = s3.periodogram(pop=subnets, res=1., N_parseg=parseg)\n",
    "    f = output[0]\n",
    "    t = output[1]\n",
    "    Sxx = output[2]\n",
    "    data3[0] = data3[0]/1000\n",
    "    data3[1] = data3[1]/1.083\n",
    "\n",
    "    # Assuming 'mask', 'Sxx', 'f', and 't' are defined in your analysis\n",
    "    masked_indices = mask(f)  # Make sure 'mask' function is defined in 'utils'\n",
    "    Sxx_lim = Sxx[masked_indices, :]\n",
    "    f_lim = f[masked_indices]\n",
    "\n",
    "    # Utilizza LogNorm per la scala dei colori in scala logaritmica\n",
    "    norm = colors.LogNorm(vmin=np.max([min_Sxx, 1e-5]), vmax=max_Sxx)  # Imposta la normalizzazione logaritmica\n",
    "\n",
    "    contour = axs[i].contourf(t, f_lim, Sxx_lim, norm=norm)\n",
    "    axs[i].set_title(f\"ξ = {dd:.1f}\")\n",
    "    axs[i].set_xlabel('Time [s]')\n",
    "    \n",
    "    if i % 3 == 0:\n",
    "        axs[i].set_ylabel('Frequency [Hz]')\n",
    "    \n",
    "    # Aggiungi la colorbar con la scala logaritmica\n",
    "    cbar = fig.colorbar(contour, ax=axs[i], orientation='vertical', label='PSD [u.a.]', fraction=0.046, pad=0.04)\n",
    "    cbar.set_label('PSD [u.a.]', rotation=270, labelpad=15)\n",
    "\n",
    "for ax in axs[len(dd_values):]:  # Nascondi gli assi inutilizzati\n",
    "    ax.axis('off')\n",
    "\n",
    "plt.tight_layout()\n",
    "plt.show()"
   ]
  },
  {
   "cell_type": "markdown",
   "id": "50bb4f88-5118-44d3-b83b-9a78ed68df85",
   "metadata": {},
   "source": [
    "# FLAT 0.85"
   ]
  },
  {
   "cell_type": "code",
   "execution_count": 8,
   "id": "a5d5ff29",
   "metadata": {},
   "outputs": [],
   "source": [
    "Dd = \"0.8500\"\n",
    "function = \"flat\"\n",
    "subnets = \"STN\"\n",
    "sigm_par = float('inf')\n",
    "\n",
    "new_Dd = Dd.replace('.','_')\n",
    "new_function = re.sub(r\"[^0-9]\", \"\", function) #lascia solo numero funzione"
   ]
  },
  {
   "cell_type": "code",
   "execution_count": 9,
   "id": "fa588955",
   "metadata": {},
   "outputs": [],
   "source": [
    "#check if periodogram folder exists and if not create one\n",
    "periodogram_path = './periodograms/' + new_Dd + '_' + subnets + '_' + function\n",
    "if not os.path.exists(periodogram_path):\n",
    "    os.makedirs(periodogram_path)    "
   ]
  },
  {
   "cell_type": "code",
   "execution_count": 10,
   "id": "ce579a43",
   "metadata": {},
   "outputs": [],
   "source": [
    "#funzione Dd\n",
    "data1 = np.loadtxt(\"./build/output/n1/\" + function + \"_0.00_0.00000_0.00_\" + Dd + \"_1.00_1.00_1.6/0/ext_rateD2.txt\").T\n",
    "#spikesim\n",
    "s1 = utils.SpikeSim(\"./build/output/n1/\" + function + \"_0.00_0.00000_0.00_\" + Dd + \"_1.00_1.00_1.6/0\", 'new_sim_parallel.yaml', neglect_t, np.max(data1[0]))"
   ]
  },
  {
   "cell_type": "code",
   "execution_count": 11,
   "id": "028367d3",
   "metadata": {},
   "outputs": [
    {
     "name": "stdout",
     "output_type": "stream",
     "text": [
      "nparseg = 250\tnoverlap=125\n"
     ]
    }
   ],
   "source": [
    "data = data1\n",
    "output=s1.periodogram(pop=subnets, res=1., N_parseg=parseg, save_img=periodogram_path + \"/periodogram.png\")\n",
    "f = output[0]\n",
    "t = output[1]\n",
    "Sxx = output[2]\n",
    "data[0] = data[0]/1000\n",
    "data[1] = data[1]/1.083"
   ]
  },
  {
   "cell_type": "code",
   "execution_count": 12,
   "id": "f23031a1-58dd-4f9c-8ebc-3eff49825bb8",
   "metadata": {},
   "outputs": [
    {
     "data": {
      "application/vnd.jupyter.widget-view+json": {
       "model_id": "0a0a4b36db204cfeaedfab212f370de0",
       "version_major": 2,
       "version_minor": 0
      },
      "text/plain": [
       "Canvas(toolbar=Toolbar(toolitems=[('Home', 'Reset original view', 'home', 'home'), ('Back', 'Back to previous …"
      ]
     },
     "metadata": {},
     "output_type": "display_data"
    }
   ],
   "source": [
    "%matplotlib widget\n",
    "\n",
    "# Applicazione della maschera ai dati\n",
    "mask_f = mask(f)  # Assicurati che mask sia definita altrove nel tuo codice\n",
    "Sxx_lim = Sxx[mask_f, :]\n",
    "f_lim = f[mask_f]\n",
    "\n",
    "# Impostazione del layout del grafico\n",
    "fig = plt.figure(figsize=(10, 8))\n",
    "gs = GridSpec(2, 2, width_ratios=[1, 0.05], height_ratios=[1, 1], hspace=0.3)\n",
    "\n",
    "# Assegnazione degli assi\n",
    "ax1 = fig.add_subplot(gs[0, 0])\n",
    "ax2 = fig.add_subplot(gs[1, 0])\n",
    "cax = fig.add_subplot(gs[0, 1])  # Modificato per abbracciare entrambe le righe\n",
    "\n",
    "# Primo plot: contour plot per PSD\n",
    "norm = colors.LogNorm(vmin=np.max([min_Sxx, 1e-5]), vmax=max_Sxx)  # Definizione della normalizzazione logaritmica\n",
    "contour = ax1.contourf(t, f_lim, Sxx_lim, norm=norm)\n",
    "ax1.set_title(\"STN PSD in the β Range ξ = 0.85\")\n",
    "ax1.set_xlabel('Time [s]')\n",
    "ax1.set_ylabel('Frequency [Hz]')\n",
    "ax1.text(0.01, 0.95, '(a)', transform=ax1.transAxes, fontsize=16, fontweight='bold', va='top')\n",
    "\n",
    "# Aggiunta della colorbar con normalizzazione logaritmica\n",
    "plt.colorbar(contour, cax=cax, orientation='vertical', label='PSD [u.a.]')\n",
    "\n",
    "# Calcolo della media per ogni istante temporale\n",
    "pow_t = [np.mean(Sxx_lim[:, i]) for i in range(len(t))]\n",
    "\n",
    "# Calcolo della media mobile senza distorsione agli estremi\n",
    "moving_avg = moving_average(np.array(pow_t), window_size=10)  # Assicurati che 'moving_average' sia definita\n",
    "\n",
    "# Secondo plot: serie temporale dell'intensità media (Mean β PSD)\n",
    "ax2.plot(t, pow_t, label='Mean β PSD')\n",
    "mean_value = np.mean(pow_t)\n",
    "ax2.plot([t[0], t[-1]], [mean_value, mean_value], color='red', label='Mean')\n",
    "ax2.plot(t, moving_avg, label=f'Moving Average (10 points)', color='orange')\n",
    "ax2.set_xlabel('Time [s]')\n",
    "ax2.set_ylabel('Mean β PSD [u.a.]')\n",
    "ax2.legend(loc='upper left', bbox_to_anchor=(1, 1))\n",
    "ax2.set_title(\"Average PSD in the β Range\")\n",
    "ax2.text(0.01, 0.95, '(b)', transform=ax2.transAxes, fontsize=16, fontweight='bold', va='top')\n",
    "\n",
    "# Impostazione dei limiti dell'asse x per corrispondere all'intervallo dei tuoi dati\n",
    "ax2.set_xlim([t[0], t[-1]])\n",
    "\n",
    "plt.show()"
   ]
  },
  {
   "cell_type": "markdown",
   "id": "5b152a9e-404d-4f43-8def-1947da6c69fc",
   "metadata": {},
   "source": [
    "# FLAT 0.95"
   ]
  },
  {
   "cell_type": "code",
   "execution_count": 13,
   "id": "e8dadf0b-59f7-49e3-a8b9-009f4fbcb574",
   "metadata": {},
   "outputs": [],
   "source": [
    "Dd = \"0.9500\"\n",
    "function = \"flat\"\n",
    "subnets = \"STN\"\n",
    "sigm_par = float('inf')\n",
    "\n",
    "new_Dd = Dd.replace('.','_')\n",
    "new_function = re.sub(r\"[^0-9]\", \"\", function) #lascia solo numero funzione"
   ]
  },
  {
   "cell_type": "code",
   "execution_count": 14,
   "id": "a402243d-ff0a-45ec-b40d-f4dc475fdce5",
   "metadata": {},
   "outputs": [],
   "source": [
    "#check if periodogram folder exists and if not create one\n",
    "periodogram_path = './periodograms/' + new_Dd + '_' + subnets + '_' + function\n",
    "if not os.path.exists(periodogram_path):\n",
    "    os.makedirs(periodogram_path)    "
   ]
  },
  {
   "cell_type": "code",
   "execution_count": 15,
   "id": "382cea8b-2770-4bc0-96e4-03833654e1d1",
   "metadata": {},
   "outputs": [],
   "source": [
    "#funzione Dd\n",
    "data2 = np.loadtxt(\"./build/output/n1/\" + function + \"_0.00_0.00000_0.00_\" + Dd + \"_1.00_1.00_1.6/0/ext_rateD2.txt\").T\n",
    "#spikesim\n",
    "s2 = utils.SpikeSim(\"./build/output/n1/\" + function + \"_0.00_0.00000_0.00_\" + Dd + \"_1.00_1.00_1.6/0\", 'new_sim_parallel.yaml', neglect_t, np.max(data2[0])-neglect_t)"
   ]
  },
  {
   "cell_type": "code",
   "execution_count": 16,
   "id": "aefd785f-612b-4892-a1ea-d8752fa9e9e8",
   "metadata": {},
   "outputs": [
    {
     "name": "stdout",
     "output_type": "stream",
     "text": [
      "nparseg = 250\tnoverlap=125\n"
     ]
    }
   ],
   "source": [
    "data = data2\n",
    "output=s2.periodogram(pop=subnets, res=1., N_parseg=parseg, save_img=periodogram_path + \"/periodogram.png\")\n",
    "f = output[0]\n",
    "t = output[1]\n",
    "Sxx = output[2]\n",
    "data[0] = data[0]/1000\n",
    "data[1] = data[1]/1.083\n"
   ]
  },
  {
   "cell_type": "code",
   "execution_count": 17,
   "id": "e3bf04d9-de6f-40be-90d9-312ae2ee3682",
   "metadata": {
    "tags": []
   },
   "outputs": [
    {
     "data": {
      "application/vnd.jupyter.widget-view+json": {
       "model_id": "a67ab77c0bbd4f7d849f228d59fda98d",
       "version_major": 2,
       "version_minor": 0
      },
      "text/plain": [
       "Canvas(toolbar=Toolbar(toolitems=[('Home', 'Reset original view', 'home', 'home'), ('Back', 'Back to previous …"
      ]
     },
     "metadata": {},
     "output_type": "display_data"
    }
   ],
   "source": [
    "%matplotlib widget\n",
    "\n",
    "# Applicazione della maschera ai dati\n",
    "mask_f = mask(f)  # Assicurati che mask sia definita altrove nel tuo codice\n",
    "Sxx_lim = Sxx[mask_f, :]\n",
    "f_lim = f[mask_f]\n",
    "\n",
    "# Impostazione del layout del grafico\n",
    "fig = plt.figure(figsize=(10, 8))\n",
    "gs = GridSpec(2, 2, width_ratios=[1, 0.05], height_ratios=[1, 1], hspace=0.3)\n",
    "\n",
    "# Assegnazione degli assi\n",
    "ax1 = fig.add_subplot(gs[0, 0])\n",
    "ax2 = fig.add_subplot(gs[1, 0])\n",
    "cax = fig.add_subplot(gs[0, 1])  # Modificato per abbracciare entrambe le righe\n",
    "\n",
    "# Primo plot: contour plot per PSD\n",
    "norm = colors.LogNorm(vmin=np.max([min_Sxx, 1e-5]), vmax=max_Sxx)  # Definizione della normalizzazione logaritmica\n",
    "contour = ax1.contourf(t, f_lim, Sxx_lim, norm=norm)\n",
    "ax1.set_title(\"STN PSD in the β Range ξ = 0.95\")\n",
    "ax1.set_xlabel('Time [s]')\n",
    "ax1.set_ylabel('Frequency [Hz]')\n",
    "ax1.text(0.01, 0.95, '(c)', transform=ax1.transAxes, fontsize=16, fontweight='bold', va='top')\n",
    "\n",
    "# Aggiunta della colorbar con normalizzazione logaritmica\n",
    "plt.colorbar(contour, cax=cax, orientation='vertical', label='PSD [u.a.]')\n",
    "\n",
    "# Calcolo della media per ogni istante temporale\n",
    "pow_t = [np.mean(Sxx_lim[:, i]) for i in range(len(t))]\n",
    "\n",
    "# Calcolo della media mobile senza distorsione agli estremi\n",
    "moving_avg = moving_average(np.array(pow_t), window_size=10)  # Assicurati che 'moving_average' sia definita\n",
    "\n",
    "# Secondo plot: serie temporale dell'intensità media (Mean β PSD)\n",
    "ax2.plot(t, pow_t, label='Mean β PSD')\n",
    "mean_value = np.mean(pow_t)\n",
    "ax2.plot([t[0], t[-1]], [mean_value, mean_value], color='red', label='Mean')\n",
    "ax2.plot(t, moving_avg, label=f'Moving Average (10 points)', color='orange')\n",
    "ax2.set_xlabel('Time [s]')\n",
    "ax2.set_ylabel('Mean β PSD [u.a.]')\n",
    "ax2.legend(loc='upper left', bbox_to_anchor=(1, 1))\n",
    "ax2.set_title(\"Average PSD in the β Range\")\n",
    "ax2.text(0.01, 0.95, '(d)', transform=ax2.transAxes, fontsize=16, fontweight='bold', va='top')\n",
    "\n",
    "# Impostazione dei limiti dell'asse x per corrispondere all'intervallo dei tuoi dati\n",
    "ax2.set_xlim([t[0], t[-1]])\n",
    "\n",
    "plt.show()"
   ]
  },
  {
   "cell_type": "markdown",
   "id": "77712f58-3f79-45e6-aa3c-a2a8130ffff1",
   "metadata": {},
   "source": [
    "## immagine DD"
   ]
  },
  {
   "cell_type": "code",
   "execution_count": 3,
   "id": "fcde637d-45ab-4a03-b716-ce860d1da9c7",
   "metadata": {},
   "outputs": [
    {
     "name": "stdout",
     "output_type": "stream",
     "text": [
      "[0.85, 0.8525, 0.855, 0.8575, 0.86, 0.8625, 0.865, 0.8675, 0.87, 0.8725, 0.875, 0.8775, 0.88, 0.8825, 0.885, 0.8875, 0.89, 0.8925, 0.895, 0.8975, 0.9, 0.9025, 0.905, 0.9075, 0.91, 0.9125, 0.915, 0.9175, 0.92, 0.9225, 0.925, 0.9275, 0.93, 0.9325, 0.935, 0.9375, 0.94, 0.9425, 0.945, 0.9475, 0.95]\n"
     ]
    }
   ],
   "source": [
    "Dd_values = []\n",
    "current_value = 0.850\n",
    "while current_value <= 0.950:\n",
    "    Dd_values.append(round(current_value, 4))\n",
    "    current_value += 0.0025\n",
    "\n",
    "print(Dd_values)"
   ]
  },
  {
   "cell_type": "code",
   "execution_count": 4,
   "id": "ecf3fe7e-ddfd-482b-aaf6-8ec2e4380f87",
   "metadata": {},
   "outputs": [],
   "source": [
    "pow_t_mean_all = np.loadtxt('./build/output/n1/new_pow_t_mean' + str(parseg) + '.txt', delimiter='\\t', skiprows=1)\n"
   ]
  },
  {
   "cell_type": "code",
   "execution_count": 5,
   "id": "c1d5a2df-fa35-4cc0-9bb0-50fe2e2f3b51",
   "metadata": {},
   "outputs": [],
   "source": [
    "int_all = np.mean(pow_t_mean_all, axis=0)\n",
    "std_int = np.std(pow_t_mean_all, axis=0)\n"
   ]
  },
  {
   "cell_type": "code",
   "execution_count": 6,
   "id": "8fe179de-4c4e-41b0-95f7-e80e9a42e687",
   "metadata": {},
   "outputs": [
    {
     "data": {
      "application/vnd.jupyter.widget-view+json": {
       "model_id": "0ca4e68440444f719ac0e4572f7d2c4f",
       "version_major": 2,
       "version_minor": 0
      },
      "text/plain": [
       "Canvas(toolbar=Toolbar(toolitems=[('Home', 'Reset original view', 'home', 'home'), ('Back', 'Back to previous …"
      ]
     },
     "metadata": {},
     "output_type": "display_data"
    }
   ],
   "source": [
    "%matplotlib widget\n",
    "y = 10 * (np.array(Dd_values) - 0.85)\n",
    "# Creare un grafico dei valori nel tempo\n",
    "# Finestra mobile (rolling window) per il calcolo della moving average\n",
    "window_size = 1  # Sostituisci con la dimensione della finestra desiderata\n",
    "moving_avg = np.convolve(int_all, np.ones(window_size)/window_size, mode='same')\n",
    "\n",
    "# Creare un grafico dei valori nel tempo\n",
    "fig, ax1 = plt.subplots(figsize = (9,5))\n",
    "\n",
    "ax1.set_yscale('log')\n",
    "\n",
    "# Aggiungi la moving average al grafico di ax1\n",
    "ax1.plot(y, moving_avg, color='blue')\n",
    "\n",
    "# Aggiungi il terzo set di dati con errori associati al grafico esistente\n",
    "ax1.errorbar(y, int_all, yerr=std_int, fmt='o')#, label='simulazioni a Dd costante')\n",
    "\n",
    "# Imposta altre personalizzazioni per il tuo grafico, se necessario\n",
    "plt.xlabel('y Dopamine depletion [u.a.]')\n",
    "plt.ylabel('Mean β PSD [u.a.]')\n",
    "#plt.legend()\n",
    "plt.title(f'Dd vs Expected Mean β PSD')\n",
    "plt.show()"
   ]
  },
  {
   "cell_type": "code",
   "execution_count": 7,
   "id": "f9edf52a-1a8e-4fbe-91c1-a761729e83f6",
   "metadata": {},
   "outputs": [
    {
     "ename": "NameError",
     "evalue": "name 'tt' is not defined",
     "output_type": "error",
     "traceback": [
      "\u001b[0;31m---------------------------------------------------------------------------\u001b[0m",
      "\u001b[0;31mNameError\u001b[0m                                 Traceback (most recent call last)",
      "\u001b[0;32m<ipython-input-7-6f89cd3e5490>\u001b[0m in \u001b[0;36m<module>\u001b[0;34m\u001b[0m\n\u001b[1;32m      2\u001b[0m     \u001b[0;32mreturn\u001b[0m \u001b[0;36m0.95\u001b[0m \u001b[0;34m+\u001b[0m \u001b[0;36m1\u001b[0m \u001b[0;34m/\u001b[0m \u001b[0;34m(\u001b[0m\u001b[0;36m1\u001b[0m \u001b[0;34m+\u001b[0m \u001b[0mnp\u001b[0m\u001b[0;34m.\u001b[0m\u001b[0mexp\u001b[0m\u001b[0;34m(\u001b[0m\u001b[0;34m-\u001b[0m\u001b[0msigm_par\u001b[0m \u001b[0;34m*\u001b[0m \u001b[0;34m(\u001b[0m\u001b[0mx\u001b[0m \u001b[0;34m-\u001b[0m \u001b[0mt_mid\u001b[0m \u001b[0;34m+\u001b[0m \u001b[0mneglect_t\u001b[0m\u001b[0;34m)\u001b[0m\u001b[0;34m)\u001b[0m\u001b[0;34m)\u001b[0m \u001b[0;34m*\u001b[0m \u001b[0;34m(\u001b[0m\u001b[0;36m0.85\u001b[0m \u001b[0;34m-\u001b[0m \u001b[0;36m0.95\u001b[0m\u001b[0;34m)\u001b[0m \u001b[0;34m-\u001b[0m \u001b[0;36m1\u001b[0m \u001b[0;34m/\u001b[0m \u001b[0;34m(\u001b[0m\u001b[0;36m1\u001b[0m \u001b[0;34m+\u001b[0m \u001b[0mnp\u001b[0m\u001b[0;34m.\u001b[0m\u001b[0mexp\u001b[0m\u001b[0;34m(\u001b[0m\u001b[0;34m-\u001b[0m\u001b[0msigm_par\u001b[0m \u001b[0;34m*\u001b[0m \u001b[0;34m(\u001b[0m\u001b[0mx\u001b[0m \u001b[0;34m-\u001b[0m \u001b[0mt_mid2\u001b[0m \u001b[0;34m+\u001b[0m \u001b[0mneglect_t\u001b[0m\u001b[0;34m)\u001b[0m\u001b[0;34m)\u001b[0m\u001b[0;34m)\u001b[0m \u001b[0;34m*\u001b[0m \u001b[0;34m(\u001b[0m\u001b[0;36m0.85\u001b[0m \u001b[0;34m-\u001b[0m \u001b[0;36m0.95\u001b[0m\u001b[0;34m)\u001b[0m\u001b[0;34m\u001b[0m\u001b[0;34m\u001b[0m\u001b[0m\n\u001b[1;32m      3\u001b[0m \u001b[0;34m\u001b[0m\u001b[0m\n\u001b[0;32m----> 4\u001b[0;31m \u001b[0md_t_attesa\u001b[0m \u001b[0;34m=\u001b[0m \u001b[0;36m10\u001b[0m\u001b[0;34m*\u001b[0m\u001b[0;34m(\u001b[0m\u001b[0msigmoidpulse\u001b[0m\u001b[0;34m(\u001b[0m\u001b[0mtt\u001b[0m\u001b[0;34m*\u001b[0m\u001b[0;36m1000\u001b[0m\u001b[0;34m)\u001b[0m \u001b[0;34m-\u001b[0m \u001b[0;36m0.85\u001b[0m\u001b[0;34m)\u001b[0m\u001b[0;34m\u001b[0m\u001b[0;34m\u001b[0m\u001b[0m\n\u001b[0m\u001b[1;32m      5\u001b[0m \u001b[0;34m\u001b[0m\u001b[0m\n\u001b[1;32m      6\u001b[0m \u001b[0;34m\u001b[0m\u001b[0m\n",
      "\u001b[0;31mNameError\u001b[0m: name 'tt' is not defined"
     ]
    }
   ],
   "source": [
    "def sigmoidpulse(x):\n",
    "    return 0.95 + 1 / (1 + np.exp(-sigm_par * (x - t_mid + neglect_t))) * (0.85 - 0.95) - 1 / (1 + np.exp(-sigm_par * (x - t_mid2 + neglect_t))) * (0.85 - 0.95) \n",
    "\n",
    "d_t_attesa = 10*(sigmoidpulse(tt*1000) - 0.85)\n",
    "\n",
    "\n",
    "%matplotlib widget\n",
    "window_size = 1  # Sostituisci con la dimensione della finestra desiderata\n",
    "moving_avg = np.convolve(media, np.ones(window_size)/window_size, mode='same')\n",
    "\n",
    "# Creare un grafico dei valori nel tempo\n",
    "fig, ax1 = plt.subplots(figsize = (9,5))\n",
    "\n",
    "# Plot dei dati originali\n",
    "ax1.set_yscale('log')\n",
    "\n",
    "# Aggiungi la moving average al grafico di ax1\n",
    "ax1.plot(d_t_attesa, moving_avg, color='blue')\n",
    "\n",
    "# Aggiungi il terzo set di dati con errori associati al grafico esistente\n",
    "ax1.errorbar(d_t_attesa, media, yerr=error, fmt='o')#, label='simulazioni a Dd costante')\n",
    "\n",
    "# Imposta altre personalizzazioni per il tuo grafico, se necessario\n",
    "plt.xlabel('y Dopamine depletion [u.a.]')\n",
    "plt.ylabel('Mean β PSD [u.a.]')\n",
    "#plt.legend()\n",
    "plt.title(f'Dd vs Expected Mean β PSD')\n",
    "plt.show()"
   ]
  },
  {
   "cell_type": "code",
   "execution_count": null,
   "id": "e7271763-62e0-485b-b214-54c43e325183",
   "metadata": {},
   "outputs": [],
   "source": []
  }
 ],
 "metadata": {
  "kernelspec": {
   "display_name": "Python 3",
   "language": "python",
   "name": "python3"
  },
  "language_info": {
   "codemirror_mode": {
    "name": "ipython",
    "version": 3
   },
   "file_extension": ".py",
   "mimetype": "text/x-python",
   "name": "python",
   "nbconvert_exporter": "python",
   "pygments_lexer": "ipython3",
   "version": "3.8.5"
  }
 },
 "nbformat": 4,
 "nbformat_minor": 5
}
