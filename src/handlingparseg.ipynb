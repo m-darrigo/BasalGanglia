{
 "cells": [
  {
   "cell_type": "code",
   "execution_count": 1,
   "id": "fa01731e",
   "metadata": {},
   "outputs": [],
   "source": [
    "import python_utils as utils\n",
    "import sys\n",
    "import pickle\n",
    "import matplotlib.pyplot as plt\n",
    "import numpy as np\n",
    "import pandas as pd\n",
    "import os\n",
    "import neurodsp\n",
    "import re\n",
    "%matplotlib inline\n",
    "%config InlineBackend.figure_format = 'svg'"
   ]
  },
  {
   "cell_type": "code",
   "execution_count": 42,
   "id": "c3cf22a4-a7fa-4d79-ab75-3ac397fdb341",
   "metadata": {},
   "outputs": [],
   "source": [
    "parseg = 2000"
   ]
  },
  {
   "cell_type": "code",
   "execution_count": 3,
   "id": "acb8d1e0-289f-4da4-941a-e9eb2bbec28e",
   "metadata": {},
   "outputs": [],
   "source": [
    "sigm_par = 0.002\n",
    "function = \"sigmoid\" + str(format(sigm_par, 'f')).replace('.', '_')\n",
    "while function.endswith('0'):\n",
    "    function = function[:-1]\n",
    "Dd = \"0.950\"\n",
    "subnets = \"STN\"\n",
    "simulations = [str(i) for i in range(32)]\n",
    "\n",
    "new_Dd = Dd.replace('.','_')\n",
    "\n",
    "#funzione Dd\n",
    "data = np.loadtxt(\"./build/output/n1/\" + function + \"_0.00_0.0000_0.00_\" + Dd + \"_1.00_1.00_1.6/\" + simulations[0] + \"/ext_rateD2.txt\").T\n",
    "\n",
    "data[0] = data[0]/1000\n",
    "data[1] = data[1]/1.083"
   ]
  },
  {
   "cell_type": "code",
   "execution_count": 4,
   "id": "3a3941f6-4003-4612-a01e-01acb88530a7",
   "metadata": {},
   "outputs": [
    {
     "name": "stdout",
     "output_type": "stream",
     "text": [
      "          Tempo  Valore  Media_Mobile\n",
      "10000    1.0000    0.95          0.95\n",
      "10001    1.0001    0.95          0.95\n",
      "10002    1.0002    0.95          0.95\n",
      "10003    1.0003    0.95          0.95\n",
      "10004    1.0004    0.95          0.95\n",
      "...         ...     ...           ...\n",
      "219997  21.9997    0.85          0.85\n",
      "219998  21.9998    0.85          0.85\n",
      "219999  21.9999    0.85          0.85\n",
      "220000  22.0000    0.85          0.85\n",
      "220001  22.0001    0.85          0.85\n",
      "\n",
      "[210002 rows x 3 columns]\n"
     ]
    }
   ],
   "source": [
    "# Crea un DataFrame con i dati\n",
    "df = pd.DataFrame({'Tempo': data[0], 'Valore': data[1]})\n",
    "\n",
    "# Numero di elementi da considerare per la media mobile\n",
    "window_size = parseg*10\n",
    "\n",
    "# Calcola la media mobile e assegna i risultati al tempo centrale\n",
    "df['Media_Mobile'] = df['Valore'].rolling(window=window_size, center=True).mean()\n",
    "\n",
    "# Rimuovi le righe con valori mancanti (prime e ultime finestre)\n",
    "df = df.dropna()\n",
    "\n",
    "# Stampa il dataframe risultante\n",
    "print(df)"
   ]
  },
  {
   "cell_type": "code",
   "execution_count": 43,
   "id": "0c8f3a0d-3e2e-404b-8724-13a10402d308",
   "metadata": {},
   "outputs": [
    {
     "data": {
      "application/vnd.jupyter.widget-view+json": {
       "model_id": "9e0a0d90fe284b1ebf01194a17d99477",
       "version_major": 2,
       "version_minor": 0
      },
      "text/plain": [
       "Canvas(toolbar=Toolbar(toolitems=[('Home', 'Reset original view', 'home', 'home'), ('Back', 'Back to previous …"
      ]
     },
     "metadata": {},
     "output_type": "display_data"
    }
   ],
   "source": [
    "%matplotlib widget\n",
    "\n",
    "# Crea un oggetto di figura e un singolo assi\n",
    "fig, ax1 = plt.subplots(figsize=(10, 6))\n",
    "\n",
    "# Plot dei dati originali\n",
    "ax1.plot(df['Tempo'].values, df['Valore'].values, label='Sigmoide Originale', color='red')\n",
    "\n",
    "# Etichette e legenda per l'asse x e y\n",
    "ax1.set_xlabel('Tempo')\n",
    "ax1.set_ylabel('Valore', color='red')\n",
    "ax1.tick_params('y', colors='red')\n",
    "\n",
    "# Crea un secondo assi per la media mobile\n",
    "ax2 = ax1.twinx()\n",
    "ax2.plot(df['Tempo'].values, df['Media_Mobile'].values, label='Media Mobile', color='blue')\n",
    "\n",
    "# Etichette e legenda per l'asse y del secondo assi\n",
    "ax2.set_ylabel('Media Mobile', color='blue')\n",
    "ax2.tick_params('y', colors='blue')\n",
    "\n",
    "# Imposta la stessa scala per entrambi gli assi y\n",
    "ylim_min = 0.84\n",
    "ylim_max = 0.96\n",
    "ax1.set_ylim(ylim_min, ylim_max)\n",
    "ax2.set_ylim(ylim_min, ylim_max)\n",
    "\n",
    "# Aggiungi una legenda complessiva\n",
    "lines, labels = ax1.get_legend_handles_labels()\n",
    "lines2, labels2 = ax2.get_legend_handles_labels()\n",
    "ax2.legend(lines + lines2, labels + labels2, loc='upper left')\n",
    "\n",
    "plt.title(f'sigmoide con media mobile con finestra lunga parseg = {parseg} ')\n",
    "# Mostra il plot\n",
    "plt.show()\n"
   ]
  },
  {
   "cell_type": "code",
   "execution_count": null,
   "id": "9cd7d953-2de2-4610-9646-a2b7c68eeb31",
   "metadata": {},
   "outputs": [],
   "source": []
  },
  {
   "cell_type": "code",
   "execution_count": null,
   "id": "df18a605-9cf3-480a-870e-31bf021debf6",
   "metadata": {},
   "outputs": [],
   "source": []
  },
  {
   "cell_type": "code",
   "execution_count": null,
   "id": "de4c3bca-52d2-4206-9165-2da5c6b45eb1",
   "metadata": {},
   "outputs": [],
   "source": []
  },
  {
   "cell_type": "code",
   "execution_count": null,
   "id": "ba789228-1a93-4618-8783-63191a91a01d",
   "metadata": {},
   "outputs": [],
   "source": []
  },
  {
   "cell_type": "markdown",
   "id": "f66ba0d8-21cf-4b3d-9b7e-47dee992ea01",
   "metadata": {},
   "source": [
    "# FLAT. media per ogni valore di dd"
   ]
  },
  {
   "cell_type": "code",
   "execution_count": 6,
   "id": "580a6f16-f747-4942-9352-3f475540b7bf",
   "metadata": {},
   "outputs": [],
   "source": [
    "Dd_values = [0.85, 0.855, 0.86, 0.865, 0.87, 0.875, 0.88, 0.885, 0.89, 0.895, 0.9, 0.905, 0.91, 0.915, 0.92, 0.925, 0.93, 0.935, 0.94, 0.945, 0.95]\n",
    "t_d = [6.0000, 5.7937, 5.5893, 5.3868, 5.1859, 4.9865, 4.7884, 4.5916, 4.3959, 4.2011, 4.0071, 3.8139, 3.6214, 3.4304, 3.2419, 3.0567, 2.8768, 2.7041, 2.5395, 2.3840, 2.2324]\n",
    "pow_t_mean_point = [0.019914247149334242, 0.020690578678315804, 0.02158271146066814, 0.022364914133701584, 0.023428835457957573, 0.025125497868107482, 0.026346934723841548, 0.028828969225659612, 0.03220798123872726, 0.035254298671665026, 0.03867622848014253, 0.04674626548972391, 0.05068805695941251, 0.06606716969376104, 0.08487862320152097, 0.09270422348347553, 0.1322581180913206, 0.15084846176010766, 0.18747180115646506, 0.22419232383889678, 0.2697145569231209]\n",
    "pow_error_point = [0.0019838232642017555, 0.001999857551482696, 0.0021708086191144817, 0.0022749744417916227, 0.002441049902399858, 0.002640832617992426, 0.0027738692999452765, 0.0031292618798778368, 0.0036480613158226044, 0.0040683093611075605, 0.00451842724610424, 0.005668445395626774, 0.006082506534680942, 0.007877499532094852, 0.009638645329156629, 0.010410256249777311, 0.012819346780713003, 0.01291999850097032, 0.014568471805002196, 0.015395217530866883, 0.015333769105628054]"
   ]
  },
  {
   "cell_type": "code",
   "execution_count": 7,
   "id": "1fb53f6e-25d1-4879-a118-d734c7fbc461",
   "metadata": {},
   "outputs": [],
   "source": [
    "#parseg 1000 overlap 900\n",
    "Dd_values = [0.85, 0.855, 0.86, 0.865, 0.87, 0.875, 0.88, 0.885, 0.89, 0.895, 0.9, 0.905, 0.91, 0.915, 0.92, 0.925, 0.93, 0.935, 0.94, 0.945, 0.95]\n",
    "pow_t_mean_point = [0.020259666276066162, 0.02120296579584084, 0.022038656032935276, 0.022739171696594434, 0.023911219984606994, 0.02560984095825443, 0.026820006580383835, 0.02936480560275397, 0.03290743744029855, 0.0358926143305719, 0.039456441500428624, 0.047487448465174824, 0.05157039384399911, 0.0668747156927251, 0.0860039921968109, 0.09407035467203172, 0.13466064380339335, 0.15378850667710425, 0.1906813562651049, 0.22771976231034616, 0.27424117184178015]\n",
    "pow_error_point = [0.0010919805458215308, 0.0011045140478354687, 0.0011731107221504078, 0.0012456485492271495, 0.0014015211550117259, 0.0015321354185727782, 0.001618665953826488, 0.0018472893515984281, 0.0023121285129270035, 0.0025637193598613394, 0.002985728231559733, 0.004092574241969529, 0.004157183438075225, 0.005882737242513239, 0.007321135855135147, 0.00818115786461861, 0.010111961332743833, 0.009829409436759418, 0.011374932858558683, 0.011971323646825854, 0.011339414807793977]"
   ]
  },
  {
   "cell_type": "code",
   "execution_count": 8,
   "id": "d6920417-9bb8-4feb-b954-de15f59d591d",
   "metadata": {},
   "outputs": [],
   "source": [
    "#parseg 250 0verlap 125\n",
    "Dd_values = [0.85, 0.855, 0.86, 0.865, 0.87, 0.875, 0.88, 0.885, 0.89, 0.895, 0.9, 0.905, 0.91, 0.915, 0.92, 0.925, 0.93, 0.935, 0.94, 0.945, 0.95]\n",
    "pow_t_mean_point = [0.019914247149334242, 0.020690578678315804, 0.02158271146066814, 0.022364914133701584, 0.023428835457957573, 0.025125497868107482, 0.026346934723841548, 0.028828969225659612, 0.03220798123872726, 0.035254298671665026, 0.03867622848014253, 0.04674626548972391, 0.05068805695941251, 0.06606716969376104, 0.08487862320152097, 0.09270422348347553, 0.1322581180913206, 0.15084846176010766, 0.18747180115646506, 0.22419232383889678, 0.2697145569231209]\n",
    "pow_error_point = [0.0019838232642017555, 0.001999857551482696, 0.0021708086191144817, 0.0022749744417916227, 0.002441049902399858, 0.002640832617992426, 0.0027738692999452765, 0.0031292618798778368, 0.0036480613158226044, 0.0040683093611075605, 0.00451842724610424, 0.005668445395626774, 0.006082506534680942, 0.007877499532094852, 0.009638645329156629, 0.010410256249777311, 0.012819346780713003, 0.01291999850097032, 0.014568471805002196, 0.015395217530866883, 0.015333769105628054]"
   ]
  },
  {
   "cell_type": "markdown",
   "id": "2a48bc5a-dabf-4ee7-a37c-496da4d4e5c1",
   "metadata": {},
   "source": [
    "# SIGMOID0_002 t_mid = 13000"
   ]
  },
  {
   "cell_type": "code",
   "execution_count": 9,
   "id": "1393a692-807d-47be-8573-38f26ab3469a",
   "metadata": {},
   "outputs": [],
   "source": [
    "parseg = 250\n",
    "neglect_t = 3000\n",
    "t_mid = 13000 - neglect_t  # + parseg/2 questa parte no perche comunque il centro dell'intervallo considerato ha come valore della dd lo stesso a quel tempo\n",
    "sigm_par = 0.002"
   ]
  },
  {
   "cell_type": "markdown",
   "id": "e64b20e1-532b-4136-968d-cc9783127be9",
   "metadata": {},
   "source": [
    "    \n",
    "    "
   ]
  },
  {
   "cell_type": "code",
   "execution_count": 10,
   "id": "850d7b0a-1fdb-4573-a814-f5c9d78f2e61",
   "metadata": {
    "tags": []
   },
   "outputs": [],
   "source": [
    "#valore threshold trovato sopra trascritto in modo da evitare calcoli\n",
    "alpha = 0.2573329144325134\n",
    "alpha_mean = 0.16799556857190273"
   ]
  },
  {
   "cell_type": "code",
   "execution_count": 11,
   "id": "ab52c134-c319-4d88-b8bd-078016ba0663",
   "metadata": {},
   "outputs": [],
   "source": [
    "#qui inserisci dati diversi per scegliere simulazione\n",
    "t_d = []\n",
    "\n",
    "t_d.append(t_mid*0.7)\n",
    "for x in Dd_values[1:-1]:\n",
    "    y = -np.log((-0.1) /(x - 0.95) - 1)/sigm_par + t_mid\n",
    "    t_d.append(y)\n",
    "    \n",
    "t_d.append(t_mid*1.3)\n",
    "\n",
    "t_d = np.array(t_d)"
   ]
  },
  {
   "cell_type": "code",
   "execution_count": 12,
   "id": "bc7dec06-a186-41a3-b968-3489f807ded3",
   "metadata": {},
   "outputs": [
    {
     "name": "stdout",
     "output_type": "stream",
     "text": [
      "nparseg = 250\tnoverlap=125\n",
      "nparseg = 250\tnoverlap=125\n",
      "nparseg = 250\tnoverlap=125\n",
      "nparseg = 250\tnoverlap=125\n",
      "nparseg = 250\tnoverlap=125\n",
      "nparseg = 250\tnoverlap=125\n",
      "nparseg = 250\tnoverlap=125\n",
      "nparseg = 250\tnoverlap=125\n",
      "nparseg = 250\tnoverlap=125\n",
      "nparseg = 250\tnoverlap=125\n",
      "nparseg = 250\tnoverlap=125\n",
      "nparseg = 250\tnoverlap=125\n",
      "nparseg = 250\tnoverlap=125\n",
      "nparseg = 250\tnoverlap=125\n",
      "nparseg = 250\tnoverlap=125\n",
      "nparseg = 250\tnoverlap=125\n",
      "nparseg = 250\tnoverlap=125\n",
      "nparseg = 250\tnoverlap=125\n",
      "nparseg = 250\tnoverlap=125\n",
      "nparseg = 250\tnoverlap=125\n",
      "nparseg = 250\tnoverlap=125\n",
      "nparseg = 250\tnoverlap=125\n",
      "nparseg = 250\tnoverlap=125\n",
      "nparseg = 250\tnoverlap=125\n",
      "nparseg = 250\tnoverlap=125\n",
      "nparseg = 250\tnoverlap=125\n",
      "nparseg = 250\tnoverlap=125\n",
      "nparseg = 250\tnoverlap=125\n",
      "nparseg = 250\tnoverlap=125\n",
      "nparseg = 250\tnoverlap=125\n",
      "nparseg = 250\tnoverlap=125\n",
      "nparseg = 250\tnoverlap=125\n"
     ]
    }
   ],
   "source": [
    "%matplotlib inline\n",
    "function = \"sigmoid\" + str(format(sigm_par, 'f')).replace('.', '_')\n",
    "while function.endswith('0'):\n",
    "    function = function[:-1]\n",
    "Dd = \"0.950\"\n",
    "subnets = \"STN\"\n",
    "simulations = [str(i) for i in range(32)]\n",
    "sigm_par = sigm_par\n",
    "\n",
    "new_Dd = Dd.replace('.','_')\n",
    "#new_function = re.sub(r\"[^0-9]\", \"\", function) #lascia solo numero funzione\n",
    "\n",
    "#funzione Dd\n",
    "data = np.loadtxt(\"./build/output/n1/\" + function + \"_0.00_0.0000_0.00_\" + Dd + \"_1.00_1.00_1.6/\" + simulations[0] + \"/ext_rateD2.txt\").T\n",
    "\n",
    "data[0] = data[0]/1000\n",
    "data[1] = data[1]/1.083\n",
    "\n",
    "#check if periodogram folder exists and if not create one\n",
    "#spikesim\n",
    "periodogram_paths = []\n",
    "s = []\n",
    "for simulation in simulations:\n",
    "    periodogram_path = './periodograms/' + Dd.replace('.','_') + '_' + subnets + '_' + function + '_' + simulation\n",
    "    if not os.path.exists(periodogram_path):  #check if periodogram folder exists and if not create one\n",
    "        os.makedirs(periodogram_path) \n",
    "    periodogram_paths.append(periodogram_path)\n",
    "    ss = utils.SpikeSim(\"./build/output/n1/\" + function + \"_0.00_0.0000_0.00_\" + Dd + \"_1.00_1.00_1.6/\" + simulation , 'new_sim_parallel.yaml', neglect_t, np.max(data[0]))\n",
    "    s.append(ss)\n",
    "\n",
    "all_pow_t = []\n",
    "t = []\n",
    "f = []\n",
    "\n",
    "for index,ss in enumerate(s):\n",
    "    output=ss.periodogram(pop=subnets, res=1., N_parseg=parseg, save_img=periodogram_paths[index] + \"/periodogram.png\")\n",
    "\n",
    "    f = output[0]\n",
    "    t = output[1]\n",
    "    Sxx = output[2]\n",
    "\n",
    "    mask = (8 <= f) & (f <= 26)\n",
    "    Sxx_lim = Sxx[mask,:]\n",
    "    f_lim = f[mask]\n",
    "\n",
    "    pow_t = []\n",
    "    for i in range (len(t)):\n",
    "        pow_t.append(np.mean(Sxx_lim[:,i]))\n",
    "\n",
    "    all_pow_t.append(pow_t)\n",
    "\n",
    "\n",
    "np.vstack(all_pow_t)\n",
    "pow_t_mean = np.mean(all_pow_t, axis=0)\n",
    "pow_error = np.std(all_pow_t, axis=0)/np.sqrt(len(simulations))"
   ]
  },
  {
   "cell_type": "markdown",
   "id": "a76eb26d-e51f-4da0-a80b-845ec8b73809",
   "metadata": {},
   "source": [
    "## time-pow_t"
   ]
  },
  {
   "cell_type": "code",
   "execution_count": 27,
   "id": "40caee04-502b-436f-bc66-6bf790877bac",
   "metadata": {},
   "outputs": [
    {
     "data": {
      "application/vnd.jupyter.widget-view+json": {
       "model_id": "1415aa641ee5448a9738a7c101794d7d",
       "version_major": 2,
       "version_minor": 0
      },
      "text/plain": [
       "Canvas(toolbar=Toolbar(toolitems=[('Home', 'Reset original view', 'home', 'home'), ('Back', 'Back to previous …"
      ]
     },
     "metadata": {},
     "output_type": "display_data"
    }
   ],
   "source": [
    "%matplotlib widget\n",
    "# Creare un grafico dei valori nel tempo\n",
    "# Finestra mobile (rolling window) per il calcolo della moving average\n",
    "window_size = 10  # Sostituisci con la dimensione della finestra desiderata\n",
    "moving_avg = np.convolve(pow_t_mean, np.ones(window_size)/window_size, mode='same')\n",
    "\n",
    "# Creare un grafico dei valori nel tempo\n",
    "fig, ax1 = plt.subplots(figsize = (9,5))\n",
    "\n",
    "pow_t_mean = np.array(pow_t_mean)\n",
    "\n",
    "# Utilizza la funzione errorbar per tracciare i dati con errori associati\n",
    "ax1.errorbar(t, pow_t_mean, yerr=pow_error, fmt='none', capsize=1, color='black', ecolor='black', elinewidth=1)\n",
    "\n",
    "\n",
    "# Plot dei dati originali\n",
    "\n",
    "ax1.plot(t[pow_t_mean >= alpha_mean], pow_t_mean[pow_t_mean >= alpha_mean], '+r', label='Dati sopra \\u03B1')\n",
    "ax1.plot(t, pow_t_mean, label='Intensità media', color='lightblue')\n",
    "ax1.set_yscale('log')\n",
    "\n",
    "# Aggiungi la moving average al grafico di ax1\n",
    "#ax1.plot(t, moving_avg, label=f'Moving Average ({window_size}-point)', color='yellow')\n",
    "\n",
    "# Aggiungi il terzo set di dati con errori associati al grafico esistente\n",
    "ax1.errorbar(t_d/1000, pow_t_mean_point, yerr=pow_error_point, fmt='o', label='simulazioni a Dd costante', color='green')\n",
    "\n",
    "# Imposta altre personalizzazioni per il tuo grafico, se necessario\n",
    "plt.xlabel('Tempo [s]')\n",
    "plt.ylabel('intensità media')\n",
    "plt.legend()  # Assicurati di avere tutte le etichette delle leggende necessarie\n",
    "\n",
    "#ax2 = ax1.twinx()\n",
    "#ax2.plot(data[0][neglect_t*10:]-data[0][neglect_t*10], data[1][neglect_t*10:], 'r-')\n",
    "#ax2.set_xlim(data[0][neglect_t*10], data[0][-neglect_t*10 - int(parseg/2*10)])\n",
    "#ax2.set_ylim(0.83,0.97)\n",
    "#ax2.set_ylabel('Dopamine depletion', color='r')\n",
    "#ax2.tick_params(axis='y', labelcolor='red')\n",
    "\n",
    "plt.title(f'Intensità nel Range \\u03B2 per \\u03C4 = 0.5 [s] nparseg = 250')\n",
    "plt.show()"
   ]
  },
  {
   "cell_type": "code",
   "execution_count": 28,
   "id": "b3a94896-2d1c-40c4-8464-232dedec6a4a",
   "metadata": {},
   "outputs": [],
   "source": [
    "def sigmoid(x):\n",
    "    return 1 / (1 + np.exp(-sigm_par * (x - t_mid))) * (0.85 - 0.95) + 0.95\n",
    "\n",
    "# Ora puoi utilizzare questa funzione per calcolare il valore di y per un dato valore di x.\n",
    "x = t*1000  # Sostituisci con il valore di x desiderato\n",
    "d_t = sigmoid(x)"
   ]
  },
  {
   "cell_type": "markdown",
   "id": "8e1e9304-01d3-43fc-9d27-b5512476064e",
   "metadata": {},
   "source": [
    "## dd-pow"
   ]
  },
  {
   "cell_type": "code",
   "execution_count": 29,
   "id": "23b51ffa-04cd-4fc1-bddb-55ffb53d5223",
   "metadata": {},
   "outputs": [
    {
     "data": {
      "application/vnd.jupyter.widget-view+json": {
       "model_id": "beee9fb097ba43d5aa337e42fff62dda",
       "version_major": 2,
       "version_minor": 0
      },
      "text/plain": [
       "Canvas(toolbar=Toolbar(toolitems=[('Home', 'Reset original view', 'home', 'home'), ('Back', 'Back to previous …"
      ]
     },
     "metadata": {},
     "output_type": "display_data"
    }
   ],
   "source": [
    "%matplotlib widget\n",
    "# Creare un grafico dei valori nel tempo\n",
    "# Finestra mobile (rolling window) per il calcolo della moving average\n",
    "window_size = 1  # Sostituisci con la dimensione della finestra desiderata\n",
    "moving_avg = np.convolve(pow_t_mean, np.ones(window_size)/window_size, mode='same')\n",
    "\n",
    "# Creare un grafico dei valori nel tempo\n",
    "fig, ax1 = plt.subplots(figsize = (9,5))\n",
    "\n",
    "pow_t_mean = np.array(pow_t_mean)\n",
    "\n",
    "# Utilizza la funzione errorbar per tracciare i dati con errori associati\n",
    "ax1.errorbar(d_t, pow_t_mean, yerr=pow_error, fmt='none', capsize=1, color='black', ecolor='black', elinewidth=1)\n",
    "\n",
    "# Plot dei dati originali\n",
    "#ax1.plot(d_t[pow_t_mean >= alpha_mean], pow_t_mean[pow_t_mean >= alpha_mean], '+r', label='Dati sopra \\u03B1')\n",
    "ax1.plot(d_t, pow_t_mean, 'o', label='Intensità media', color='black')\n",
    "ax1.set_yscale('log')\n",
    "\n",
    "# Aggiungi la moving average al grafico di ax1\n",
    "ax1.plot(d_t, moving_avg, label=f'Moving Average ({window_size}-point)', color='yellow')\n",
    "\n",
    "# Aggiungi il terzo set di dati con errori associati al grafico esistente\n",
    "ax1.errorbar(Dd_values, pow_t_mean_point, yerr=pow_error_point, fmt='o', label='simulazioni a Dd costante', color='green')\n",
    "\n",
    "# Imposta altre personalizzazioni per il tuo grafico, se necessario\n",
    "plt.xlabel('Dopamine depletion')\n",
    "plt.ylabel('intensità media')\n",
    "plt.legend()  # Assicurati di avere tutte le etichette delle leggende necessarie\n",
    "plt.title(f'Dd vs Intensità nel Range \\u03B2 per \\u03C4 = {1/sigm_par/1000} [s] nparseg = {parseg}')\n",
    "plt.show()"
   ]
  },
  {
   "cell_type": "code",
   "execution_count": 30,
   "id": "2aba7435-c19d-4c34-86b5-9a49e0af45df",
   "metadata": {},
   "outputs": [],
   "source": [
    "# Creazione della maschera per escludere le righe con t < 1 e t > 19\n",
    "mask = (t >= 1) & (t <= 19)\n",
    "\n",
    "# Applica la maschera per selezionare solo le righe desiderate\n",
    "data_to_save = np.column_stack((t[mask], pow_t_mean[mask], d_t[mask], pow_error[mask]))\n",
    "\n",
    "# Salva i dati in un file di testo\n",
    "#np.savetxt('./build/output/n1/' + function + '_0.00_0.0000_0.00_' + Dd + '_1.00_1.00_1.6/parseg' + str(parseg) + '.txt', data_to_save, header='t pow_t_mean d_t pow_error', delimiter='\\t')\n"
   ]
  },
  {
   "cell_type": "code",
   "execution_count": null,
   "id": "e4eae2b4-b1d1-4c7f-811c-69fe508fd6de",
   "metadata": {},
   "outputs": [],
   "source": []
  },
  {
   "cell_type": "markdown",
   "id": "ce27cfb4-b0a1-4412-9968-405440726ed9",
   "metadata": {},
   "source": [
    "# parseg variation"
   ]
  },
  {
   "cell_type": "code",
   "execution_count": 31,
   "id": "b2981a15-614a-42e6-8664-f3199140cdd4",
   "metadata": {},
   "outputs": [],
   "source": [
    "#parseg 250 0verlap 125\n",
    "Dd_values = [0.85, 0.855, 0.86, 0.865, 0.87, 0.875, 0.88, 0.885, 0.89, 0.895, 0.9, 0.905, 0.91, 0.915, 0.92, 0.925, 0.93, 0.935, 0.94, 0.945, 0.95]\n",
    "pow_t_mean_point = [0.019914247149334242, 0.020690578678315804, 0.02158271146066814, 0.022364914133701584, 0.023428835457957573, 0.025125497868107482, 0.026346934723841548, 0.028828969225659612, 0.03220798123872726, 0.035254298671665026, 0.03867622848014253, 0.04674626548972391, 0.05068805695941251, 0.06606716969376104, 0.08487862320152097, 0.09270422348347553, 0.1322581180913206, 0.15084846176010766, 0.18747180115646506, 0.22419232383889678, 0.2697145569231209]\n",
    "pow_error_point = [0.0019838232642017555, 0.001999857551482696, 0.0021708086191144817, 0.0022749744417916227, 0.002441049902399858, 0.002640832617992426, 0.0027738692999452765, 0.0031292618798778368, 0.0036480613158226044, 0.0040683093611075605, 0.00451842724610424, 0.005668445395626774, 0.006082506534680942, 0.007877499532094852, 0.009638645329156629, 0.010410256249777311, 0.012819346780713003, 0.01291999850097032, 0.014568471805002196, 0.015395217530866883, 0.015333769105628054]"
   ]
  },
  {
   "cell_type": "code",
   "execution_count": 32,
   "id": "76abb299-f58a-4a74-ab84-c8649eca1bf3",
   "metadata": {},
   "outputs": [
    {
     "data": {
      "application/vnd.jupyter.widget-view+json": {
       "model_id": "c74fe7cefb3742cf91b8d195b830fe47",
       "version_major": 2,
       "version_minor": 0
      },
      "text/plain": [
       "Canvas(toolbar=Toolbar(toolitems=[('Home', 'Reset original view', 'home', 'home'), ('Back', 'Back to previous …"
      ]
     },
     "metadata": {},
     "output_type": "display_data"
    }
   ],
   "source": [
    "# Carica i dati dai file\n",
    "file_paths = [\n",
    "    './build/output/n1/' + function + '_0.00_0.0000_0.00_' + Dd + '_1.00_1.00_1.6/parseg250.txt',\n",
    "    './build/output/n1/' + function + '_0.00_0.0000_0.00_' + Dd + '_1.00_1.00_1.6/parseg500.txt',\n",
    "    './build/output/n1/' + function + '_0.00_0.0000_0.00_' + Dd + '_1.00_1.00_1.6/parseg1000.txt',\n",
    "    './build/output/n1/' + function + '_0.00_0.0000_0.00_' + Dd + '_1.00_1.00_1.6/parseg2000.txt',\n",
    "]\n",
    "\n",
    "data_list = []  # Una lista per memorizzare i dati da ciascun file\n",
    "\n",
    "for file_path in file_paths:\n",
    "    data = np.loadtxt(file_path, delimiter='\\t', skiprows=1)  # Salta la riga dell'intestazione\n",
    "    data_list.append(data)\n",
    "\n",
    "# Estrai le colonne necessarie\n",
    "t_list = [data[:, 0] for data in data_list]\n",
    "pow_t_mean_list = [data[:, 1] for data in data_list]\n",
    "d_t_list = [data[:, 2] for data in data_list]\n",
    "pow_error_list = [data[:, 3] for data in data_list]\n",
    "\n",
    "# Fai il plot dei dati con intensità su scala logaritmica\n",
    "plt.figure(figsize=(10, 6))\n",
    "\n",
    "for i in range(len(file_paths)):\n",
    "    parseg_values = [int(file_path.split('parseg')[1].split('.txt')[0]) for file_path in file_paths]\n",
    "    plt.errorbar(d_t_list[i], pow_t_mean_list[i], yerr=pow_error_list[i], label=f'parseg {parseg_values[i]}', capsize=5)\n",
    "\n",
    "\n",
    "plt.xlabel('Dopamine depletion')\n",
    "plt.ylabel('intensità media')\n",
    "plt.yscale('log')\n",
    "plt.title('Dd vs intensity changing parseg')\n",
    "plt.legend()\n",
    "plt.show()"
   ]
  },
  {
   "cell_type": "code",
   "execution_count": 33,
   "id": "9965a363-f006-455e-935c-f97d803d679d",
   "metadata": {},
   "outputs": [
    {
     "data": {
      "application/vnd.jupyter.widget-view+json": {
       "model_id": "10e2f91781744b548e8e2c9c71cd11c1",
       "version_major": 2,
       "version_minor": 0
      },
      "text/plain": [
       "Canvas(toolbar=Toolbar(toolitems=[('Home', 'Reset original view', 'home', 'home'), ('Back', 'Back to previous …"
      ]
     },
     "metadata": {},
     "output_type": "display_data"
    }
   ],
   "source": [
    "# Fai il plot dei dati con intensità su scala logaritmica\n",
    "plt.figure(figsize=(10, 6))\n",
    "\n",
    "for i in range(len(file_paths)):\n",
    "    parseg_values = [int(file_path.split('parseg')[1].split('.txt')[0]) for file_path in file_paths]\n",
    "    plt.errorbar(t_list[i], pow_t_mean_list[i], yerr=pow_error_list[i], label=f'parseg {parseg_values[i]}', capsize=5)\n",
    "\n",
    "plt.xlabel('tempo (s)')\n",
    "plt.ylabel('intensità media')\n",
    "plt.yscale('log')\n",
    "plt.title('time vs intensity changing parseg')\n",
    "plt.legend()\n",
    "plt.show()\n"
   ]
  },
  {
   "cell_type": "code",
   "execution_count": 34,
   "id": "b3a74bf5-8409-4a72-b978-0ee73f550463",
   "metadata": {},
   "outputs": [
    {
     "data": {
      "application/vnd.jupyter.widget-view+json": {
       "model_id": "ca12a3a1f9974f6f926b7106bb713827",
       "version_major": 2,
       "version_minor": 0
      },
      "text/plain": [
       "Canvas(toolbar=Toolbar(toolitems=[('Home', 'Reset original view', 'home', 'home'), ('Back', 'Back to previous …"
      ]
     },
     "metadata": {},
     "output_type": "display_data"
    }
   ],
   "source": [
    "from scipy.optimize import curve_fit\n",
    "\n",
    "def linear_fit(parseg, m, q):\n",
    "    return m * np.array(parseg) + q\n",
    "\n",
    "# Indice del tempo desiderato\n",
    "time_index = 80\n",
    "\n",
    "# Seleziona i valori di intensità al tempo specificato per ciascun parseg\n",
    "intensity_values = [pow_t_mean_list[i][time_index] for i in range(len(file_paths))]\n",
    "error_values = [pow_error_list[i][time_index] for i in range(len(file_paths))]\n",
    "\n",
    "# Fai il fit della retta usando il metodo dei minimi quadrati\n",
    "params, covariance = curve_fit(linear_fit, parseg_values, intensity_values, sigma=error_values, absolute_sigma=True)\n",
    "\n",
    "# Estrai i parametri del fit e le relative incertezze\n",
    "m_fit, q_fit = params\n",
    "dm, dq = np.sqrt(np.diag(covariance))\n",
    "\n",
    "# Calcola l'errore totale sulla retta interpolata a parseg=0\n",
    "error = np.sqrt((m_fit * dm)**2 + dq**2)\n",
    "\n",
    "# Calcola i valori del fit lineare\n",
    "fit_values = m_fit * np.array(parseg_values) + q_fit\n",
    "\n",
    "# Calcola il valore interpolato per parseg = 0 utilizzando l'intercetta del fit lineare\n",
    "interpolated_value_at_parseg_0 = q_fit\n",
    "# Calcola l'errore totale sulla retta interpolata a parseg=0\n",
    "error = np.sqrt((m_fit * dm)**2 + dq**2)\n",
    "\n",
    "# Aggiungi un punto a parseg=0\n",
    "parseg_values_extended = np.insert(parseg_values, 0, 0)\n",
    "fit_values_extended = np.insert(fit_values, 0, q_fit)\n",
    "\n",
    "# Fai il plot dei dati, della retta di fit e del valore interpolato per parseg = 0\n",
    "plt.figure(figsize=(8, 5))\n",
    "plt.errorbar(parseg_values, intensity_values, yerr=error_values, fmt='o', capsize=5, label='intensità variando parseg')\n",
    "plt.plot(parseg_values_extended, fit_values_extended, '-', label='Fit lineare')\n",
    "plt.errorbar([0], [interpolated_value_at_parseg_0], color='red', yerr=error, fmt='o', capsize=5, label='parseg = 0')\n",
    "plt.xlabel('parseg')\n",
    "plt.ylabel('Intensità media')\n",
    "plt.title(f'Fit lineare ai dati al tempo {t_list[0][time_index]:.2f} s')\n",
    "plt.legend()\n",
    "plt.show()\n"
   ]
  },
  {
   "cell_type": "markdown",
   "id": "1b48dcf8-54cc-4a76-b3d3-919571c908d2",
   "metadata": {},
   "source": [
    "# parseg 0"
   ]
  },
  {
   "cell_type": "code",
   "execution_count": 35,
   "id": "d9808de7-2a3c-4f09-b09f-f1845d0c5f24",
   "metadata": {},
   "outputs": [
    {
     "data": {
      "application/vnd.jupyter.widget-view+json": {
       "model_id": "e385bf729e7245a7b39508cb70e2750c",
       "version_major": 2,
       "version_minor": 0
      },
      "text/plain": [
       "Canvas(toolbar=Toolbar(toolitems=[('Home', 'Reset original view', 'home', 'home'), ('Back', 'Back to previous …"
      ]
     },
     "metadata": {},
     "output_type": "display_data"
    }
   ],
   "source": [
    "from scipy.optimize import curve_fit\n",
    "\n",
    "def linear_fit(parseg, m, q):\n",
    "    return m * np.array(parseg) + q\n",
    "\n",
    "# Creazione di una lista per memorizzare i valori estrapolati per parseg=0 per ogni valore di t\n",
    "values_at_parseg_0 = []\n",
    "errors_at_parseg_0 = []\n",
    "\n",
    "# Itera su tutti i valori di t\n",
    "for specific_t_value in t_list[0]:\n",
    "    specific_t_index = np.argmin(np.abs(t_list[0] - specific_t_value))\n",
    "\n",
    "    intensity_at_specific_t = [pow_t_mean_list[i][specific_t_index] for i in range(len(file_paths))]\n",
    "    error_at_specific_t = [pow_error_list[i][specific_t_index] for i in range(len(file_paths))]\n",
    "\n",
    "    # Estrai i valori di parseg\n",
    "    parseg_values = [int(file_path.split('parseg')[1].split('.txt')[0]) for file_path in file_paths]\n",
    "    parseg_values = np.array(parseg_values, dtype=float)\n",
    "\n",
    "    # Ordina i dati in base ai valori di parseg\n",
    "    sorted_data = sorted(zip(parseg_values, intensity_at_specific_t, error_at_specific_t))\n",
    "    parseg_values, intensity_at_specific_t, error_at_specific_t = zip(*sorted_data)\n",
    "\n",
    "    # Fai il fit della retta usando il metodo dei minimi quadrati\n",
    "    params, covariance = curve_fit(linear_fit, parseg_values, intensity_at_specific_t, sigma=error_at_specific_t, absolute_sigma=True)\n",
    "\n",
    "    # Estrai i parametri del fit e le relative incertezze\n",
    "    m_fit, q_fit = params\n",
    "    dm, dq = np.sqrt(np.diag(covariance))\n",
    "\n",
    "    # Calcola l'errore totale sulla retta interpolata a parseg=0\n",
    "    errors = np.sqrt((m_fit * dm)**2 + dq**2)\n",
    "\n",
    "    # Aggiungi il valore interpolato e l'errore alle rispettive liste\n",
    "    values_at_parseg_0.append(linear_fit(0, m_fit, q_fit))\n",
    "    errors_at_parseg_0.append(errors)\n",
    "\n",
    "# Plot dei valori interpolati a parseg=0 nel tempo con errori\n",
    "plt.figure(figsize=(10, 6))\n",
    "plt.errorbar(t_list[0], values_at_parseg_0, yerr=errors_at_parseg_0, marker='o', linestyle='-', color='green', label='Interpolati a parseg=0')\n",
    "plt.xlabel('Tempo (t)')\n",
    "plt.ylabel('Valori interpolati a parseg=0')\n",
    "plt.title('Plot di Valori interpolati a parseg=0 nel tempo con errori (retta)')\n",
    "plt.legend()\n",
    "plt.grid(True)\n",
    "plt.show()\n",
    "\n",
    "# Salva i dati in un file di testo\n",
    "#data_to_save = np.column_stack((t_list[0], values_at_parseg_0, d_t_list[0], errors_at_parseg_0))\n",
    "#np.savetxt('./build/output/n1/' + function + '_0.00_0.0000_0.00_' + Dd + '_1.00_1.00_1.6/parseg0.txt', data_to_save, header='t pow_t_mean d_t pow_error', delimiter='\\t')"
   ]
  },
  {
   "cell_type": "code",
   "execution_count": 36,
   "id": "7a94a3ae-8dcd-415c-b3bb-cc9f2e4a4d30",
   "metadata": {},
   "outputs": [
    {
     "data": {
      "application/vnd.jupyter.widget-view+json": {
       "model_id": "88232bf5fc394b9ca583897be0a93972",
       "version_major": 2,
       "version_minor": 0
      },
      "text/plain": [
       "Canvas(toolbar=Toolbar(toolitems=[('Home', 'Reset original view', 'home', 'home'), ('Back', 'Back to previous …"
      ]
     },
     "metadata": {},
     "output_type": "display_data"
    }
   ],
   "source": [
    "# Carica i dati dai file\n",
    "file_paths = [\n",
    "    './build/output/n1/' + function + '_0.00_0.0000_0.00_' + Dd + '_1.00_1.00_1.6/parseg0.txt',\n",
    "    './build/output/n1/' + function + '_0.00_0.0000_0.00_' + Dd + '_1.00_1.00_1.6/parseg250.txt',\n",
    "    './build/output/n1/' + function + '_0.00_0.0000_0.00_' + Dd + '_1.00_1.00_1.6/parseg500.txt',\n",
    "    './build/output/n1/' + function + '_0.00_0.0000_0.00_' + Dd + '_1.00_1.00_1.6/parseg1000.txt',\n",
    "    './build/output/n1/' + function + '_0.00_0.0000_0.00_' + Dd + '_1.00_1.00_1.6/parseg2000.txt',\n",
    "]\n",
    "\n",
    "data_list = []  # Una lista per memorizzare i dati da ciascun file\n",
    "\n",
    "# Estrai i valori di parseg una sola volta fuori dal loop\n",
    "parseg_values = [int(file_path.split('parseg')[1].split('.txt')[0]) for file_path in file_paths]\n",
    "\n",
    "for file_path, parseg_value in zip(file_paths, parseg_values):\n",
    "    data = np.loadtxt(file_path, delimiter='\\t', skiprows=1)  # Salta la riga dell'intestazione\n",
    "    data_list.append(data)\n",
    "\n",
    "# Estrai le colonne necessarie\n",
    "t_list = [data[:, 0] for data in data_list]\n",
    "pow_t_mean_list = [data[:, 1] for data in data_list]\n",
    "d_t_list = [data[:, 2] for data in data_list]\n",
    "pow_error_list = [data[:, 3] for data in data_list]\n",
    "\n",
    "# Fai il plot dei dati con intensità su scala logaritmica\n",
    "plt.figure(figsize=(10, 6))\n",
    "\n",
    "for i in range(len(file_paths)):\n",
    "    # Usa il colore nero solo quando parseg è uguale a 0\n",
    "    if parseg_values[i] == 0:\n",
    "        plt.errorbar(d_t_list[i], pow_t_mean_list[i], yerr=pow_error_list[i], label=f'parseg {parseg_values[i]}', capsize=5, color='black')\n",
    "    else:\n",
    "        plt.errorbar(d_t_list[i], pow_t_mean_list[i], yerr=pow_error_list[i], label=f'parseg {parseg_values[i]}', capsize=5)\n",
    "\n",
    "plt.xlabel('Dopamine depletion')\n",
    "plt.ylabel('intensità media')\n",
    "plt.yscale('log')\n",
    "plt.title('Dd vs intensity changing parseg')\n",
    "plt.legend()\n",
    "plt.show()"
   ]
  },
  {
   "cell_type": "code",
   "execution_count": 37,
   "id": "29d9ef7d-964b-4abc-acf4-6e212a8a6770",
   "metadata": {},
   "outputs": [
    {
     "data": {
      "application/vnd.jupyter.widget-view+json": {
       "model_id": "0fe0aae2eb91405db891386d9fe16a49",
       "version_major": 2,
       "version_minor": 0
      },
      "text/plain": [
       "Canvas(toolbar=Toolbar(toolitems=[('Home', 'Reset original view', 'home', 'home'), ('Back', 'Back to previous …"
      ]
     },
     "metadata": {},
     "output_type": "display_data"
    }
   ],
   "source": [
    "# Fai il plot dei dati con intensità su scala logaritmica\n",
    "plt.figure(figsize=(10, 6))\n",
    "\n",
    "for i in range(len(file_paths)):\n",
    "    parseg_values = [int(file_path.split('parseg')[1].split('.txt')[0]) for file_path in file_paths]\n",
    "\n",
    "    # Usa il colore nero solo quando parseg è uguale a 0\n",
    "    if parseg_values[i] == 0:\n",
    "        plt.errorbar(t_list[i], pow_t_mean_list[i], yerr=pow_error_list[i], label=f'parseg {parseg_values[i]}', capsize=5, color='black')\n",
    "    else:\n",
    "        plt.errorbar(t_list[i], pow_t_mean_list[i], yerr=pow_error_list[i], label=f'parseg {parseg_values[i]}', capsize=5)\n",
    "\n",
    "plt.xlabel('tempo (s)')\n",
    "plt.ylabel('intensità media')\n",
    "plt.yscale('log')\n",
    "plt.title('time vs intensity changing parseg')\n",
    "plt.legend()\n",
    "plt.show()"
   ]
  },
  {
   "cell_type": "code",
   "execution_count": 38,
   "id": "06bebdab-54be-4f9e-8d9e-6aecd62d29b4",
   "metadata": {},
   "outputs": [
    {
     "data": {
      "application/vnd.jupyter.widget-view+json": {
       "model_id": "d798c60de1764164abb03dc433502e41",
       "version_major": 2,
       "version_minor": 0
      },
      "text/plain": [
       "Canvas(toolbar=Toolbar(toolitems=[('Home', 'Reset original view', 'home', 'home'), ('Back', 'Back to previous …"
      ]
     },
     "metadata": {},
     "output_type": "display_data"
    }
   ],
   "source": [
    "%matplotlib widget\n",
    "\n",
    "# Creare un grafico dei valori nel tempo\n",
    "# Finestra mobile (rolling window) per il calcolo della moving average\n",
    "window_size = 1  # Sostituisci con la dimensione della finestra desiderata\n",
    "moving_avg = np.convolve(pow_t_mean, np.ones(window_size)/window_size, mode='same')\n",
    "\n",
    "# Creare un grafico dei valori nel tempo\n",
    "fig, ax1 = plt.subplots(figsize=(9, 5))\n",
    "\n",
    "pow_t_mean = np.array(pow_t_mean)\n",
    "\n",
    "# Utilizza la funzione errorbar per tracciare i dati con errori associati\n",
    "ax1.errorbar(t, pow_t_mean, yerr=pow_error, fmt='none', capsize=1, color='black', ecolor='black', elinewidth=1)\n",
    "\n",
    "# Plot dei dati originali\n",
    "ax1.plot(t[pow_t_mean >= alpha_mean], pow_t_mean[pow_t_mean >= alpha_mean], '+r', label='Dati sopra \\u03B1')\n",
    "ax1.plot(t, pow_t_mean, label='Intensità media', color='lightblue')\n",
    "ax1.set_yscale('log')\n",
    "\n",
    "# Aggiungi la moving average al grafico di ax1\n",
    "ax1.plot(t, moving_avg, label=f'Moving Average ({window_size}-point)', color='yellow')\n",
    "\n",
    "# Aggiungi il terzo set di dati con errori associati al grafico esistente\n",
    "ax1.errorbar(t_d/1000, pow_t_mean_point, yerr=pow_error_point, fmt='o', label='simulazioni a Dd costante', color='green')\n",
    "\n",
    "# Imposta altre personalizzazioni per il tuo grafico, se necessario\n",
    "plt.xlabel('Tempo [s]')\n",
    "plt.ylabel('Intensità media')\n",
    "plt.legend()  # Assicurati di avere tutte le etichette delle leggende necessarie\n",
    "\n",
    "plt.title(f'Time Series della Media dell\\'Intensità nel Range \\u03B2 per \\u03C4 = {1/sigm_par/1000} [s] nparseg = {parseg}')\n",
    "plt.show()\n"
   ]
  },
  {
   "cell_type": "markdown",
   "id": "650c00f8-28d0-40b8-9158-b1162b000f28",
   "metadata": {},
   "source": [
    "# confronto dd costante e dinamica"
   ]
  },
  {
   "cell_type": "code",
   "execution_count": 39,
   "id": "f289b7a7-12d9-48c2-8606-3380cf921e1b",
   "metadata": {},
   "outputs": [
    {
     "data": {
      "application/vnd.jupyter.widget-view+json": {
       "model_id": "33b9d6314cc8452b869bc541c4117ab5",
       "version_major": 2,
       "version_minor": 0
      },
      "text/plain": [
       "Canvas(toolbar=Toolbar(toolitems=[('Home', 'Reset original view', 'home', 'home'), ('Back', 'Back to previous …"
      ]
     },
     "metadata": {},
     "output_type": "display_data"
    }
   ],
   "source": [
    "%matplotlib widget\n",
    "\n",
    "# Creare un grafico dei valori nel tempo\n",
    "fig, ax1 = plt.subplots(figsize=(9, 5))\n",
    "\n",
    "pow_t_mean = np.array(pow_t_mean)\n",
    "\n",
    "ax1.set_yscale('log')\n",
    "\n",
    "# Aggiungi il terzo set di dati con errori associati al grafico esistente\n",
    "ax1.errorbar(t_list[0], pow_t_mean_list[0], yerr=pow_error_list[0], label=f'parseg {parseg_values[0]}', capsize=5, color='black')\n",
    "ax1.errorbar(t_d/1000, pow_t_mean_point, yerr=pow_error_point, fmt='o', label='simulazioni a Dd costante', color='green')\n",
    "# Imposta altre personalizzazioni per il tuo grafico, se necessario\n",
    "plt.xlabel('Tempo [s]')\n",
    "plt.ylabel('Intensità media')\n",
    "plt.legend()  # Assicurati di avere tutte le etichette delle leggende necessarie\n",
    "\n",
    "plt.title(f'Time Series della Media dell\\'Intensità nel Range \\u03B2 per \\u03C4 = {1/sigm_par/1000} [s]')\n",
    "plt.show()\n"
   ]
  },
  {
   "cell_type": "code",
   "execution_count": 40,
   "id": "c87eb987-77a1-4676-9f67-28f943ba2e58",
   "metadata": {},
   "outputs": [
    {
     "data": {
      "application/vnd.jupyter.widget-view+json": {
       "model_id": "0df991090bf846cabaccd3d56b4e0231",
       "version_major": 2,
       "version_minor": 0
      },
      "text/plain": [
       "Canvas(toolbar=Toolbar(toolitems=[('Home', 'Reset original view', 'home', 'home'), ('Back', 'Back to previous …"
      ]
     },
     "metadata": {},
     "output_type": "display_data"
    }
   ],
   "source": [
    "%matplotlib widget\n",
    "# Creare un grafico dei valori nel tempo\n",
    "# Finestra mobile (rolling window) per il calcolo della moving average\n",
    "window_size = 1  # Sostituisci con la dimensione della finestra desiderata\n",
    "moving_avg = np.convolve(pow_t_mean, np.ones(window_size)/window_size, mode='same')\n",
    "\n",
    "# Creare un grafico dei valori nel tempo\n",
    "fig, ax1 = plt.subplots(figsize = (9,5))\n",
    "\n",
    "pow_t_mean = np.array(pow_t_mean)\n",
    "\n",
    "ax1.set_yscale('log')\n",
    "\n",
    "# Aggiungi il terzo set di dati con errori associati al grafico esistente\n",
    "ax1.errorbar(d_t_list[0], pow_t_mean_list[0], yerr=pow_error_list[0], label=f'parseg {parseg_values[0]}', capsize=5, color='black')\n",
    "ax1.errorbar(Dd_values, pow_t_mean_point, yerr=pow_error_point, fmt='o', label='simulazioni a Dd costante', color='green')\n",
    "\n",
    "# Imposta altre personalizzazioni per il tuo grafico, se necessario\n",
    "plt.xlabel('Dopamine depletion')\n",
    "plt.ylabel('intensità media')\n",
    "plt.legend()  # Assicurati di avere tutte le etichette delle leggende necessarie\n",
    "plt.title(f'Dd vs Intensità nel Range \\u03B2 per \\u03C4 = {1/sigm_par/1000} [s]')\n",
    "plt.show()"
   ]
  },
  {
   "cell_type": "code",
   "execution_count": null,
   "id": "f0b8a8f4-0f95-4d34-b414-3ad3146d4ea3",
   "metadata": {},
   "outputs": [],
   "source": []
  },
  {
   "cell_type": "code",
   "execution_count": null,
   "id": "49b41864-4e0d-436e-9ed1-41273a16f206",
   "metadata": {},
   "outputs": [],
   "source": []
  }
 ],
 "metadata": {
  "kernelspec": {
   "display_name": "Python 3",
   "language": "python",
   "name": "python3"
  },
  "language_info": {
   "codemirror_mode": {
    "name": "ipython",
    "version": 3
   },
   "file_extension": ".py",
   "mimetype": "text/x-python",
   "name": "python",
   "nbconvert_exporter": "python",
   "pygments_lexer": "ipython3",
   "version": "3.8.5"
  }
 },
 "nbformat": 4,
 "nbformat_minor": 5
}
