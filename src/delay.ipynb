{
 "cells": [
  {
   "cell_type": "code",
   "execution_count": 1,
   "id": "55dbc086-aefd-46fc-abf7-01ca5aeeba7b",
   "metadata": {},
   "outputs": [],
   "source": [
    "import python_utils as utils\n",
    "import sys\n",
    "import pickle\n",
    "import matplotlib.pyplot as plt\n",
    "import numpy as np\n",
    "import pandas as pd\n",
    "import os\n",
    "from scipy.optimize import minimize, curve_fit\n",
    "from scipy import stats\n",
    "from statsmodels.stats.multitest import multipletests\n",
    "from scipy.signal import correlate\n",
    "from scipy.interpolate import interp1d\n",
    "\n",
    "%matplotlib inline\n",
    "%config InlineBackend.figure_format = 'svg'\n",
    "\n",
    "plt.rcParams['axes.titlesize'] = 16\n",
    "plt.rcParams['axes.labelsize'] = 15\n",
    "plt.rcParams['legend.fontsize'] = 13\n"
   ]
  },
  {
   "cell_type": "markdown",
   "id": "75a6ccad-2953-426a-9cee-27c7f6266cbe",
   "metadata": {},
   "source": [
    "# SIGMOIDPULSE0_002 t_mid = 13000 duration = 10 s"
   ]
  },
  {
   "cell_type": "code",
   "execution_count": 2,
   "id": "aa79d79e-41a6-47ce-8eca-cdfc11e23ae6",
   "metadata": {},
   "outputs": [],
   "source": [
    "parseg = 250\n",
    "overlap = 0.5\n",
    "\n",
    "neglect_t = 3000\n",
    "t_mid = 13000\n",
    "t_mid2 = 23000\n",
    "sigm_par = 0.002\n",
    "\n",
    "t_tot = 33000\n",
    "\n",
    "dd_low = 0.850\n",
    "\n",
    "function = \"sigmoidpulse\""
   ]
  },
  {
   "cell_type": "code",
   "execution_count": 3,
   "id": "053b717e-a888-45cc-b881-02b667403b5b",
   "metadata": {},
   "outputs": [],
   "source": [
    "sigm_par_poiss = \"{:.5f}\".format(sigm_par)\n",
    "\n",
    "Dd = \"0.950\"\n",
    "subnets = \"STN\"\n",
    "simulations = [str(i) for i in range(32)]\n"
   ]
  },
  {
   "cell_type": "code",
   "execution_count": 4,
   "id": "973dd502-bed2-47a3-a73f-3281d8c5739b",
   "metadata": {},
   "outputs": [
    {
     "name": "stdout",
     "output_type": "stream",
     "text": [
      "[0.85, 0.8525, 0.855, 0.8575, 0.86, 0.8625, 0.865, 0.8675, 0.87, 0.8725, 0.875, 0.8775, 0.88, 0.8825, 0.885, 0.8875, 0.89, 0.8925, 0.895, 0.8975, 0.9, 0.9025, 0.905, 0.9075, 0.91, 0.9125, 0.915, 0.9175, 0.92, 0.9225, 0.925, 0.9275, 0.93, 0.9325, 0.935, 0.9375, 0.94, 0.9425, 0.945, 0.9475, 0.95]\n"
     ]
    }
   ],
   "source": [
    "Dd_values = []\n",
    "current_value = dd_low\n",
    "while current_value <= float(Dd):\n",
    "    Dd_values.append(round(current_value, 4))\n",
    "    current_value += 0.0025\n",
    "\n",
    "print(Dd_values)"
   ]
  },
  {
   "cell_type": "code",
   "execution_count": 5,
   "id": "76b96cc6-519f-46a8-8f14-a1f27204c2db",
   "metadata": {},
   "outputs": [
    {
     "name": "stdout",
     "output_type": "stream",
     "text": [
      "./build/output/n1/sigmoidpulse_13000.00_0.00200_0.00_0.950_1.00_1.00_1.6/\n"
     ]
    }
   ],
   "source": [
    "simulations_folder_path = f\"./build/output/n1/{function}_{t_mid}.00_{sigm_par_poiss}_0.00_{Dd}_1.00_1.00_1.6/\"\n",
    "print(simulations_folder_path)"
   ]
  },
  {
   "cell_type": "markdown",
   "id": "f98713ae-e40f-4c22-9211-858f690870ba",
   "metadata": {},
   "source": [
    "# EXpected PSD"
   ]
  },
  {
   "cell_type": "code",
   "execution_count": 6,
   "id": "39b08602-5398-47c6-8f57-fb6483625b92",
   "metadata": {},
   "outputs": [],
   "source": [
    "####################### SIMULATION EXPECTED DATA #######################################\n",
    "cleaned_path = simulations_folder_path.replace(\"./build/output/n1/\", \"\").replace(\"_1.00_1.00_1.6/\", \"\")\n",
    "filename = f\"power_{cleaned_path}_{parseg}.txt\"\n",
    "\n",
    "power = np.loadtxt(simulations_folder_path + filename, skiprows=1)\n",
    "time = np.arange(0, len(power[0]), 1)"
   ]
  },
  {
   "cell_type": "code",
   "execution_count": 7,
   "id": "f54078df-fd07-4366-a88e-e3a92d275f7c",
   "metadata": {
    "tags": []
   },
   "outputs": [],
   "source": [
    "df_attesi = []\n",
    "\n",
    "for i in range(32):\n",
    "    # Crea un DataFrame con i dati\n",
    "    df_i = pd.DataFrame({'Tempo': time, 'Valore': power[i]})\n",
    "\n",
    "    # Calcola la media mobile e assegna i risultati al tempo centrale\n",
    "    window_size = parseg\n",
    "    df_i['Media_Mobile'] = df_i['Valore'].rolling(window=window_size, center=True).mean()\n",
    "\n",
    "    # Rimuovi le righe con valori mancanti (prime e ultime finestre)\n",
    "    df_i = df_i.dropna()\n",
    "\n",
    "    # Rimuovi i primi neglect_t elementi\n",
    "    df_i = df_i.iloc[neglect_t:]\n",
    "\n",
    "    # Aggiungi il DataFrame alla lista\n",
    "    df_attesi.append(df_i)\n",
    "\n",
    "# Stampa il DataFrame risultante\n",
    "#print(df_attesi)"
   ]
  },
  {
   "cell_type": "code",
   "execution_count": 8,
   "id": "a4105d8b-ee16-4f82-ab84-33c36351bdd0",
   "metadata": {},
   "outputs": [],
   "source": [
    "media = []\n",
    "error = []\n",
    "tt = []\n",
    "\n",
    "for i in range(0, len(df_attesi[0]['Tempo']), int(parseg - parseg*overlap)): # qui metti 0. overlap\n",
    "    media.append(np.mean([df_i['Media_Mobile'].iloc[i] for df_i in df_attesi]))\n",
    "    error.append(np.std([df_i['Media_Mobile'].iloc[i] for df_i in df_attesi]))\n",
    "    tt.append(i + int(parseg*overlap))\n"
   ]
  },
  {
   "cell_type": "code",
   "execution_count": 9,
   "id": "9b841090-2813-40bf-bba2-a65bf58958b0",
   "metadata": {
    "tags": []
   },
   "outputs": [],
   "source": [
    "tt = np.array(tt)/1000"
   ]
  },
  {
   "cell_type": "markdown",
   "id": "8ef852a5-b94d-4c2e-a634-eb6837758e21",
   "metadata": {},
   "source": [
    "# Dynamic simulation PSD"
   ]
  },
  {
   "cell_type": "code",
   "execution_count": 10,
   "id": "dbd13e02-1c1a-400b-b547-36c383c7b453",
   "metadata": {},
   "outputs": [],
   "source": [
    "####################### DATI SIMULAZIONE #######################################\n",
    "cleaned_path = simulations_folder_path.replace(\"./build/output/n1/\", \"\").replace(\"_1.00_1.00_1.6/\", \"\")\n",
    "filename = f\"all_pow_t{cleaned_path}_{parseg}.txt\"\n",
    "\n",
    "all_pow_t = np.loadtxt(simulations_folder_path + filename, skiprows=1)\n"
   ]
  },
  {
   "cell_type": "code",
   "execution_count": 11,
   "id": "969be4d0-b8d8-4414-823a-f03005f2a811",
   "metadata": {},
   "outputs": [],
   "source": [
    "pow_t_mean = np.mean(all_pow_t, axis=0)\n",
    "pow_error = np.std(all_pow_t, axis=0)\n",
    "\n",
    "num_elements = len(pow_t_mean)\n",
    "t = np.linspace(parseg*overlap/1000, num_elements * parseg*overlap/1000, num_elements)\n"
   ]
  },
  {
   "cell_type": "markdown",
   "id": "b2a70ac8-c07b-4d3f-bd63-327b0b6526f6",
   "metadata": {},
   "source": [
    "# Delay error"
   ]
  },
  {
   "cell_type": "code",
   "execution_count": 12,
   "id": "95bd859d-29d1-4d95-80f4-0be128674947",
   "metadata": {},
   "outputs": [],
   "source": [
    "%matplotlib widget\n",
    "# Definizione della funzione sigmoide\n",
    "def sigmoidpulse_fit(x, sigm_par, t_1, t_2, up, down):\n",
    "    return up + 1 / (1 + np.exp(-sigm_par * (x - t_1))) * (down - up) - 1 / (1 + np.exp(-sigm_par * (x - t_2))) * (down - up) \n",
    "\n",
    "# Valori iniziali per i parametri del fit\n",
    "initial_guess = [sigm_par, t_mid -neglect_t, t_mid2-neglect_t, 0.26, 0]"
   ]
  },
  {
   "cell_type": "code",
   "execution_count": 13,
   "id": "9109f497-cd3b-40a2-b220-64cb47844eb8",
   "metadata": {},
   "outputs": [],
   "source": [
    "ttt = np.arange(0,t_tot - neglect_t,1)/1000"
   ]
  },
  {
   "cell_type": "code",
   "execution_count": 14,
   "id": "aa589899-bc81-4cf3-ac2e-3a03ee25ff33",
   "metadata": {},
   "outputs": [],
   "source": [
    "params2, covariance2 = curve_fit(sigmoidpulse_fit, tt*1000, media, p0=initial_guess, sigma=error)\n",
    "y_fit2 = sigmoidpulse_fit(ttt*1000, params2[0], params2[1], params2[2], params2[3], params2[4]) "
   ]
  },
  {
   "cell_type": "code",
   "execution_count": 15,
   "id": "fe78d78d-9f54-4bc8-a706-850b6108457f",
   "metadata": {},
   "outputs": [],
   "source": [
    "cross_corr = []\n",
    "all_delay = []"
   ]
  },
  {
   "cell_type": "code",
   "execution_count": 16,
   "id": "fc759f46-a3e1-4787-a165-c08e67c5f72f",
   "metadata": {},
   "outputs": [
    {
     "name": "stdout",
     "output_type": "stream",
     "text": [
      "Lag corrispondente al massimo: 81\n",
      "Lag corrispondente al massimo: 113\n",
      "Lag corrispondente al massimo: 333\n",
      "Lag corrispondente al massimo: -1\n"
     ]
    },
    {
     "data": {
      "application/vnd.jupyter.widget-view+json": {
       "model_id": "8045889173a249e797581f47415ba28b",
       "version_major": 2,
       "version_minor": 0
      },
      "text/plain": [
       "Canvas(toolbar=Toolbar(toolitems=[('Home', 'Reset original view', 'home', 'home'), ('Back', 'Back to previous …"
      ]
     },
     "metadata": {},
     "output_type": "display_data"
    },
    {
     "name": "stdout",
     "output_type": "stream",
     "text": [
      "Lag corrispondente al massimo: 320\n",
      "Lag corrispondente al massimo: 268\n",
      "Lag corrispondente al massimo: -13\n",
      "Lag corrispondente al massimo: 283\n",
      "Lag corrispondente al massimo: 68\n",
      "Lag corrispondente al massimo: 326\n",
      "Lag corrispondente al massimo: 234\n",
      "Lag corrispondente al massimo: 279\n",
      "Lag corrispondente al massimo: 206\n",
      "Lag corrispondente al massimo: 772\n",
      "Lag corrispondente al massimo: -412\n",
      "Lag corrispondente al massimo: 205\n",
      "Lag corrispondente al massimo: 264\n",
      "Lag corrispondente al massimo: -51\n",
      "Lag corrispondente al massimo: 17\n",
      "Lag corrispondente al massimo: 118\n",
      "Lag corrispondente al massimo: 755\n",
      "Lag corrispondente al massimo: 409\n",
      "Lag corrispondente al massimo: -36\n",
      "Lag corrispondente al massimo: -12\n",
      "Lag corrispondente al massimo: 54\n",
      "Lag corrispondente al massimo: -63\n",
      "Lag corrispondente al massimo: 177\n",
      "Lag corrispondente al massimo: 144\n",
      "Lag corrispondente al massimo: 480\n",
      "Lag corrispondente al massimo: 767\n",
      "Lag corrispondente al massimo: 463\n",
      "Lag corrispondente al massimo: 653\n"
     ]
    }
   ],
   "source": [
    "for i in range(32):\n",
    "\n",
    "    # Creazione dell'oggetto di interpolazione\n",
    "    interpolator1 = interp1d(t[:], all_pow_t[i], kind='linear', fill_value=\"extrapolate\")\n",
    "    interpolator2 = interp1d(t[:], media, kind='linear', fill_value=\"extrapolate\")\n",
    "\n",
    "    # Applicazione dell'interpolatore ai 30000 punti\n",
    "    pow_t_mean_interpolated1 = interpolator1(ttt)\n",
    "    pow_t_mean_interpolated2 = interpolator2(ttt)\n",
    "\n",
    "\n",
    "\n",
    "    #mi concentro sulle parti in pendenza metti 3 per lente e 8 per veloci\n",
    "    width = 3.1 / sigm_par /1000\n",
    "    # Converti t_1 e t_2 in secondi per corrispondere a `ttt`\n",
    "    t_1_sec = params2[1] / 1000\n",
    "    t_2_sec = params2[2] / 1000\n",
    "\n",
    "    # Calcola gli intervalli\n",
    "    interval_1 = [t_1_sec - width, t_1_sec + width]\n",
    "    interval_2 = [t_2_sec - width, t_2_sec + width]\n",
    "\n",
    "\n",
    "    # Funzione per estrarre un segmento data una serie temporale e un intervallo\n",
    "    def extract_segment(time_series, t_values, interval):\n",
    "        mask = (t_values >= interval[0]) & (t_values <= interval[1])\n",
    "        return time_series[mask]\n",
    "\n",
    "    segment_1_pow = extract_segment(pow_t_mean_interpolated1, ttt, interval_1)\n",
    "    segment_2_pow = extract_segment(pow_t_mean_interpolated1, ttt, interval_2)\n",
    "\n",
    "    segment_1_fit = extract_segment(pow_t_mean_interpolated2, ttt, interval_1)\n",
    "    segment_2_fit = extract_segment(pow_t_mean_interpolated2, ttt, interval_2)\n",
    "\n",
    "\n",
    "    #tiling procedure\n",
    "    ripetizioni = 100\n",
    "    concatenated_pow = np.concatenate([segment_1_pow, segment_2_pow] * ripetizioni)\n",
    "    concatenated_fit = np.concatenate([segment_1_fit, segment_2_fit] * ripetizioni)\n",
    "    \n",
    "    if i == 4:\n",
    "        %matplotlib widget\n",
    "        plt.figure(figsize=(10, 6))\n",
    "        plt.plot( concatenated_pow, label='Simulated PSD')\n",
    "        plt.plot( concatenated_fit, label='Expected PSD')\n",
    "        #plt.title(f' for Interval around {params2[1]:.0f}')\n",
    "        plt.ylabel('Mean β PSD [u.a.]')\n",
    "        plt.xlabel('Time [ms]')\n",
    "        plt.xlim(0,width*4000)\n",
    "        plt.legend()\n",
    "        plt.grid(True)\n",
    "        plt.show()\n",
    "\n",
    "\n",
    "    cross_corr_3 = correlate(concatenated_pow - np.mean(concatenated_pow), concatenated_fit - np.mean(concatenated_fit), mode='full', method='auto')\n",
    "    lags_3 = np.arange(-len(concatenated_pow) + 1, len(concatenated_fit))\n",
    "\n",
    "    # Filtra l'array dei lag per considerare solo quelli tra 0 e 500\n",
    "    indices_within_range = (lags_3 >= -2000) & (lags_3 <= 2000)\n",
    "    filtered_lags = lags_3[indices_within_range]\n",
    "    filtered_cross_corr = cross_corr_3[indices_within_range]\n",
    "\n",
    "    # Trova l'indice del valore massimo di cross-correlazione nel sottoinsieme filtrato\n",
    "    max_corr_index_filtered = np.argmax(filtered_cross_corr)\n",
    "\n",
    "    # Usa questo indice per trovare il corrispondente valore di lag\n",
    "    delay = filtered_lags[max_corr_index_filtered]\n",
    "    \n",
    "    cross_corr.append(filtered_cross_corr)\n",
    "    all_delay.append(delay)\n",
    "\n",
    "    # Stampa il lag corrispondente al massimo nella cross-correlazione, limitato all'intervallo specificato\n",
    "    print(\"Lag corrispondente al massimo:\", delay)"
   ]
  },
  {
   "cell_type": "code",
   "execution_count": 17,
   "id": "b375012e-2cee-4cb6-a27e-a41e8f90809e",
   "metadata": {},
   "outputs": [
    {
     "data": {
      "application/vnd.jupyter.widget-view+json": {
       "model_id": "957ce12b7a264886a4651d7e7e6da8c5",
       "version_major": 2,
       "version_minor": 0
      },
      "text/plain": [
       "Canvas(toolbar=Toolbar(toolitems=[('Home', 'Reset original view', 'home', 'home'), ('Back', 'Back to previous …"
      ]
     },
     "metadata": {},
     "output_type": "display_data"
    }
   ],
   "source": [
    "delay = round(np.mean(all_delay))\n",
    "mean_cross_corr = np.mean(cross_corr, axis=0)/ripetizioni\n",
    "std_cross_corr = np.std(cross_corr, axis=0)/ripetizioni\n",
    "\n",
    "# Crea la figura e gli assi una volta\n",
    "plt.figure(figsize=(9, 6))\n",
    "\n",
    "# Traccia l'andamento medio\n",
    "plt.plot(filtered_lags, mean_cross_corr, label='Cross-Correlation')\n",
    "plt.scatter(delay, mean_cross_corr[filtered_lags == delay], color='red', zorder=5) \n",
    "# Aggiungi l'errore sfumato come banda di confidenza\n",
    "plt.fill_between(filtered_lags, mean_cross_corr - std_cross_corr, mean_cross_corr + std_cross_corr, color='gray', alpha=0.5, label='Standard deviation of the mean')\n",
    "\n",
    "# Imposta le etichette e i limiti dell'asse\n",
    "plt.xlabel('Lag [ms]')\n",
    "plt.ylabel('Cross-Correlation')\n",
    "plt.xlim(-2000, 2000)\n",
    "plt.ylim(0)\n",
    "plt.grid(True)\n",
    "\n",
    "# Aggiungi una legenda per chiarire i componenti del grafico\n",
    "plt.legend(loc='upper left')\n",
    "\n",
    "# Mostra il grafico\n",
    "plt.show()\n"
   ]
  },
  {
   "cell_type": "code",
   "execution_count": 18,
   "id": "52b6f3d5-3983-42d2-a0b0-06fd7dcf4a57",
   "metadata": {},
   "outputs": [
    {
     "name": "stdout",
     "output_type": "stream",
     "text": [
      "delay: 225 ± 16.0\n"
     ]
    }
   ],
   "source": [
    "std_value_approx = np.round(std_cross_corr[filtered_lags == delay])[0]\n",
    "\n",
    "# Stampiamo il valore approssimato\n",
    "print(\"delay:\", delay ,\"±\", std_value_approx)"
   ]
  },
  {
   "cell_type": "code",
   "execution_count": 19,
   "id": "055f3203-c459-42b1-8f42-f01797c14b94",
   "metadata": {},
   "outputs": [
    {
     "data": {
      "application/vnd.jupyter.widget-view+json": {
       "model_id": "8a7c6e6cf65344cfa334d559a76ec28a",
       "version_major": 2,
       "version_minor": 0
      },
      "text/plain": [
       "Canvas(toolbar=Toolbar(toolitems=[('Home', 'Reset original view', 'home', 'home'), ('Back', 'Back to previous …"
      ]
     },
     "metadata": {},
     "output_type": "display_data"
    }
   ],
   "source": [
    "%matplotlib widget\n",
    "# Creare un grafico dei valori nel tempo\n",
    "fig, ax1 = plt.subplots(figsize=(12, 5))\n",
    "\n",
    "# Utilizza la funzione errorbar per tracciare i dati con errori associati\n",
    "ax1.errorbar(t, pow_t_mean, yerr=pow_error, fmt='none', capsize=1, color='black', ecolor='black', elinewidth=1)\n",
    "\n",
    "# Plot dei dati originali\n",
    "ax1.plot(t, pow_t_mean, label='Intensità simulazione', color='orange')\n",
    "#ax1.set_yscale('log')\n",
    "\n",
    "# Aggiungi il terzo set di dati traslati\n",
    "plt.errorbar(tt + delay/1000, media, yerr=error, fmt='o', label='Media Mobile con errore')#errore non shiftato??????\n",
    "\n",
    "\n",
    "# Etichette e legenda per l'asse x e y\n",
    "ax1.set_xlabel('Time [s] [s]')\n",
    "ax1.set_ylabel('Intensità media')\n",
    "ax1.legend()  # Assicurati di avere tutte le etichette delle leggende necessarie\n",
    "\n",
    "plt.title(f'Intensità nel Range β per τ = {1/sigm_par/1000} [s] nparseg = {parseg}')\n",
    "plt.show()"
   ]
  },
  {
   "cell_type": "markdown",
   "id": "7b623a66-4450-4f5a-9970-0abe5ad2d700",
   "metadata": {},
   "source": [
    "## Traslo pulse atteso e ricalcolo intensità attesa"
   ]
  },
  {
   "cell_type": "code",
   "execution_count": 20,
   "id": "b337307c-e65c-442b-805f-1f94276e162c",
   "metadata": {},
   "outputs": [],
   "source": [
    "power_shift = []\n",
    "for i in range(32):\n",
    "    p = np.roll(power[i], round(delay))\n",
    "    power_shift.append(p)"
   ]
  },
  {
   "cell_type": "code",
   "execution_count": 21,
   "id": "803c9425-985f-430c-bfce-14aaf971cc1d",
   "metadata": {},
   "outputs": [],
   "source": [
    "all_pow_t_transposed = list(zip(*all_pow_t))"
   ]
  },
  {
   "cell_type": "code",
   "execution_count": 22,
   "id": "3844a073-10ab-4c59-a60e-8a02e9d5a301",
   "metadata": {
    "tags": []
   },
   "outputs": [],
   "source": [
    "df_attesi = []\n",
    "\n",
    "for i in range(32):\n",
    "    # Crea un DataFrame con i dati\n",
    "    df_i = pd.DataFrame({'Tempo': time[i], 'Valore': power_shift[i]})\n",
    "\n",
    "    # Calcola la media mobile e assegna i risultati al tempo centrale\n",
    "    window_size = parseg\n",
    "    df_i['Media_Mobile'] = df_i['Valore'].rolling(window=window_size, center=True).mean()\n",
    "\n",
    "    # Rimuovi le righe con valori mancanti (prime e ultime finestre)\n",
    "    df_i = df_i.dropna()\n",
    "\n",
    "    # Rimuovi i primi neglect_t elementi\n",
    "    df_i = df_i.iloc[neglect_t:]\n",
    "\n",
    "    # Aggiungi il DataFrame alla lista\n",
    "    df_attesi.append(df_i)\n",
    "\n",
    "# Stampa il DataFrame risultante\n",
    "#print(df_attesi)"
   ]
  },
  {
   "cell_type": "code",
   "execution_count": 23,
   "id": "015f069d-169f-4c94-be48-15c90232c950",
   "metadata": {},
   "outputs": [],
   "source": [
    "media_s = []\n",
    "error_s = []\n",
    "tt = []\n",
    "\n",
    "for i in range(0, len(df_attesi[0]['Tempo']), int(parseg - parseg*overlap)): # qui metti 0. overlap\n",
    "    media_s.append(np.mean([df_i['Media_Mobile'].iloc[i] for df_i in df_attesi]))\n",
    "    error_s.append(np.std([df_i['Media_Mobile'].iloc[i] for df_i in df_attesi]))\n",
    "    tt.append(i + int(parseg*overlap))\n",
    "\n",
    "\n",
    "tt = np.array(tt)/1000"
   ]
  },
  {
   "cell_type": "code",
   "execution_count": 24,
   "id": "451fded4-ab02-4a7f-b449-9b62ff246554",
   "metadata": {
    "tags": []
   },
   "outputs": [],
   "source": [
    "pow_attesa_shift = []\n",
    "for i in range(0, len(df_attesi[0]['Tempo']), int(parseg - parseg*overlap)): # qui metti 0. overlap\n",
    "    pow_attesa_shift.append([df_i['Media_Mobile'].iloc[i] for df_i in df_attesi])"
   ]
  },
  {
   "cell_type": "code",
   "execution_count": 25,
   "id": "6c95b853-9e5c-4ab8-ae31-72f89144e921",
   "metadata": {},
   "outputs": [],
   "source": [
    "# Esegui il test t indipendente (two-sample t-test)\n",
    "t_statistic = []\n",
    "p_value = []\n",
    "for i in range(len(pow_attesa_shift)):\n",
    "    ts, v = stats.ttest_ind(all_pow_t_transposed[i], pow_attesa_shift[i])\n",
    "    t_statistic.append(ts)\n",
    "    p_value.append(v)\n"
   ]
  },
  {
   "cell_type": "code",
   "execution_count": 26,
   "id": "98518f3f-a370-4a42-ac8f-7506543b8697",
   "metadata": {},
   "outputs": [],
   "source": [
    "p_=multipletests(p_value, alpha=0.05, method='fdr_bh', maxiter=1, is_sorted=False, returnsorted=False)"
   ]
  },
  {
   "cell_type": "code",
   "execution_count": 27,
   "id": "278d591f-e693-4324-be1a-b7aceae602e0",
   "metadata": {},
   "outputs": [
    {
     "data": {
      "application/vnd.jupyter.widget-view+json": {
       "model_id": "c1f65f845c4b4aa7930b400a83772263",
       "version_major": 2,
       "version_minor": 0
      },
      "text/plain": [
       "Canvas(toolbar=Toolbar(toolitems=[('Home', 'Reset original view', 'home', 'home'), ('Back', 'Back to previous …"
      ]
     },
     "metadata": {},
     "output_type": "display_data"
    }
   ],
   "source": [
    "# %matplotlib widget\n",
    "\n",
    "# Crea un array di valori temporali\n",
    "time_values = np.arange(parseg*overlap/1000, len(p_value) * parseg*overlap/1000 + parseg*overlap/1000, parseg*overlap/1000)\n",
    "\n",
    "# Creare le figure per i p-values\n",
    "fig, (axPvalue1, axPvalue2) = plt.subplots(nrows=2, ncols=1, figsize=(12, 10))\n",
    "\n",
    "# Plot per la prima figura\n",
    "axPvalue1.plot(time_values, pow_t_mean, marker='o', color='orange', markerfacecolor='black', label='Dynamic simulation β PSD')\n",
    "axPvalue1.errorbar(t, pow_t_mean, yerr=pow_error, fmt='none', capsize=1, color='black', ecolor='black', elinewidth=1)\n",
    "axPvalue1.errorbar(tt + delay/1000, media, yerr=error, fmt='o', label='expected Mean β PSD')\n",
    "\n",
    "true_indices = np.where(p_[0])[0]\n",
    "if true_indices.size > 0:  # Controlla se true_indices contiene almeno un elemento\n",
    "    axPvalue1.axvline(x=time_values[true_indices[0]], color='green', alpha=0.2, label='p-value < 0.05')\n",
    "    for index in true_indices:\n",
    "        axPvalue1.axvline(x=time_values[index], color='green', alpha=0.2)\n",
    "\n",
    "axPvalue1.text(0.01, 0.95, '(a)', transform=axPvalue1.transAxes, fontsize=16, fontweight='bold', va='top')\n",
    "\n",
    "#axPvalue1.set_yscale('log')\n",
    "axPvalue1.set_ylabel('Mean β PSD [u.a.]')\n",
    "axPvalue1.set_title(f'Simulation and expected values with delay vs P-value  τ = {1/sigm_par/1000} [s] $y_L$ = {10*(dd_low - 0.85):.2f}')# nparseg = {parseg}')\n",
    "axPvalue1.legend()\n",
    "\n",
    "# Plot per la seconda figura\n",
    "axPvalue2.plot(time_values, p_[1], marker='.', linestyle='-', markerfacecolor='black', label='P-values')\n",
    "axPvalue2.set_yscale('log')\n",
    "axPvalue2.axhline(y=0.05, color='red', linestyle='-', label='0.05 threshold')\n",
    "\n",
    "if true_indices.size > 0:  # Ripete il controllo per la seconda figura\n",
    "    axPvalue2.axvline(x=time_values[true_indices[0]], color='green', alpha=0.2, label='p-value < 0.05')\n",
    "    for index in true_indices:\n",
    "        axPvalue2.axvline(x=time_values[index], color='green', alpha=0.2)\n",
    "\n",
    "axPvalue2.text(0.01, 0.95, '(b)', transform=axPvalue2.transAxes, fontsize=16, fontweight='bold', va='top')\n",
    "\n",
    "axPvalue2.set_xlabel('Time [s]')\n",
    "axPvalue2.set_ylabel('P-value')\n",
    "axPvalue2.legend()\n",
    "\n",
    "# Mostra le figure\n",
    "plt.tight_layout()\n",
    "plt.show()\n"
   ]
  },
  {
   "cell_type": "code",
   "execution_count": null,
   "id": "fb8a3531-112f-4265-9c00-5b59d71921ce",
   "metadata": {},
   "outputs": [],
   "source": []
  }
 ],
 "metadata": {
  "kernelspec": {
   "display_name": "Python 3",
   "language": "python",
   "name": "python3"
  },
  "language_info": {
   "codemirror_mode": {
    "name": "ipython",
    "version": 3
   },
   "file_extension": ".py",
   "mimetype": "text/x-python",
   "name": "python",
   "nbconvert_exporter": "python",
   "pygments_lexer": "ipython3",
   "version": "3.8.5"
  }
 },
 "nbformat": 4,
 "nbformat_minor": 5
}
