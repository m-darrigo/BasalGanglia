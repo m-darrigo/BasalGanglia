{
 "cells": [
  {
   "cell_type": "code",
   "execution_count": 1,
   "id": "fa01731e",
   "metadata": {},
   "outputs": [],
   "source": [
    "import python_utils as utils\n",
    "import sys\n",
    "import pickle\n",
    "import matplotlib.pyplot as plt\n",
    "import numpy as np\n",
    "import os\n",
    "import re\n",
    "\n",
    "%matplotlib inline\n",
    "%config InlineBackend.figure_format = 'svg'\n",
    "\n",
    "plt.rcParams['axes.titlesize'] = 16\n",
    "plt.rcParams['axes.labelsize'] = 15\n",
    "plt.rcParams['legend.fontsize'] = 13\n"
   ]
  },
  {
   "cell_type": "code",
   "execution_count": 2,
   "id": "e91d1627",
   "metadata": {},
   "outputs": [],
   "source": [
    "#messo n_parseg = 150 e sembra avere senso lo spettrogramma anche se non sono 100 come nell'articolo\n",
    "parseg = 250\n",
    "neglect_t = 3000\n",
    "function = \"flat\"\n",
    "subnets = \"STN\"\n",
    "sigm_par = float('inf')\n",
    "\n",
    "#new_function = re.sub(r\"[^0-9]\", \"\", function) #lascia solo numero funzione"
   ]
  },
  {
   "cell_type": "markdown",
   "id": "5cd36606-463a-42ad-965a-e093d65217de",
   "metadata": {},
   "source": [
    "# Trovare $\\alpha$"
   ]
  },
  {
   "cell_type": "code",
   "execution_count": 3,
   "id": "a5d5ff29",
   "metadata": {},
   "outputs": [],
   "source": [
    "Dd = \"0.9500\""
   ]
  },
  {
   "cell_type": "code",
   "execution_count": 4,
   "id": "ce579a43",
   "metadata": {},
   "outputs": [],
   "source": [
    "#funzione Dd\n",
    "data1 = np.loadtxt(\"./build/output/n1/\" + function + \"_0.00_0.00000_0.00_\" + Dd + \"_1.00_1.00_1.6/0/ext_rateD2.txt\").T\n",
    "#spikesim\n",
    "s1 = utils.SpikeSim(\"./build/output/n1/\" + function + \"_0.00_0.00000_0.00_\" + Dd + \"_1.00_1.00_1.6/0\", 'new_sim_parallel.yaml', neglect_t, np.max(data1[0]))"
   ]
  },
  {
   "cell_type": "code",
   "execution_count": 5,
   "id": "d0da12b6",
   "metadata": {},
   "outputs": [
    {
     "name": "stdout",
     "output_type": "stream",
     "text": [
      "nparseg = 250\tnoverlap=125\n"
     ]
    }
   ],
   "source": [
    "alpha1, alpha3 = s1.threshold(pop=subnets, N_parseg=parseg)"
   ]
  },
  {
   "cell_type": "code",
   "execution_count": 6,
   "id": "a06f9f0f",
   "metadata": {},
   "outputs": [
    {
     "name": "stdout",
     "output_type": "stream",
     "text": [
      "1.349591348704985 0.3502194468379441\n"
     ]
    }
   ],
   "source": [
    "print(alpha1, alpha3)"
   ]
  },
  {
   "cell_type": "code",
   "execution_count": null,
   "id": "79035c91-dad4-4f23-9955-93008633d925",
   "metadata": {},
   "outputs": [],
   "source": []
  },
  {
   "cell_type": "code",
   "execution_count": 7,
   "id": "78e92254",
   "metadata": {},
   "outputs": [],
   "source": [
    "Dd = \"0.8500\""
   ]
  },
  {
   "cell_type": "code",
   "execution_count": 8,
   "id": "8c6218f3",
   "metadata": {},
   "outputs": [],
   "source": [
    "#funzione Dd\n",
    "data2 = np.loadtxt(\"./build/output/n1/\" + function + \"_0.00_0.00000_0.00_\" + Dd + \"_1.00_1.00_1.6/0/ext_rateD2.txt\").T\n",
    "#spikesim\n",
    "s2 = utils.SpikeSim(\"./build/output/n1/\" + function + \"_0.00_0.00000_0.00_\" + Dd + \"_1.00_1.00_1.6/0\", 'new_sim_parallel.yaml', neglect_t, np.max(data2[0]))"
   ]
  },
  {
   "cell_type": "code",
   "execution_count": 9,
   "id": "d701ff31",
   "metadata": {},
   "outputs": [
    {
     "name": "stdout",
     "output_type": "stream",
     "text": [
      "nparseg = 250\tnoverlap=125\n"
     ]
    }
   ],
   "source": [
    "alpha2, alpha4 = s2.threshold(pop=subnets, N_parseg=parseg)"
   ]
  },
  {
   "cell_type": "code",
   "execution_count": 10,
   "id": "00bdeda1",
   "metadata": {},
   "outputs": [
    {
     "name": "stdout",
     "output_type": "stream",
     "text": [
      "0.052611029228205916 0.02671846869324434\n"
     ]
    }
   ],
   "source": [
    "print(alpha2, alpha4)"
   ]
  },
  {
   "cell_type": "code",
   "execution_count": 11,
   "id": "e2563fce-5304-4c33-ba3c-eaebc9f6fd67",
   "metadata": {},
   "outputs": [
    {
     "name": "stdout",
     "output_type": "stream",
     "text": [
      "1.349591348704985\n",
      "0.052611029228205916\n",
      "0.3502194468379441\n",
      "0.02671846869324434\n"
     ]
    }
   ],
   "source": [
    "print(alpha1)\n",
    "print(alpha2)\n",
    "print(alpha3)\n",
    "print(alpha4)"
   ]
  },
  {
   "cell_type": "code",
   "execution_count": 12,
   "id": "54959617",
   "metadata": {},
   "outputs": [
    {
     "name": "stdout",
     "output_type": "stream",
     "text": [
      "0.7011011889665955\n"
     ]
    }
   ],
   "source": [
    "alpha = (alpha1 + alpha2)/2\n",
    "print(alpha)"
   ]
  },
  {
   "cell_type": "code",
   "execution_count": 13,
   "id": "de111fe9-8150-4c67-a22a-ec8f67bf3d1e",
   "metadata": {},
   "outputs": [
    {
     "name": "stdout",
     "output_type": "stream",
     "text": [
      "0.18846895776559422\n"
     ]
    }
   ],
   "source": [
    "alpha_mean = (alpha3 + alpha4)/2\n",
    "print(alpha_mean)"
   ]
  },
  {
   "cell_type": "markdown",
   "id": "473838fb-de56-45f7-adbb-24b1240df2b4",
   "metadata": {},
   "source": [
    "# SIGMOIDPULSE k2"
   ]
  },
  {
   "cell_type": "code",
   "execution_count": 14,
   "id": "cf267565-f0a8-42b5-ae0c-66ee35245e1f",
   "metadata": {},
   "outputs": [],
   "source": [
    "parseg = 250\n",
    "overlap = 0.5\n",
    "\n",
    "neglect_t = 3000\n",
    "t_mid = 13000\n",
    "t_mid2 = 23000\n",
    "sigm_par = 0.002\n",
    "\n",
    "t_tot = 33000\n",
    "\n",
    "dd_low = 0.850"
   ]
  },
  {
   "cell_type": "code",
   "execution_count": 15,
   "id": "309da428-4bb5-4e56-8a40-6c12d10685a9",
   "metadata": {},
   "outputs": [],
   "source": [
    "sigm_par_poiss = \"{:.5f}\".format(sigm_par)\n",
    "function = \"sigmoidpulse\"\n",
    "Dd = \"0.950\"\n",
    "subnets = \"STN\"\n",
    "simulations = [str(i) for i in range(32)]\n"
   ]
  },
  {
   "cell_type": "code",
   "execution_count": 16,
   "id": "d46647ca-9767-4c74-aaf5-24411a32d2d7",
   "metadata": {},
   "outputs": [],
   "source": [
    "#funzione Dd\n",
    "data = np.loadtxt(f\"./build/output/n1/{function}_{t_mid}.00_{sigm_par_poiss}_0.00_{Dd}_1.00_1.00_1.6/0/ext_rateD2.txt\").T\n",
    "#spikesim\n",
    "s = utils.SpikeSim(f\"./build/output/n1/{function}_{t_mid}.00_{sigm_par_poiss}_0.00_{Dd}_1.00_1.00_1.6/0\", 'new_sim_parallel.yaml', neglect_t, np.max(data[0]))"
   ]
  },
  {
   "cell_type": "code",
   "execution_count": 17,
   "id": "f162778c-d67c-44d1-87fe-e24145af462f",
   "metadata": {},
   "outputs": [
    {
     "name": "stdout",
     "output_type": "stream",
     "text": [
      "nparseg = 250\tnoverlap=125\n",
      "frequenza del massimo: 16.5\n",
      "valore del massimo: 160.33015874960208\n"
     ]
    }
   ],
   "source": [
    "output=s.periodogram(pop=subnets, res=1., N_parseg=parseg)\n",
    "f = output[0]\n",
    "t = output[1]\n",
    "Sxx = output[2]\n",
    "data[0] = data[0]/1000\n",
    "data[1] = data[1]/1.083\n",
    "\n",
    "\n",
    "# faccio somma nel tempo per trovare frequenza max #######################################################\n",
    "sum1 = np.sum(Sxx, axis=1) #somma per tutte frequenze\n",
    "\n",
    "# Ottieni l'indice del massimo della funzione\n",
    "max_index = np.argmax(sum1)\n",
    "max_value = sum1[max_index]\n",
    "print('frequenza del massimo:', f[max_index])\n",
    "print('valore del massimo:', max_value)\n"
   ]
  },
  {
   "cell_type": "code",
   "execution_count": 19,
   "id": "81550553-2c44-4797-a12f-0e7ff13f1e3c",
   "metadata": {},
   "outputs": [
    {
     "data": {
      "application/vnd.jupyter.widget-view+json": {
       "model_id": "6ef1a2be6a364d998b450c77e64bc0ac",
       "version_major": 2,
       "version_minor": 0
      },
      "text/plain": [
       "Canvas(toolbar=Toolbar(toolitems=[('Home', 'Reset original view', 'home', 'home'), ('Back', 'Back to previous …"
      ]
     },
     "metadata": {},
     "output_type": "display_data"
    }
   ],
   "source": [
    "%matplotlib widget\n",
    "\n",
    "mask = (8 <= f) & (f <= 26)\n",
    "Sxx_lim = Sxx[mask, :]\n",
    "# Calculate the mean power values over time\n",
    "pow_t = [np.mean(Sxx_lim[:, i]) for i in range(len(t))]\n",
    "\n",
    "# Using a rolling window to calculate the moving average\n",
    "window_size = 2  # Replace with your desired window size\n",
    "kernel = np.ones(window_size) / window_size\n",
    "\n",
    "# Apply symmetric padding at the beginning and end of the pow_t array\n",
    "pad_length = window_size // 2\n",
    "pow_t_padded = np.pad(pow_t, (pad_length, pad_length), 'symmetric')\n",
    "\n",
    "moving_avg = np.convolve(pow_t_padded, kernel, mode='same')\n",
    "\n",
    "# Remove the padding from the moving average to match the original pow_t length\n",
    "moving_avg = moving_avg[pad_length:-pad_length]\n",
    "\n",
    "# Create a plot of the values over time\n",
    "fig, ax1 = plt.subplots(figsize=(12, 5))\n",
    "\n",
    "# Convert pow_t to a numpy array for boolean indexing\n",
    "pow_t = np.array(pow_t)\n",
    "\n",
    "ax1.axhline(y=alpha_mean, color='red', linestyle='-', label='threshold α')\n",
    "#ax1.plot(t[pow_t >= alpha_mean], pow_t[pow_t >= alpha_mean], 'r+', markersize=10, markeredgewidth=2, label='indices belonging to burst')\n",
    "ax1.fill_between(t, alpha_mean, pow_t, where=(pow_t >= alpha_mean), color='red', alpha=0.3, label='Bursts')\n",
    "\n",
    "ax1.plot(t, pow_t, label='Average intensity')\n",
    "\n",
    "# Add the moving average to ax1's plot\n",
    "#ax1.plot(t, moving_avg, label=f'Moving Average ({window_size}-point)', color='orange')\n",
    "\n",
    "plt.xlabel('Time [s]')\n",
    "plt.ylabel('Mean β PSD')\n",
    "plt.legend()\n",
    "\n",
    "plt.title(f'Bursts in Pulse τ = {1/sigm_par/1000} [s]')\n",
    "plt.show()\n"
   ]
  },
  {
   "cell_type": "code",
   "execution_count": 20,
   "id": "1ee97759-962e-4ead-8335-35e437cc86b7",
   "metadata": {},
   "outputs": [
    {
     "name": "stdout",
     "output_type": "stream",
     "text": [
      "number of burst, length of every burst, mean length: (11, [6, 4, 2, 16, 6, 11, 6, 6, 16, 2, 42], 10.636363636363637)\n",
      "number of burst:  11\n",
      "length of every burst:  [0.75  0.5   0.25  2.    0.75  1.375 0.75  0.75  2.    0.25  5.25 ] s\n",
      "Average burst duration: 1.33 s\n",
      "Burst fraction: 49.0 %\n",
      "Burst frequency: 0.37 burst/s\n"
     ]
    }
   ],
   "source": [
    "bursts = utils.burst_sequence((pow_t>=alpha_mean)*1)\n",
    "b_durations = np.array(bursts[1])\n",
    "print(bursts)\n",
    "print('number of burst: ',bursts[0])\n",
    "print('length of every burst: ',b_durations*parseg/2000,'s')\n",
    "print('Average burst duration: {:.2f} s'.format(bursts[2]*parseg/2000))\n",
    "print('Burst fraction: {:.1f} %'.format(np.sum(b_durations)*100/len(pow_t)))\n",
    "print('Burst frequency: {:.2f} burst/s'.format(bursts[0]/(t_tot - neglect_t)*1000))\n"
   ]
  },
  {
   "cell_type": "markdown",
   "id": "42ab8f48-4f5b-4432-b68a-af4e1ac7af28",
   "metadata": {},
   "source": [
    "# PULSE "
   ]
  },
  {
   "cell_type": "code",
   "execution_count": 21,
   "id": "57cf13c6-7f79-4d3b-8e72-9c605a05c823",
   "metadata": {},
   "outputs": [],
   "source": [
    "parseg = 250\n",
    "overlap = 0.5\n",
    "\n",
    "neglect_t = 1250 #multipli di parseg/2\n",
    "t_mid = 1400\n",
    "t_mid2 = 2400\n",
    "sigm_par = 0.05\n",
    "\n",
    "t_tot = 3000\n",
    "\n",
    "dd_low = 0.850\n",
    "\n",
    "function = \"burst2\""
   ]
  },
  {
   "cell_type": "code",
   "execution_count": 22,
   "id": "86718841-c295-4da7-99bd-0998fbab2f97",
   "metadata": {},
   "outputs": [],
   "source": [
    "sigm_par_poiss = \"{:.5f}\".format(sigm_par)\n",
    "Dd = \"0.950\"\n",
    "subnets = \"STN\"\n",
    "simulations = [str(i) for i in range(32)]\n"
   ]
  },
  {
   "cell_type": "code",
   "execution_count": 23,
   "id": "505b4e45-561d-4d3a-a642-b21c77676df0",
   "metadata": {},
   "outputs": [
    {
     "name": "stdout",
     "output_type": "stream",
     "text": [
      "nparseg = 250\tnoverlap=125\n",
      "nparseg = 250\tnoverlap=125\n",
      "nparseg = 250\tnoverlap=125\n",
      "nparseg = 250\tnoverlap=125\n",
      "nparseg = 250\tnoverlap=125\n",
      "nparseg = 250\tnoverlap=125\n",
      "nparseg = 250\tnoverlap=125\n",
      "nparseg = 250\tnoverlap=125\n",
      "nparseg = 250\tnoverlap=125\n",
      "nparseg = 250\tnoverlap=125\n",
      "nparseg = 250\tnoverlap=125\n",
      "nparseg = 250\tnoverlap=125\n",
      "nparseg = 250\tnoverlap=125\n",
      "nparseg = 250\tnoverlap=125\n",
      "nparseg = 250\tnoverlap=125\n",
      "nparseg = 250\tnoverlap=125\n",
      "nparseg = 250\tnoverlap=125\n",
      "nparseg = 250\tnoverlap=125\n",
      "nparseg = 250\tnoverlap=125\n",
      "nparseg = 250\tnoverlap=125\n",
      "nparseg = 250\tnoverlap=125\n",
      "nparseg = 250\tnoverlap=125\n",
      "nparseg = 250\tnoverlap=125\n",
      "nparseg = 250\tnoverlap=125\n",
      "nparseg = 250\tnoverlap=125\n",
      "nparseg = 250\tnoverlap=125\n",
      "nparseg = 250\tnoverlap=125\n",
      "nparseg = 250\tnoverlap=125\n",
      "nparseg = 250\tnoverlap=125\n",
      "nparseg = 250\tnoverlap=125\n",
      "nparseg = 250\tnoverlap=125\n",
      "nparseg = 250\tnoverlap=125\n"
     ]
    }
   ],
   "source": [
    "%matplotlib widget\n",
    "output = []\n",
    "s = []\n",
    "for simulation in simulations:\n",
    "    ss = utils.SpikeSim(f\"./build/output/n1/{function}_{t_mid}.00_{sigm_par_poiss}_0.00_{Dd}_1.00_1.00_1.6/{simulation}\", 'new_sim_parallel.yaml', neglect_t, 3000)\n",
    "    s.append(ss)\n",
    "    output_s=ss.periodogram(pop=subnets, res=1., N_parseg=parseg)\n",
    "    output.append(output_s)"
   ]
  },
  {
   "cell_type": "code",
   "execution_count": 24,
   "id": "76603453-2747-4b7a-ae14-2823fe287c60",
   "metadata": {},
   "outputs": [],
   "source": [
    "data = np.loadtxt(f\"./build/output/n1/{function}_{t_mid}.00_{sigm_par_poiss}_0.00_{Dd}_1.00_1.00_1.6/0/ext_rateD2.txt\").T\n",
    "\n",
    "data[0] = data[0]/1000\n",
    "data[1] = data[1]/1.083\n",
    "\n",
    "t_dd = data[0][(10*neglect_t):] - data[0][10*neglect_t]\n",
    "dd = data[1][(10*neglect_t):] - data[1][10*neglect_t]"
   ]
  },
  {
   "cell_type": "code",
   "execution_count": 25,
   "id": "d71fce6d-6e08-4525-8f4d-56dae9571737",
   "metadata": {},
   "outputs": [],
   "source": [
    "t_d = np.array(t_dd)\n",
    "d = np.array(dd)"
   ]
  },
  {
   "cell_type": "code",
   "execution_count": 26,
   "id": "59ed6dd8-c11e-47c2-9a12-06a2ebbff0f2",
   "metadata": {},
   "outputs": [],
   "source": [
    "for i in range(1, len(output)):\n",
    "    t_d = np.concatenate((t_d, t_dd[:-1] + t_dd[-1]*i))\n",
    "    d = np.concatenate((d, dd[:-1]))\n"
   ]
  },
  {
   "cell_type": "code",
   "execution_count": 27,
   "id": "92792649-78aa-4991-9982-34a2d3263b0e",
   "metadata": {},
   "outputs": [],
   "source": [
    "f = output[0][0]  # Presumibilmente, f è lo stesso per tutte le simulazioni\n",
    "t = np.array(output[0][1])\n",
    "Sxx = output[0][2]\n",
    "\n",
    "for i in range(1, len(output)):\n",
    "    t = np.concatenate((t, output[i][1] + t[-1] + parseg/2/1000))\n",
    "    Sxx = np.concatenate((Sxx, output[i][2]), axis=1)"
   ]
  },
  {
   "cell_type": "code",
   "execution_count": 28,
   "id": "ad1fbe4a-ac7c-4f30-ac40-a0ab75e1f988",
   "metadata": {},
   "outputs": [
    {
     "data": {
      "application/vnd.jupyter.widget-view+json": {
       "model_id": "6c3563ae135d4d92a8af395ea2ae98bf",
       "version_major": 2,
       "version_minor": 0
      },
      "text/plain": [
       "Canvas(toolbar=Toolbar(toolitems=[('Home', 'Reset original view', 'home', 'home'), ('Back', 'Back to previous …"
      ]
     },
     "metadata": {},
     "output_type": "display_data"
    }
   ],
   "source": [
    " %matplotlib widget\n",
    "# Applica la maschera e definisci Sxx_lim e f_lim come prima\n",
    "mask = (8 <= f) & (f <= 26)\n",
    "Sxx_lim = Sxx[mask, :]\n",
    "f_lim = f[mask]\n",
    "\n",
    "# Calcola i valori medi della potenza nel tempo\n",
    "pow_t = [np.mean(Sxx_lim[:, i]) for i in range(len(t))]\n",
    "pow_t = np.array(pow_t)  # Converti in un array NumPy\n",
    "\n",
    "# Crea una figura e tre assi\n",
    "fig, (ax1, ax2, ax3) = plt.subplots(3, 1, figsize=(11, 13), sharex=True)\n",
    "\n",
    "# Primo plot: Contour plot di Sxx_lim\n",
    "ax1.contourf(t, f_lim, Sxx_lim)\n",
    "ax1.set_ylabel('Frequency [Hz]')\n",
    "ax1.set_title(f'Sequence of β bursts')\n",
    "ax1.text(0.01, 0.95, '(a)', transform=ax1.transAxes, fontsize=16, fontweight='bold', va='top')\n",
    "\n",
    "# Secondo plot: PSD media sopra alpha_mean\n",
    "ax2.axhline(y=alpha_mean, color='red', linestyle='-', label='threshold α')\n",
    "#ax2.plot(t[pow_t >= alpha_mean], pow_t[pow_t >= alpha_mean], 'r+', markersize=10, markeredgewidth=2, label='indices belonging to burst')\n",
    "ax2.fill_between(t, alpha_mean, pow_t, where=(pow_t >= alpha_mean), color='red', alpha=0.3, label='Bursts')\n",
    "ax2.plot(t, pow_t, label='Mean β PSD')\n",
    "ax2.set_ylabel('Mean β PSD')\n",
    "ax2.text(0.01, 0.8, '(b)', transform=ax2.transAxes, fontsize=16, fontweight='bold', va='top')\n",
    "ax2.legend()\n",
    "\n",
    "# Terzo plot: La tua terza serie di dati\n",
    "ax3.plot(t_d, d*10, color = 'red')\n",
    "ax3.set_xlabel('Time [s]')\n",
    "ax3.set_ylabel('Dopamine depletion y [Dd]')  # Sostituisci 'D' con un'etichetta appropriata per i tuoi dati\n",
    "ax3.text(0.01, 0.95, '(c)', transform=ax3.transAxes, fontsize=16, fontweight='bold', va='top')\n",
    "\n",
    "# Mostra la figura\n",
    "plt.tight_layout()\n",
    "plt.show()\n"
   ]
  },
  {
   "cell_type": "code",
   "execution_count": 29,
   "id": "a02a7943-8b9e-45ac-a23d-ca8705714a7a",
   "metadata": {},
   "outputs": [
    {
     "name": "stdout",
     "output_type": "stream",
     "text": [
      "number of burst, length of every burst, mean length: (24, [3, 4, 4, 4, 5, 5, 5, 5, 2, 3, 4, 4, 4, 2, 6, 5, 4, 3, 2, 3, 6, 3, 4, 6], 4.0)\n",
      "number of burst:  24\n",
      "length of every burst:  [0.375 0.5   0.5   0.5   0.625 0.625 0.625 0.625 0.25  0.375 0.5   0.5\n",
      " 0.5   0.25  0.75  0.625 0.5   0.375 0.25  0.375 0.75  0.375 0.5   0.75 ] s\n",
      "Average burst duration: 0.50 s\n",
      "Burst fraction: 23.1 %\n",
      "Burst frequency: 0.43 burst/s\n"
     ]
    }
   ],
   "source": [
    "bursts = utils.burst_sequence((pow_t>=alpha_mean)*1)\n",
    "b_durations = np.array(bursts[1])\n",
    "print(bursts)\n",
    "print('number of burst: ',bursts[0])\n",
    "print('length of every burst: ',b_durations*parseg/2000,'s')\n",
    "print('Average burst duration: {:.2f} s'.format(bursts[2]*parseg/2000))\n",
    "print('Burst fraction: {:.1f} %'.format(np.sum(b_durations)*100/len(pow_t)))\n",
    "print('Burst frequency: {:.2f} burst/s'.format(bursts[0]/(t_tot - neglect_t)/32*1000))\n"
   ]
  },
  {
   "cell_type": "code",
   "execution_count": null,
   "id": "8013a3ee-5713-49bd-a270-855da0e667e4",
   "metadata": {},
   "outputs": [],
   "source": []
  },
  {
   "cell_type": "code",
   "execution_count": 36,
   "id": "64700704-b655-44c1-9914-e745e24f0e03",
   "metadata": {},
   "outputs": [
    {
     "name": "stdout",
     "output_type": "stream",
     "text": [
      "Average burst time:  0.375 s\n",
      "Burst fraction: 22.06 %\n",
      "Burst frequency: 0.59 burst/s\n"
     ]
    }
   ],
   "source": [
    "#patient values\n",
    "print('Average burst time: ',3*parseg/2000,'s')\n",
    "print('Burst fraction: {:.2f} %'.format(np.sum(3)*100*parseg/2/1700))\n",
    "print('Burst frequency: {:.2f} burst/s'.format(1/(1700)*1000))"
   ]
  }
 ],
 "metadata": {
  "kernelspec": {
   "display_name": "Python 3",
   "language": "python",
   "name": "python3"
  },
  "language_info": {
   "codemirror_mode": {
    "name": "ipython",
    "version": 3
   },
   "file_extension": ".py",
   "mimetype": "text/x-python",
   "name": "python",
   "nbconvert_exporter": "python",
   "pygments_lexer": "ipython3",
   "version": "3.8.5"
  }
 },
 "nbformat": 4,
 "nbformat_minor": 5
}
