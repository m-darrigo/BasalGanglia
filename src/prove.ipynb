{
 "cells": [
  {
   "cell_type": "code",
   "execution_count": 1,
   "id": "fa01731e",
   "metadata": {},
   "outputs": [],
   "source": [
    "import python_utils as utils\n",
    "import sys\n",
    "import pickle\n",
    "import matplotlib.pyplot as plt\n",
    "import numpy as np\n",
    "import os\n",
    "import neurodsp\n",
    "import re\n",
    "%matplotlib inline\n",
    "%config InlineBackend.figure_format = 'svg'"
   ]
  },
  {
   "cell_type": "code",
   "execution_count": null,
   "id": "8dceaaa6",
   "metadata": {},
   "outputs": [],
   "source": []
  },
  {
   "cell_type": "code",
   "execution_count": 2,
   "id": "0378f753",
   "metadata": {},
   "outputs": [],
   "source": [
    "b=np.array([0, 0, 0, 0, 0, 0, 0, 0, 1, 1, 1, 1, 1, 0, 0, 0, 0, 1, 0, 1, 1, 0, 0, 0, 0, 0, 0, 0, 0, 0, 1, 1, 1, 1, 1, 0, 1, 1, 0, 0, 0, 0, 1, 0, 1, 1, 0, 0, 1, 1, 1, 1, 1, 0])"
   ]
  },
  {
   "cell_type": "code",
   "execution_count": 3,
   "id": "f2a2b972",
   "metadata": {},
   "outputs": [
    {
     "name": "stdout",
     "output_type": "stream",
     "text": [
      "[0 0 0 0 0 0 0 0 1 1 1 1 1 0 0 0 0 1 0 1 1 0 0 0 0 0 0 0 0 0 1 1 1 1 1 0 1\n",
      " 1 0 0 0 0 1 0 1 1 0 0 1 1 1 1 1 0]\n"
     ]
    }
   ],
   "source": [
    "print(b)"
   ]
  },
  {
   "cell_type": "code",
   "execution_count": 4,
   "id": "2ae05fde",
   "metadata": {},
   "outputs": [
    {
     "name": "stdout",
     "output_type": "stream",
     "text": [
      "numero di burst, lunghezza di ogni burst, lunghezza media:\n",
      "(2, [13, 24], 18.5)\n"
     ]
    }
   ],
   "source": [
    "new_seq = utils.burst_sequence(b)\n",
    "print(new_seq)"
   ]
  },
  {
   "cell_type": "code",
   "execution_count": 5,
   "id": "f782f7e7",
   "metadata": {},
   "outputs": [],
   "source": [
    "def burst(sequenza):\n",
    "    #questa funzione inizia contando gli 1 e poi alterna\n",
    "    conteggi = []\n",
    "    count = 1\n",
    "    prev_element = sequenza[0]\n",
    "    \n",
    "    #controlla se il primo elemento è 0 o 1\n",
    "    if prev_element == 0:\n",
    "        start_count = 0\n",
    "    else:\n",
    "        start_count = 1\n",
    "    \n",
    "    #itera su sequenza a partire dal secondo elemento\n",
    "    for element in sequenza[1:]:\n",
    "        if element == prev_element:\n",
    "            count += 1\n",
    "        else:\n",
    "            conteggi.append(count)\n",
    "            count = 1\n",
    "            prev_element = element\n",
    "    \n",
    "    conteggi.append(count)\n",
    "    \n",
    "    #se il primo elemento è 0 inserisci conteggio iniziale come 0\n",
    "    if start_count == 0:\n",
    "        conteggi.insert(0, 0)\n",
    "        \n",
    "    return conteggi"
   ]
  },
  {
   "cell_type": "code",
   "execution_count": 6,
   "id": "4492b744",
   "metadata": {},
   "outputs": [
    {
     "data": {
      "text/plain": [
       "[0, 8, 5, 4, 1, 1, 2, 9, 5, 1, 2, 4, 1, 1, 2, 2, 5, 1]"
      ]
     },
     "execution_count": 6,
     "metadata": {},
     "output_type": "execute_result"
    }
   ],
   "source": [
    "c=burst(b)\n",
    "burst(b)"
   ]
  },
  {
   "cell_type": "code",
   "execution_count": 7,
   "id": "91841449",
   "metadata": {},
   "outputs": [],
   "source": [
    "def burst1(sequenza):\n",
    "    count = 0\n",
    "    burst = False\n",
    "    index = 0\n",
    "    blen = 0\n",
    "    lunghezza = []\n",
    "    \n",
    "    for element in sequenza[:]:\n",
    "        if (index % 2) == 0:\n",
    "            if element >= 5:\n",
    "                burst = True\n",
    "        \n",
    "        if (index % 2) == 1:\n",
    "            if element >= 5:\n",
    "                if burst == True:\n",
    "                    burst = False\n",
    "                    count += 1  \n",
    "                    lunghezza.append(blen)\n",
    "                    blen = 0\n",
    "                    \n",
    "        index += 1\n",
    "        if burst == True:\n",
    "            blen = blen + element\n",
    "    else:\n",
    "        if burst == True:\n",
    "            count += 1\n",
    "            lunghezza.append(blen)\n",
    "            \n",
    "    print('numero di burst, lunghezza di ogni burst, lunghezza media:')\n",
    "    avarage = sum(lunghezza)/count\n",
    "    \n",
    "    return count, lunghezza, avarage"
   ]
  },
  {
   "cell_type": "code",
   "execution_count": 8,
   "id": "b21e769e",
   "metadata": {},
   "outputs": [
    {
     "name": "stdout",
     "output_type": "stream",
     "text": [
      "numero di burst, lunghezza di ogni burst, lunghezza media:\n",
      "numero di burst, lunghezza di ogni burst, lunghezza media:\n"
     ]
    },
    {
     "data": {
      "text/plain": [
       "(2, [13, 24], 18.5)"
      ]
     },
     "execution_count": 8,
     "metadata": {},
     "output_type": "execute_result"
    }
   ],
   "source": [
    "d=burst1(c)\n",
    "burst1(c)"
   ]
  },
  {
   "cell_type": "code",
   "execution_count": null,
   "id": "df3941e7",
   "metadata": {},
   "outputs": [],
   "source": []
  }
 ],
 "metadata": {
  "kernelspec": {
   "display_name": "Python 3 (ipykernel)",
   "language": "python",
   "name": "python3"
  },
  "language_info": {
   "codemirror_mode": {
    "name": "ipython",
    "version": 3
   },
   "file_extension": ".py",
   "mimetype": "text/x-python",
   "name": "python",
   "nbconvert_exporter": "python",
   "pygments_lexer": "ipython3",
   "version": "3.10.7"
  }
 },
 "nbformat": 4,
 "nbformat_minor": 5
}
