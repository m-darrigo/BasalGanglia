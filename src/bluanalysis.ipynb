{
 "cells": [
  {
   "cell_type": "code",
   "execution_count": 1,
   "id": "55dbc086-aefd-46fc-abf7-01ca5aeeba7b",
   "metadata": {},
   "outputs": [],
   "source": [
    "import python_utils as utils\n",
    "import sys\n",
    "import pickle\n",
    "import matplotlib.pyplot as plt\n",
    "import numpy as np\n",
    "import pandas as pd\n",
    "import os\n",
    "from scipy.optimize import minimize, curve_fit\n",
    "from scipy import stats\n",
    "from statsmodels.stats.multitest import multipletests\n",
    "from scipy.signal import correlate\n",
    "from scipy.interpolate import interp1d\n",
    "\n",
    "%matplotlib inline\n",
    "%config InlineBackend.figure_format = 'svg'\n",
    "\n",
    "plt.rcParams['axes.titlesize'] = 16\n",
    "plt.rcParams['axes.labelsize'] = 15\n",
    "plt.rcParams['legend.fontsize'] = 13\n"
   ]
  },
  {
   "cell_type": "markdown",
   "id": "75a6ccad-2953-426a-9cee-27c7f6266cbe",
   "metadata": {},
   "source": [
    "# SIGMOIDPULSE0_002 t_mid = 13000 duration = 10 s"
   ]
  },
  {
   "cell_type": "code",
   "execution_count": 2,
   "id": "aa79d79e-41a6-47ce-8eca-cdfc11e23ae6",
   "metadata": {},
   "outputs": [],
   "source": [
    "parseg = 250\n",
    "overlap = 0.5\n",
    "\n",
    "neglect_t = 3000\n",
    "t_mid = 13000\n",
    "t_mid2 = 2300\n",
    "sigm_par = 0.002\n",
    "\n",
    "t_tot = 33000\n",
    "\n",
    "dd_low = 0.850\n",
    "\n",
    "function = \"sigmoidpulse\""
   ]
  },
  {
   "cell_type": "code",
   "execution_count": 3,
   "id": "053b717e-a888-45cc-b881-02b667403b5b",
   "metadata": {},
   "outputs": [],
   "source": [
    "sigm_par_poiss = \"{:.5f}\".format(sigm_par)\n",
    "\n",
    "Dd = \"0.950\"\n",
    "subnets = \"STN\"\n",
    "simulations = [str(i) for i in range(32)]\n"
   ]
  },
  {
   "cell_type": "code",
   "execution_count": 4,
   "id": "973dd502-bed2-47a3-a73f-3281d8c5739b",
   "metadata": {},
   "outputs": [
    {
     "name": "stdout",
     "output_type": "stream",
     "text": [
      "[0.85, 0.8525, 0.855, 0.8575, 0.86, 0.8625, 0.865, 0.8675, 0.87, 0.8725, 0.875, 0.8775, 0.88, 0.8825, 0.885, 0.8875, 0.89, 0.8925, 0.895, 0.8975, 0.9, 0.9025, 0.905, 0.9075, 0.91, 0.9125, 0.915, 0.9175, 0.92, 0.9225, 0.925, 0.9275, 0.93, 0.9325, 0.935, 0.9375, 0.94, 0.9425, 0.945, 0.9475, 0.95]\n"
     ]
    }
   ],
   "source": [
    "Dd_values = []\n",
    "current_value = dd_low\n",
    "while current_value <= float(Dd):\n",
    "    Dd_values.append(round(current_value, 4))\n",
    "    current_value += 0.0025\n",
    "\n",
    "print(Dd_values)"
   ]
  },
  {
   "cell_type": "code",
   "execution_count": 5,
   "id": "76b96cc6-519f-46a8-8f14-a1f27204c2db",
   "metadata": {},
   "outputs": [
    {
     "name": "stdout",
     "output_type": "stream",
     "text": [
      "./build/output/n1/sigmoidpulse_13000.00_0.00200_0.00_0.950_1.00_1.00_1.6/\n"
     ]
    }
   ],
   "source": [
    "simulations_folder_path = f\"./build/output/n1/{function}_{t_mid}.00_{sigm_par_poiss}_0.00_{Dd}_1.00_1.00_1.6/\"\n",
    "print(simulations_folder_path)"
   ]
  },
  {
   "cell_type": "markdown",
   "id": "f98713ae-e40f-4c22-9211-858f690870ba",
   "metadata": {},
   "source": [
    "# EXpected PSD"
   ]
  },
  {
   "cell_type": "code",
   "execution_count": 6,
   "id": "39b08602-5398-47c6-8f57-fb6483625b92",
   "metadata": {},
   "outputs": [],
   "source": [
    "####################### DATI SIMULAZIONE #######################################\n",
    "cleaned_path = simulations_folder_path.replace(\"./build/output/n1/\", \"\").replace(\"_1.00_1.00_1.6/\", \"\")\n",
    "filename = f\"power_{cleaned_path}_{parseg}.txt\"\n",
    "\n",
    "power = np.loadtxt(simulations_folder_path + filename, skiprows=1)\n",
    "time = np.arange(0, len(power[0]), 1)"
   ]
  },
  {
   "cell_type": "code",
   "execution_count": 7,
   "id": "f54078df-fd07-4366-a88e-e3a92d275f7c",
   "metadata": {
    "tags": []
   },
   "outputs": [],
   "source": [
    "df_attesi = []\n",
    "\n",
    "for i in range(32):\n",
    "    # Crea un DataFrame con i dati\n",
    "    df_i = pd.DataFrame({'Tempo': time, 'Valore': power[i]})\n",
    "\n",
    "    # Calcola la media mobile e assegna i risultati al tempo centrale\n",
    "    window_size = parseg\n",
    "    df_i['Media_Mobile'] = df_i['Valore'].rolling(window=window_size, center=True).mean()\n",
    "\n",
    "    # Rimuovi le righe con valori mancanti (prime e ultime finestre)\n",
    "    df_i = df_i.dropna()\n",
    "\n",
    "    # Rimuovi i primi neglect_t elementi\n",
    "    df_i = df_i.iloc[neglect_t:]\n",
    "\n",
    "    # Aggiungi il DataFrame alla lista\n",
    "    df_attesi.append(df_i)\n",
    "\n",
    "# Stampa il DataFrame risultante\n",
    "#print(df_attesi)"
   ]
  },
  {
   "cell_type": "code",
   "execution_count": 8,
   "id": "a4105d8b-ee16-4f82-ab84-33c36351bdd0",
   "metadata": {},
   "outputs": [],
   "source": [
    "media = []\n",
    "error = []\n",
    "tt = []\n",
    "\n",
    "for i in range(0, len(df_attesi[0]['Tempo']), int(parseg - parseg*overlap)): # qui metti 0. overlap\n",
    "    media.append(np.mean([df_i['Media_Mobile'].iloc[i] for df_i in df_attesi]))\n",
    "    error.append(np.std([df_i['Media_Mobile'].iloc[i] for df_i in df_attesi]))\n",
    "    tt.append(i + int(parseg*overlap))\n"
   ]
  },
  {
   "cell_type": "code",
   "execution_count": 9,
   "id": "9b841090-2813-40bf-bba2-a65bf58958b0",
   "metadata": {
    "tags": []
   },
   "outputs": [
    {
     "data": {
      "application/vnd.jupyter.widget-view+json": {
       "model_id": "ba81020174784f459ed4f8bea3b2655d",
       "version_major": 2,
       "version_minor": 0
      },
      "text/plain": [
       "Canvas(toolbar=Toolbar(toolitems=[('Home', 'Reset original view', 'home', 'home'), ('Back', 'Back to previous …"
      ]
     },
     "metadata": {},
     "output_type": "display_data"
    }
   ],
   "source": [
    "%matplotlib widget\n",
    "\n",
    "tt = np.array(tt)/1000\n",
    "plt.figure(figsize=(12, 6))\n",
    "plt.errorbar(tt, media, yerr=error, fmt='o')\n",
    "plt.xlabel('Time [s]')\n",
    "plt.ylabel('mean β PSD [u.a.]')\n",
    "plt.title('Pulse expected mean β PSD')\n",
    "plt.show()"
   ]
  },
  {
   "cell_type": "markdown",
   "id": "8ef852a5-b94d-4c2e-a634-eb6837758e21",
   "metadata": {},
   "source": [
    "# Dynamic simulation PSD"
   ]
  },
  {
   "cell_type": "code",
   "execution_count": 10,
   "id": "dbd13e02-1c1a-400b-b547-36c383c7b453",
   "metadata": {},
   "outputs": [],
   "source": [
    "####################### DATI SIMULAZIONE #######################################\n",
    "cleaned_path = simulations_folder_path.replace(\"./build/output/n1/\", \"\").replace(\"_1.00_1.00_1.6/\", \"\")\n",
    "filename = f\"all_pow_t{cleaned_path}_{parseg}.txt\"\n",
    "\n",
    "all_pow_t = np.loadtxt(simulations_folder_path + filename, skiprows=1)\n"
   ]
  },
  {
   "cell_type": "code",
   "execution_count": 11,
   "id": "969be4d0-b8d8-4414-823a-f03005f2a811",
   "metadata": {},
   "outputs": [],
   "source": [
    "pow_t_mean = np.mean(all_pow_t, axis=0)\n",
    "pow_error = np.std(all_pow_t, axis=0)\n",
    "\n",
    "num_elements = len(pow_t_mean)\n",
    "t = np.linspace(parseg*overlap/1000, num_elements * parseg*overlap/1000, num_elements)\n"
   ]
  },
  {
   "cell_type": "markdown",
   "id": "bd5bb807-b3ae-4ddc-82f1-84de92c9290c",
   "metadata": {},
   "source": [
    "## time-pow_t"
   ]
  },
  {
   "cell_type": "code",
   "execution_count": 12,
   "id": "45e95034-fc84-4674-b46d-3977b1a353d0",
   "metadata": {},
   "outputs": [
    {
     "data": {
      "application/vnd.jupyter.widget-view+json": {
       "model_id": "0a02a36123ac406a9629b1e5106625ad",
       "version_major": 2,
       "version_minor": 0
      },
      "text/plain": [
       "Canvas(toolbar=Toolbar(toolitems=[('Home', 'Reset original view', 'home', 'home'), ('Back', 'Back to previous …"
      ]
     },
     "metadata": {},
     "output_type": "display_data"
    }
   ],
   "source": [
    "%matplotlib widget\n",
    "# Creare un grafico dei valori nel tempo\n",
    "fig, ax1 = plt.subplots(figsize=(12, 5))\n",
    "\n",
    "# Utilizza la funzione errorbar per tracciare i dati con errori associati\n",
    "ax1.errorbar(t, pow_t_mean, yerr=pow_error, fmt='none', capsize=1, color='black', ecolor='black', elinewidth=1)\n",
    "\n",
    "# Plot dei dati originali\n",
    "ax1.plot(t, pow_t_mean, color='orange')\n",
    "\n",
    "# Etichette e legenda per l'asse x e y\n",
    "ax1.set_xlabel('Time [s]')\n",
    "ax1.set_ylabel('Mean β PSD [u.a.]')\n",
    "\n",
    "plt.title(f'Mean β PSD for τ = {1/sigm_par/1000} [s]')# nparseg = {parseg}')\n",
    "plt.show()\n"
   ]
  },
  {
   "cell_type": "code",
   "execution_count": 13,
   "id": "bf02198c-2d3a-4d5a-9131-32b7c37fff18",
   "metadata": {},
   "outputs": [
    {
     "data": {
      "application/vnd.jupyter.widget-view+json": {
       "model_id": "042f9f14f66e4efc85e1f16cd68cc1c8",
       "version_major": 2,
       "version_minor": 0
      },
      "text/plain": [
       "Canvas(toolbar=Toolbar(toolitems=[('Home', 'Reset original view', 'home', 'home'), ('Back', 'Back to previous …"
      ]
     },
     "metadata": {},
     "output_type": "display_data"
    }
   ],
   "source": [
    "%matplotlib widget\n",
    "# Creare un grafico dei valori nel tempo\n",
    "fig, ax1 = plt.subplots(figsize=(12, 5))\n",
    "\n",
    "# Utilizza la funzione errorbar per tracciare i dati con errori associati\n",
    "ax1.errorbar(t, pow_t_mean, yerr=pow_error, fmt='none', capsize=1, color='black', ecolor='black', elinewidth=1)\n",
    "\n",
    "# Plot dei dati originali\n",
    "ax1.plot(t, pow_t_mean, label='Dynamic simulation β PSD', color='orange')\n",
    "#ax1.set_yscale('log')\n",
    "\n",
    "# Aggiungi il terzo set di dati con errori associati al grafico esistente\n",
    "plt.errorbar(tt, media, yerr=error, fmt='o', label='Expected PSD')\n",
    "\n",
    "# Etichette e legenda per l'asse x e y\n",
    "ax1.set_xlabel('Time [s]')\n",
    "ax1.set_ylabel('Mean β PSD [u.a.]')\n",
    "ax1.legend()  # Assicurati di avere tutte le etichette delle leggende necessarie\n",
    "\n",
    "plt.title(f'Intensità nel Range β for τ = {1/sigm_par/1000} [s] $y_L$ = {10*(dd_low - 0.85):.2f}')# nparseg = {parseg}')\n",
    "plt.show()\n"
   ]
  },
  {
   "cell_type": "markdown",
   "id": "389cdc2f-a527-4843-9f1b-d1e2ab35adcc",
   "metadata": {},
   "source": [
    "# statistica"
   ]
  },
  {
   "cell_type": "code",
   "execution_count": 14,
   "id": "b5d05c54-2ccd-42aa-82f6-9f869b00e58c",
   "metadata": {
    "tags": []
   },
   "outputs": [],
   "source": [
    "pow_attesa = []\n",
    "for i in range(0, len(df_attesi[0]['Tempo']), int(parseg - parseg*overlap)): # qui metti 0. overlap\n",
    "    pow_attesa.append([df_i['Media_Mobile'].iloc[i] for df_i in df_attesi])"
   ]
  },
  {
   "cell_type": "code",
   "execution_count": 15,
   "id": "0646149d-72ed-43bb-84b6-44871160dccf",
   "metadata": {},
   "outputs": [],
   "source": [
    "all_pow_t_transposed = list(zip(*all_pow_t))"
   ]
  },
  {
   "cell_type": "code",
   "execution_count": 16,
   "id": "cda75981-a2b8-4017-9df6-135dd28c8843",
   "metadata": {},
   "outputs": [],
   "source": [
    "# Esegui il test t indipendente (two-sample t-test)\n",
    "t_statistic = []\n",
    "p_value = []\n",
    "for i in range(len(all_pow_t_transposed)):\n",
    "    ts, v = stats.ttest_ind(all_pow_t_transposed[i], pow_attesa[i])\n",
    "    t_statistic.append(ts)\n",
    "    p_value.append(v)\n"
   ]
  },
  {
   "cell_type": "code",
   "execution_count": 18,
   "id": "9b71225f-4954-41c0-8e87-1cbd8b4bfb75",
   "metadata": {},
   "outputs": [],
   "source": [
    "p_=multipletests(p_value, alpha=0.05, method='fdr_bh', maxiter=1, is_sorted=False, returnsorted=False)"
   ]
  },
  {
   "cell_type": "code",
   "execution_count": 19,
   "id": "302c7ac8-376b-4fef-8f26-47fa85e7d10a",
   "metadata": {},
   "outputs": [
    {
     "data": {
      "application/vnd.jupyter.widget-view+json": {
       "model_id": "628443ccc6fe4a16b214a657f66d1b3a",
       "version_major": 2,
       "version_minor": 0
      },
      "text/plain": [
       "Canvas(toolbar=Toolbar(toolitems=[('Home', 'Reset original view', 'home', 'home'), ('Back', 'Back to previous …"
      ]
     },
     "metadata": {},
     "output_type": "display_data"
    }
   ],
   "source": [
    "# %matplotlib widget\n",
    "\n",
    "# Crea un array di valori temporali\n",
    "time_values = np.arange(parseg*overlap/1000, len(p_value) * parseg*overlap/1000 + parseg*overlap/1000, parseg*overlap/1000)\n",
    "\n",
    "# Creare le figure per i p-values\n",
    "fig, (axPvalue1, axPvalue2) = plt.subplots(nrows=2, ncols=1, figsize=(12, 10))\n",
    "\n",
    "# Plot per la prima figura\n",
    "axPvalue1.plot(time_values, pow_t_mean, marker='o', color='orange', markerfacecolor='black', label='Dynamic simulation β PSD')\n",
    "axPvalue1.errorbar(t, pow_t_mean, yerr=pow_error, fmt='none', capsize=1, color='black', ecolor='black', elinewidth=1)\n",
    "axPvalue1.errorbar(tt, media, yerr=error, fmt='o', label='expected Mean β PSD')\n",
    "\n",
    "true_indices = np.where(p_[0])[0]\n",
    "if true_indices.size > 0:  # Controlla se true_indices contiene almeno un elemento\n",
    "    axPvalue1.axvline(x=time_values[true_indices[0]], color='green', alpha=0.2, label='p-value < 0.05')\n",
    "    for index in true_indices:\n",
    "        axPvalue1.axvline(x=time_values[index], color='green', alpha=0.2)\n",
    "\n",
    "axPvalue1.text(0.01, 0.95, '(a)', transform=axPvalue1.transAxes, fontsize=16, fontweight='bold', va='top')\n",
    "\n",
    "#axPvalue1.set_yscale('log')\n",
    "axPvalue1.set_ylabel('Mean β PSD [u.a.]')\n",
    "axPvalue1.set_title(f'Simulation and expected values vs P-value  τ = {1/sigm_par/1000} [s] $y_L$ = {10*(dd_low - 0.85):.2f}')# nparseg = {parseg}')\n",
    "axPvalue1.legend()\n",
    "\n",
    "# Plot per la seconda figura\n",
    "axPvalue2.plot(time_values, p_[1], marker='.', linestyle='-', markerfacecolor='black', label='P-values')\n",
    "axPvalue2.set_yscale('log')\n",
    "axPvalue2.axhline(y=0.05, color='red', linestyle='-', label='0.05 threshold')\n",
    "\n",
    "if true_indices.size > 0:  # Ripete il controllo per la seconda figura\n",
    "    axPvalue2.axvline(x=time_values[true_indices[0]], color='green', alpha=0.2, label='p-value < 0.05')\n",
    "    for index in true_indices:\n",
    "        axPvalue2.axvline(x=time_values[index], color='green', alpha=0.2)\n",
    "\n",
    "axPvalue2.text(0.01, 0.95, '(b)', transform=axPvalue2.transAxes, fontsize=16, fontweight='bold', va='top')\n",
    "\n",
    "axPvalue2.set_xlabel('Time [s]')\n",
    "axPvalue2.set_ylabel('P-value')\n",
    "axPvalue2.legend()\n",
    "\n",
    "# Mostra le figure\n",
    "plt.tight_layout()\n",
    "plt.show()\n"
   ]
  },
  {
   "cell_type": "code",
   "execution_count": null,
   "id": "193dde65-cc51-4c7b-9787-8956d9a01048",
   "metadata": {},
   "outputs": [],
   "source": []
  }
 ],
 "metadata": {
  "kernelspec": {
   "display_name": "Python 3",
   "language": "python",
   "name": "python3"
  },
  "language_info": {
   "codemirror_mode": {
    "name": "ipython",
    "version": 3
   },
   "file_extension": ".py",
   "mimetype": "text/x-python",
   "name": "python",
   "nbconvert_exporter": "python",
   "pygments_lexer": "ipython3",
   "version": "3.8.5"
  }
 },
 "nbformat": 4,
 "nbformat_minor": 5
}
