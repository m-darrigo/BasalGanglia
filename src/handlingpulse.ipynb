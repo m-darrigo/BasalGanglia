{
 "cells": [
  {
   "cell_type": "code",
   "execution_count": 1,
   "id": "fa01731e",
   "metadata": {},
   "outputs": [],
   "source": [
    "import python_utils as utils\n",
    "import sys\n",
    "import pickle\n",
    "import matplotlib.pyplot as plt\n",
    "import numpy as np\n",
    "import pandas as pd\n",
    "import os\n",
    "import re\n",
    "#%matplotlib inline\n",
    "%config InlineBackend.figure_format = 'svg'"
   ]
  },
  {
   "cell_type": "markdown",
   "id": "b3d5644a-2bc8-4806-be4e-8faba77889b1",
   "metadata": {},
   "source": [
    "# SIGMOIDPULSE0_002 t_mid = 13000 duration = 10 s"
   ]
  },
  {
   "cell_type": "code",
   "execution_count": 2,
   "id": "cd136c97-a678-4f97-b757-d03f773c0815",
   "metadata": {},
   "outputs": [],
   "source": [
    "parseg = 500\n",
    "neglect_t = 3000\n",
    "t_mid = 13000\n",
    "t_mid2 = t_mid + 10000\n",
    "sigm_par = 0.002"
   ]
  },
  {
   "cell_type": "code",
   "execution_count": 3,
   "id": "5efdc483-c034-4322-95c5-a0d54213e920",
   "metadata": {},
   "outputs": [],
   "source": [
    "t_mid_poiss = str(t_mid)\n",
    "sigm_par_poiss = \"{:.5f}\".format(sigm_par)\n",
    "function = \"sigmoidpulse\" + str(format(sigm_par, 'f')).replace('.', '_')\n",
    "while function.endswith('0'):\n",
    "    function = function[:-1]\n",
    "Dd = \"0.950\"\n",
    "subnets = \"STN\"\n",
    "simulations = [str(i) for i in range(32)]\n",
    "\n",
    "new_Dd = Dd.replace('.','_')\n"
   ]
  },
  {
   "cell_type": "markdown",
   "id": "b00809fc-ceb1-4539-bdef-cff185777303",
   "metadata": {},
   "source": [
    "## funzione dell'intensità della sigmoide attesa"
   ]
  },
  {
   "cell_type": "code",
   "execution_count": 4,
   "id": "1ace5aa9-c679-44ff-b4ee-eee82f818827",
   "metadata": {},
   "outputs": [],
   "source": [
    "#parseg 250 0verlap 125\n",
    "Dd_values = [0.85, 0.855, 0.86, 0.865, 0.87, 0.875, 0.88, 0.885, 0.89, 0.895, 0.9, 0.905, 0.91, 0.915, 0.92, 0.925, 0.93, 0.935, 0.94, 0.945, 0.95]\n",
    "pow_t_mean_point = [0.019914247149334242, 0.020690578678315804, 0.02158271146066814, 0.022364914133701584, 0.023428835457957573, 0.025125497868107482, 0.026346934723841548, 0.028828969225659612, 0.03220798123872726, 0.035254298671665026, 0.03867622848014253, 0.04674626548972391, 0.05068805695941251, 0.06606716969376104, 0.08487862320152097, 0.09270422348347553, 0.1322581180913206, 0.15084846176010766, 0.18747180115646506, 0.22419232383889678, 0.2697145569231209]\n",
    "pow_error_point = [0.0019838232642017555, 0.001999857551482696, 0.0021708086191144817, 0.0022749744417916227, 0.002441049902399858, 0.002640832617992426, 0.0027738692999452765, 0.0031292618798778368, 0.0036480613158226044, 0.0040683093611075605, 0.00451842724610424, 0.005668445395626774, 0.006082506534680942, 0.007877499532094852, 0.009638645329156629, 0.010410256249777311, 0.012819346780713003, 0.01291999850097032, 0.014568471805002196, 0.015395217530866883, 0.015333769105628054]\n"
   ]
  },
  {
   "cell_type": "code",
   "execution_count": 5,
   "id": "d29671f8-4251-47c8-8a07-68eeafd146af",
   "metadata": {},
   "outputs": [],
   "source": [
    "Dd_values = Dd_values[::-1] + Dd_values\n",
    "pow_t_mean_point = pow_t_mean_point[::-1] + pow_t_mean_point\n",
    "pow_error_point = pow_error_point[::-1] + pow_error_point"
   ]
  },
  {
   "cell_type": "code",
   "execution_count": 6,
   "id": "c9b0c7e6-472f-433f-8ef4-2161f53f3061",
   "metadata": {
    "tags": []
   },
   "outputs": [],
   "source": [
    "intermediate_points = [round((Dd_values[i] + Dd_values[i + 1]) / 2, 4) for i in range(len(Dd_values) - 1)]\n"
   ]
  },
  {
   "cell_type": "code",
   "execution_count": 7,
   "id": "07c3010f-f272-4fac-b8ba-d7e782b22194",
   "metadata": {},
   "outputs": [],
   "source": [
    "# Inizializza variabile di controllo per il secondo loop\n",
    "start_second_loop = False\n",
    "\n",
    "t_d_int = []\n",
    "t_d_int.append(33000)\n",
    "# Primo loop\n",
    "for x in intermediate_points[:]:\n",
    "    # Controlla se è il momento di iniziare il secondo loop\n",
    "    if x == 0.85:\n",
    "        start_second_loop = True\n",
    "        t_d_int.append((t_mid2 + t_mid)/2)\n",
    "        continue\n",
    "\n",
    "    # Calcola i valori in base alla variabile di controllo\n",
    "    if not start_second_loop:\n",
    "        y = -np.log((0.1) / (x - 0.85) - 1) / sigm_par + t_mid2\n",
    "    else:\n",
    "        y = -np.log((-0.1) / (x - 0.95) - 1) / sigm_par + t_mid\n",
    "\n",
    "    # Aggiungi il valore calcolato a t_d_int\n",
    "    t_d_int.append(y)\n",
    "\n",
    "t_d_int.append(0)\n",
    "\n",
    "t_d_int = np.array(t_d_int)\n",
    "t_d_int = np.round(t_d_int).astype(int)\n"
   ]
  },
  {
   "cell_type": "code",
   "execution_count": 8,
   "id": "90dac27f-be8f-457f-b293-92887f85cd46",
   "metadata": {},
   "outputs": [
    {
     "data": {
      "text/plain": [
       "array([33000, 24832, 24256, 23973, 23775, 23618, 23485, 23365, 23255,\n",
       "       23151, 23050, 22950, 22849, 22745, 22635, 22515, 22382, 22225,\n",
       "       22027, 21744, 21168, 18000, 14832, 14256, 13973, 13775, 13618,\n",
       "       13485, 13365, 13255, 13151, 13050, 12950, 12849, 12745, 12635,\n",
       "       12515, 12382, 12225, 12027, 11744, 11168,     0])"
      ]
     },
     "execution_count": 8,
     "metadata": {},
     "output_type": "execute_result"
    }
   ],
   "source": [
    "t_d_int"
   ]
  },
  {
   "cell_type": "code",
   "execution_count": 9,
   "id": "922b38c6-c710-4e09-bcd9-5851425faab9",
   "metadata": {},
   "outputs": [],
   "source": [
    "pow_t_mean_point_int = pow_t_mean_point.copy()\n",
    "pow_t_mean_point_int.insert(0, pow_t_mean_point_int[0])"
   ]
  },
  {
   "cell_type": "code",
   "execution_count": 10,
   "id": "03b0f032-dae4-4ee1-a0f9-36ab2aa332ae",
   "metadata": {},
   "outputs": [
    {
     "data": {
      "application/vnd.jupyter.widget-view+json": {
       "model_id": "1c8b403e404b4bd2a48e9d9015c8b2fc",
       "version_major": 2,
       "version_minor": 0
      },
      "text/plain": [
       "Canvas(toolbar=Toolbar(toolitems=[('Home', 'Reset original view', 'home', 'home'), ('Back', 'Back to previous …"
      ]
     },
     "metadata": {},
     "output_type": "display_data"
    }
   ],
   "source": [
    "%matplotlib widget\n",
    "def genera_coppie_tempo_intensita(tempo_array, intensita_array):\n",
    "    x = []\n",
    "    y = []\n",
    "    \n",
    "    for tempo in range(tempo_array[-1] + 1):\n",
    "        x.append(tempo)\n",
    "        if np.isin(tempo, tempo_array):\n",
    "            indices = np.where(tempo_array == tempo)[0]\n",
    "            y.append(intensita_array[indices[0]])\n",
    "        else:\n",
    "            y.append(y[-1])  # Ripeti l'ultimo valore di intensita_array se tempo non è presente\n",
    "    \n",
    "    return np.array(x), np.array(y)\n",
    "\n",
    "time, power = genera_coppie_tempo_intensita(t_d_int[::-1], pow_t_mean_point_int[::-1])\n",
    "\n",
    "# Plot dei dati\n",
    "plt.plot(time, power, marker='o')\n",
    "plt.xlabel('Tempo')\n",
    "plt.ylabel('Intensità')\n",
    "plt.title('Andamento Tempo-Intensità')\n",
    "plt.show()\n"
   ]
  },
  {
   "cell_type": "code",
   "execution_count": 11,
   "id": "4b3e3773-1932-4136-84d1-694d24948b92",
   "metadata": {},
   "outputs": [
    {
     "name": "stdout",
     "output_type": "stream",
     "text": [
      "       Tempo    Valore  Media_Mobile\n",
      "3250    3250  0.269715      0.269715\n",
      "3251    3251  0.269715      0.269715\n",
      "3252    3252  0.269715      0.269715\n",
      "3253    3253  0.269715      0.269715\n",
      "3254    3254  0.269715      0.269715\n",
      "...      ...       ...           ...\n",
      "32747  32747  0.269715      0.269715\n",
      "32748  32748  0.269715      0.269715\n",
      "32749  32749  0.269715      0.269715\n",
      "32750  32750  0.269715      0.269715\n",
      "32751  32751  0.269715      0.269715\n",
      "\n",
      "[29502 rows x 3 columns]\n"
     ]
    }
   ],
   "source": [
    "# Crea un DataFrame con i dati\n",
    "df = pd.DataFrame({'Tempo': time, 'Valore': power})\n",
    "\n",
    "# Numero di elementi da considerare per la media mobile\n",
    "window_size = parseg\n",
    "\n",
    "# Calcola la media mobile e assegna i risultati al tempo centrale\n",
    "df['Media_Mobile'] = df['Valore'].rolling(window=window_size, center=True).mean()\n",
    "\n",
    "# Rimuovi le righe con valori mancanti (prime e ultime finestre)\n",
    "df = df.dropna()\n",
    "\n",
    "# Rimuovi i primi neglect_t elementi\n",
    "df = df.iloc[neglect_t:]\n",
    "\n",
    "# Stampa il dataframe risultante\n",
    "print(df)"
   ]
  },
  {
   "cell_type": "code",
   "execution_count": 21,
   "id": "5d5164b1-0377-4ff9-8ad7-e7341d6202cc",
   "metadata": {},
   "outputs": [
    {
     "data": {
      "application/vnd.jupyter.widget-view+json": {
       "model_id": "58dc2449490344ae94eac946123212dd",
       "version_major": 2,
       "version_minor": 0
      },
      "text/plain": [
       "Canvas(toolbar=Toolbar(toolitems=[('Home', 'Reset original view', 'home', 'home'), ('Back', 'Back to previous …"
      ]
     },
     "metadata": {},
     "output_type": "display_data"
    }
   ],
   "source": [
    "%matplotlib widget\n",
    "# Crea un oggetto di figura e un singolo assi\n",
    "fig, ax1 = plt.subplots(figsize=(10, 6))\n",
    "\n",
    "# Plot della media mobile\n",
    "ax1.plot(df['Tempo'].values, df['Media_Mobile'].values, label='Media Mobile', color='blue')\n",
    "\n",
    "# Etichette e legenda per l'asse x e y\n",
    "ax1.set_xlabel('Tempo')\n",
    "ax1.set_ylabel('Media Mobile', color='blue')\n",
    "ax1.tick_params('y', colors='blue')\n",
    "\n",
    "plt.title(f'Media mobile con finestra lunga parseg = {parseg}')\n",
    "# Mostra il plot\n",
    "plt.show()\n"
   ]
  },
  {
   "cell_type": "markdown",
   "id": "2a48bc5a-dabf-4ee7-a37c-496da4d4e5c1",
   "metadata": {},
   "source": [
    "# simulazione SIGMOIDPULSE"
   ]
  },
  {
   "cell_type": "code",
   "execution_count": 13,
   "id": "83d35e56-79eb-4676-ac21-935414356d80",
   "metadata": {},
   "outputs": [],
   "source": [
    "# Inizializza variabile di controllo per il secondo loop\n",
    "start_second_loop = False\n",
    "\n",
    "t_d = []\n",
    "t_d.append(t_mid*2)\n",
    "# Primo loop\n",
    "for x in Dd_values[1:-1]:\n",
    "    # Controlla se è il momento di iniziare il secondo loop\n",
    "    if x == 0.85:\n",
    "        start_second_loop = True\n",
    "        t_d.append((t_mid2 + t_mid)/2)\n",
    "        continue\n",
    "\n",
    "    # Calcola i valori in base alla variabile di controllo\n",
    "    if not start_second_loop:\n",
    "        y = -np.log((0.1) / (x - 0.85) - 1) / sigm_par + t_mid2\n",
    "    else:\n",
    "        y = -np.log((-0.1) / (x - 0.95) - 1) / sigm_par + t_mid\n",
    "\n",
    "    # Aggiungi il valore calcolato a t_d_int\n",
    "    t_d.append(y)\n",
    "\n",
    "t_d.append(t_mid/10 + neglect_t*2.5)\n",
    "\n",
    "t_d = np.array(t_d)\n",
    "t_d = np.round(t_d).astype(int)"
   ]
  },
  {
   "cell_type": "code",
   "execution_count": 14,
   "id": "bc7dec06-a186-41a3-b968-3489f807ded3",
   "metadata": {},
   "outputs": [
    {
     "name": "stdout",
     "output_type": "stream",
     "text": [
      "nparseg = 500\tnoverlap=250\n",
      "nparseg = 500\tnoverlap=250\n",
      "nparseg = 500\tnoverlap=250\n",
      "nparseg = 500\tnoverlap=250\n",
      "nparseg = 500\tnoverlap=250\n",
      "nparseg = 500\tnoverlap=250\n",
      "nparseg = 500\tnoverlap=250\n",
      "nparseg = 500\tnoverlap=250\n",
      "nparseg = 500\tnoverlap=250\n",
      "nparseg = 500\tnoverlap=250\n",
      "nparseg = 500\tnoverlap=250\n",
      "nparseg = 500\tnoverlap=250\n",
      "nparseg = 500\tnoverlap=250\n",
      "nparseg = 500\tnoverlap=250\n",
      "nparseg = 500\tnoverlap=250\n",
      "nparseg = 500\tnoverlap=250\n",
      "nparseg = 500\tnoverlap=250\n",
      "nparseg = 500\tnoverlap=250\n",
      "nparseg = 500\tnoverlap=250\n",
      "nparseg = 500\tnoverlap=250\n",
      "nparseg = 500\tnoverlap=250\n",
      "nparseg = 500\tnoverlap=250\n",
      "nparseg = 500\tnoverlap=250\n",
      "nparseg = 500\tnoverlap=250\n",
      "nparseg = 500\tnoverlap=250\n",
      "nparseg = 500\tnoverlap=250\n",
      "nparseg = 500\tnoverlap=250\n",
      "nparseg = 500\tnoverlap=250\n",
      "nparseg = 500\tnoverlap=250\n",
      "nparseg = 500\tnoverlap=250\n",
      "nparseg = 500\tnoverlap=250\n",
      "nparseg = 500\tnoverlap=250\n"
     ]
    }
   ],
   "source": [
    "%matplotlib inline\n",
    "#funzione Dd\n",
    "data = np.loadtxt(\"./build/output/n1/\" + function + \"_\" + t_mid_poiss + \".00_\" + sigm_par_poiss + \"_0.00_\" + Dd + \"_1.00_1.00_1.6/\" + simulations[0] + \"/ext_rateD2.txt\").T\n",
    "\n",
    "data[0] = data[0]/1000\n",
    "data[1] = data[1]/1.083\n",
    "\n",
    "#check if periodogram folder exists and if not create one\n",
    "#spikesim\n",
    "periodogram_paths = []\n",
    "s = []\n",
    "for simulation in simulations:\n",
    "    periodogram_path = './periodograms/' + Dd.replace('.','_') + '_' + subnets + '_' + function + '_' + simulation\n",
    "    if not os.path.exists(periodogram_path):  #check if periodogram folder exists and if not create one\n",
    "        os.makedirs(periodogram_path) \n",
    "    periodogram_paths.append(periodogram_path)\n",
    "    ss = utils.SpikeSim(\"./build/output/n1/\" + function + \"_\" + t_mid_poiss + \".00_\" + sigm_par_poiss + \"_0.00_\" + Dd + \"_1.00_1.00_1.6/\" + simulation , 'new_sim_parallel.yaml', neglect_t, np.max(data[0]))\n",
    "    s.append(ss)\n",
    "\n",
    "all_pow_t = []\n",
    "t = []\n",
    "f = []\n",
    "\n",
    "for index,ss in enumerate(s):\n",
    "    output=ss.periodogram(pop=subnets, res=1., N_parseg=parseg, save_img=periodogram_paths[index] + \"/periodogram.png\")\n",
    "\n",
    "    f = output[0]\n",
    "    t = output[1]\n",
    "    Sxx = output[2]\n",
    "\n",
    "    mask = (8 <= f) & (f <= 26)\n",
    "    Sxx_lim = Sxx[mask,:]\n",
    "    f_lim = f[mask]\n",
    "\n",
    "    pow_t = []\n",
    "    for i in range (len(t)):\n",
    "        pow_t.append(np.mean(Sxx_lim[:,i]))\n",
    "\n",
    "    all_pow_t.append(pow_t)\n",
    "\n",
    "\n",
    "np.vstack(all_pow_t)\n",
    "pow_t_mean = np.mean(all_pow_t, axis=0)\n",
    "pow_error = np.std(all_pow_t, axis=0)/np.sqrt(len(simulations))"
   ]
  },
  {
   "cell_type": "markdown",
   "id": "a76eb26d-e51f-4da0-a80b-845ec8b73809",
   "metadata": {},
   "source": [
    "## time-pow_t"
   ]
  },
  {
   "cell_type": "code",
   "execution_count": 18,
   "id": "d115f5ff-ea53-449a-96ce-901a2c2ece8c",
   "metadata": {},
   "outputs": [
    {
     "data": {
      "application/vnd.jupyter.widget-view+json": {
       "model_id": "818ff8221fc64b93a5da854716f01091",
       "version_major": 2,
       "version_minor": 0
      },
      "text/plain": [
       "Canvas(toolbar=Toolbar(toolitems=[('Home', 'Reset original view', 'home', 'home'), ('Back', 'Back to previous …"
      ]
     },
     "metadata": {},
     "output_type": "display_data"
    }
   ],
   "source": [
    "%matplotlib widget\n",
    "import matplotlib.pyplot as plt\n",
    "\n",
    "# Creare un grafico dei valori nel tempo\n",
    "fig, ax1 = plt.subplots(figsize=(9, 5))\n",
    "\n",
    "# Utilizza la funzione errorbar per tracciare i dati con errori associati\n",
    "ax1.errorbar(t, pow_t_mean, yerr=pow_error, fmt='none', capsize=1, color='black', ecolor='black', elinewidth=1)\n",
    "\n",
    "# Plot dei dati originali\n",
    "ax1.plot(t, pow_t_mean, label='Intensità simulazione', color='orange')\n",
    "ax1.set_yscale('log')\n",
    "\n",
    "# Aggiungi il terzo set di dati con errori associati al grafico esistente\n",
    "ax1.errorbar((t_d-neglect_t)/1000, pow_t_mean_point, yerr=pow_error_point, fmt='o', label='simulazioni a Dd costante', color='green')\n",
    "\n",
    "# Plot della media mobile dell'intensità ATTESA\n",
    "ax1.plot((df['Tempo'].values-neglect_t)/1000, df['Media_Mobile'].values, label='Intensità attesa', color='blue')\n",
    "\n",
    "# Etichette e legenda per l'asse x e y\n",
    "ax1.set_xlabel('Tempo [s]')\n",
    "ax1.set_ylabel('Intensità media')\n",
    "ax1.legend()  # Assicurati di avere tutte le etichette delle leggende necessarie\n",
    "\n",
    "plt.title(f'Intensità nel Range \\u03B2 per \\u03C4 = {1/sigm_par/1000} [s] nparseg = {parseg}')\n",
    "plt.show()\n"
   ]
  },
  {
   "cell_type": "code",
   "execution_count": 16,
   "id": "b3a94896-2d1c-40c4-8464-232dedec6a4a",
   "metadata": {},
   "outputs": [],
   "source": [
    "def sigmoidpulse(x):\n",
    "    return 0.95 + 1 / (1 + np.exp(-sigm_par * (x - t_mid +neglect_t))) * (0.85 - 0.95) - 1 / (1 + np.exp(-sigm_par * (x - t_mid2 +neglect_t))) * (0.85 - 0.95) \n",
    "\n",
    "d_t = sigmoidpulse(t*1000)\n",
    "d_t_attesa = sigmoidpulse(df['Tempo'].values-neglect_t)"
   ]
  },
  {
   "cell_type": "markdown",
   "id": "8e1e9304-01d3-43fc-9d27-b5512476064e",
   "metadata": {},
   "source": [
    "## dd-pow"
   ]
  },
  {
   "cell_type": "code",
   "execution_count": 19,
   "id": "23b51ffa-04cd-4fc1-bddb-55ffb53d5223",
   "metadata": {},
   "outputs": [
    {
     "data": {
      "application/vnd.jupyter.widget-view+json": {
       "model_id": "15e0d3d3756248cd9acc2b795724a4c8",
       "version_major": 2,
       "version_minor": 0
      },
      "text/plain": [
       "Canvas(toolbar=Toolbar(toolitems=[('Home', 'Reset original view', 'home', 'home'), ('Back', 'Back to previous …"
      ]
     },
     "metadata": {},
     "output_type": "display_data"
    }
   ],
   "source": [
    "%matplotlib widget\n",
    "# Creare un grafico dei valori nel tempo\n",
    "# Finestra mobile (rolling window) per il calcolo della moving average\n",
    "window_size = 1  # Sostituisci con la dimensione della finestra desiderata\n",
    "moving_avg = np.convolve(pow_t_mean, np.ones(window_size)/window_size, mode='same')\n",
    "\n",
    "# Creare un grafico dei valori nel tempo\n",
    "fig, ax1 = plt.subplots(figsize = (9,5))\n",
    "\n",
    "pow_t_mean = np.array(pow_t_mean)\n",
    "\n",
    "# Utilizza la funzione errorbar per tracciare i dati con errori associati\n",
    "ax1.errorbar(d_t, pow_t_mean, yerr=pow_error, fmt='none', capsize=1, color='black', ecolor='black', elinewidth=1)\n",
    "\n",
    "# Plot dei dati originali\n",
    "ax1.plot(d_t, pow_t_mean, 'o', label='Intensità media', color='black')\n",
    "ax1.set_yscale('log')\n",
    "\n",
    "# Aggiungi la moving average al grafico di ax1\n",
    "ax1.plot(d_t, moving_avg, color='orange')\n",
    "\n",
    "# Aggiungi il terzo set di dati con errori associati al grafico esistente\n",
    "ax1.errorbar(Dd_values, pow_t_mean_point, yerr=pow_error_point, fmt='o', label='simulazioni a Dd costante', color='green')\n",
    "\n",
    "# Plot della media mobile dell'intensità ATTESA\n",
    "ax1.plot(d_t_attesa, df['Media_Mobile'].values, label='Intensità attesa', color='blue')\n",
    "\n",
    "# Imposta altre personalizzazioni per il tuo grafico, se necessario\n",
    "plt.xlabel('Dopamine depletion')\n",
    "plt.ylabel('intensità media')\n",
    "plt.legend()  # Assicurati di avere tutte le etichette delle leggende necessarie\n",
    "plt.title(f'Dd vs Intensità nel Range \\u03B2 per \\u03C4 = {1/sigm_par/1000} [s] nparseg = {parseg}')\n",
    "plt.show()"
   ]
  },
  {
   "cell_type": "code",
   "execution_count": 17,
   "id": "2aba7435-c19d-4c34-86b5-9a49e0af45df",
   "metadata": {},
   "outputs": [],
   "source": [
    "# Creazione della maschera per escludere le righe con t < 1 e t > 19\n",
    "mask = (t >= 1) & (t <= 19)\n",
    "\n",
    "# Applica la maschera per selezionare solo le righe desiderate\n",
    "data_to_save = np.column_stack((t[mask], pow_t_mean[mask], d_t[mask], pow_error[mask]))\n",
    "\n",
    "# Salva i dati in un file di testo\n",
    "#np.savetxt('./build/output/n1/' + function + '_' + t_mid_poiss + '.00_' + sigm_par_poiss + '_0.00_' + Dd + '_1.00_1.00_1.6/parseg' + str(parseg) + '.txt', data_to_save, header='t pow_t_mean d_t pow_error', delimiter='\\t')\n"
   ]
  },
  {
   "cell_type": "code",
   "execution_count": null,
   "id": "e4eae2b4-b1d1-4c7f-811c-69fe508fd6de",
   "metadata": {},
   "outputs": [],
   "source": []
  },
  {
   "cell_type": "markdown",
   "id": "ce27cfb4-b0a1-4412-9968-405440726ed9",
   "metadata": {},
   "source": [
    "# parseg variation"
   ]
  },
  {
   "cell_type": "code",
   "execution_count": 18,
   "id": "b2981a15-614a-42e6-8664-f3199140cdd4",
   "metadata": {},
   "outputs": [],
   "source": [
    "#parseg 250 0verlap 125\n",
    "Dd_values = [0.85, 0.855, 0.86, 0.865, 0.87, 0.875, 0.88, 0.885, 0.89, 0.895, 0.9, 0.905, 0.91, 0.915, 0.92, 0.925, 0.93, 0.935, 0.94, 0.945, 0.95]\n",
    "pow_t_mean_point = [0.019914247149334242, 0.020690578678315804, 0.02158271146066814, 0.022364914133701584, 0.023428835457957573, 0.025125497868107482, 0.026346934723841548, 0.028828969225659612, 0.03220798123872726, 0.035254298671665026, 0.03867622848014253, 0.04674626548972391, 0.05068805695941251, 0.06606716969376104, 0.08487862320152097, 0.09270422348347553, 0.1322581180913206, 0.15084846176010766, 0.18747180115646506, 0.22419232383889678, 0.2697145569231209]\n",
    "pow_error_point = [0.0019838232642017555, 0.001999857551482696, 0.0021708086191144817, 0.0022749744417916227, 0.002441049902399858, 0.002640832617992426, 0.0027738692999452765, 0.0031292618798778368, 0.0036480613158226044, 0.0040683093611075605, 0.00451842724610424, 0.005668445395626774, 0.006082506534680942, 0.007877499532094852, 0.009638645329156629, 0.010410256249777311, 0.012819346780713003, 0.01291999850097032, 0.014568471805002196, 0.015395217530866883, 0.015333769105628054]\n"
   ]
  },
  {
   "cell_type": "code",
   "execution_count": 19,
   "id": "76abb299-f58a-4a74-ab84-c8649eca1bf3",
   "metadata": {},
   "outputs": [
    {
     "ename": "OSError",
     "evalue": "./build/output/n1/sigmoidpulse0_002_13000.00_0.00200_0.00_0.950_1.00_1.00_1.6/parseg250.txt not found.",
     "output_type": "error",
     "traceback": [
      "\u001b[0;31m---------------------------------------------------------------------------\u001b[0m",
      "\u001b[0;31mOSError\u001b[0m                                   Traceback (most recent call last)",
      "\u001b[0;32m<ipython-input-19-2d314cc9f727>\u001b[0m in \u001b[0;36m<module>\u001b[0;34m\u001b[0m\n\u001b[1;32m     10\u001b[0m \u001b[0;34m\u001b[0m\u001b[0m\n\u001b[1;32m     11\u001b[0m \u001b[0;32mfor\u001b[0m \u001b[0mfile_path\u001b[0m \u001b[0;32min\u001b[0m \u001b[0mfile_paths\u001b[0m\u001b[0;34m:\u001b[0m\u001b[0;34m\u001b[0m\u001b[0;34m\u001b[0m\u001b[0m\n\u001b[0;32m---> 12\u001b[0;31m     \u001b[0mdata\u001b[0m \u001b[0;34m=\u001b[0m \u001b[0mnp\u001b[0m\u001b[0;34m.\u001b[0m\u001b[0mloadtxt\u001b[0m\u001b[0;34m(\u001b[0m\u001b[0mfile_path\u001b[0m\u001b[0;34m,\u001b[0m \u001b[0mdelimiter\u001b[0m\u001b[0;34m=\u001b[0m\u001b[0;34m'\\t'\u001b[0m\u001b[0;34m,\u001b[0m \u001b[0mskiprows\u001b[0m\u001b[0;34m=\u001b[0m\u001b[0;36m1\u001b[0m\u001b[0;34m)\u001b[0m  \u001b[0;31m# Salta la riga dell'intestazione\u001b[0m\u001b[0;34m\u001b[0m\u001b[0;34m\u001b[0m\u001b[0m\n\u001b[0m\u001b[1;32m     13\u001b[0m     \u001b[0mdata_list\u001b[0m\u001b[0;34m.\u001b[0m\u001b[0mappend\u001b[0m\u001b[0;34m(\u001b[0m\u001b[0mdata\u001b[0m\u001b[0;34m)\u001b[0m\u001b[0;34m\u001b[0m\u001b[0;34m\u001b[0m\u001b[0m\n\u001b[1;32m     14\u001b[0m \u001b[0;34m\u001b[0m\u001b[0m\n",
      "\u001b[0;32m~/.local/lib/python3.8/site-packages/numpy/lib/npyio.py\u001b[0m in \u001b[0;36mloadtxt\u001b[0;34m(fname, dtype, comments, delimiter, converters, skiprows, usecols, unpack, ndmin, encoding, max_rows, like)\u001b[0m\n\u001b[1;32m   1065\u001b[0m             \u001b[0mfname\u001b[0m \u001b[0;34m=\u001b[0m \u001b[0mos_fspath\u001b[0m\u001b[0;34m(\u001b[0m\u001b[0mfname\u001b[0m\u001b[0;34m)\u001b[0m\u001b[0;34m\u001b[0m\u001b[0;34m\u001b[0m\u001b[0m\n\u001b[1;32m   1066\u001b[0m         \u001b[0;32mif\u001b[0m \u001b[0m_is_string_like\u001b[0m\u001b[0;34m(\u001b[0m\u001b[0mfname\u001b[0m\u001b[0;34m)\u001b[0m\u001b[0;34m:\u001b[0m\u001b[0;34m\u001b[0m\u001b[0;34m\u001b[0m\u001b[0m\n\u001b[0;32m-> 1067\u001b[0;31m             \u001b[0mfh\u001b[0m \u001b[0;34m=\u001b[0m \u001b[0mnp\u001b[0m\u001b[0;34m.\u001b[0m\u001b[0mlib\u001b[0m\u001b[0;34m.\u001b[0m\u001b[0m_datasource\u001b[0m\u001b[0;34m.\u001b[0m\u001b[0mopen\u001b[0m\u001b[0;34m(\u001b[0m\u001b[0mfname\u001b[0m\u001b[0;34m,\u001b[0m \u001b[0;34m'rt'\u001b[0m\u001b[0;34m,\u001b[0m \u001b[0mencoding\u001b[0m\u001b[0;34m=\u001b[0m\u001b[0mencoding\u001b[0m\u001b[0;34m)\u001b[0m\u001b[0;34m\u001b[0m\u001b[0;34m\u001b[0m\u001b[0m\n\u001b[0m\u001b[1;32m   1068\u001b[0m             \u001b[0mfencoding\u001b[0m \u001b[0;34m=\u001b[0m \u001b[0mgetattr\u001b[0m\u001b[0;34m(\u001b[0m\u001b[0mfh\u001b[0m\u001b[0;34m,\u001b[0m \u001b[0;34m'encoding'\u001b[0m\u001b[0;34m,\u001b[0m \u001b[0;34m'latin1'\u001b[0m\u001b[0;34m)\u001b[0m\u001b[0;34m\u001b[0m\u001b[0;34m\u001b[0m\u001b[0m\n\u001b[1;32m   1069\u001b[0m             \u001b[0mfh\u001b[0m \u001b[0;34m=\u001b[0m \u001b[0miter\u001b[0m\u001b[0;34m(\u001b[0m\u001b[0mfh\u001b[0m\u001b[0;34m)\u001b[0m\u001b[0;34m\u001b[0m\u001b[0;34m\u001b[0m\u001b[0m\n",
      "\u001b[0;32m~/.local/lib/python3.8/site-packages/numpy/lib/_datasource.py\u001b[0m in \u001b[0;36mopen\u001b[0;34m(path, mode, destpath, encoding, newline)\u001b[0m\n\u001b[1;32m    191\u001b[0m \u001b[0;34m\u001b[0m\u001b[0m\n\u001b[1;32m    192\u001b[0m     \u001b[0mds\u001b[0m \u001b[0;34m=\u001b[0m \u001b[0mDataSource\u001b[0m\u001b[0;34m(\u001b[0m\u001b[0mdestpath\u001b[0m\u001b[0;34m)\u001b[0m\u001b[0;34m\u001b[0m\u001b[0;34m\u001b[0m\u001b[0m\n\u001b[0;32m--> 193\u001b[0;31m     \u001b[0;32mreturn\u001b[0m \u001b[0mds\u001b[0m\u001b[0;34m.\u001b[0m\u001b[0mopen\u001b[0m\u001b[0;34m(\u001b[0m\u001b[0mpath\u001b[0m\u001b[0;34m,\u001b[0m \u001b[0mmode\u001b[0m\u001b[0;34m,\u001b[0m \u001b[0mencoding\u001b[0m\u001b[0;34m=\u001b[0m\u001b[0mencoding\u001b[0m\u001b[0;34m,\u001b[0m \u001b[0mnewline\u001b[0m\u001b[0;34m=\u001b[0m\u001b[0mnewline\u001b[0m\u001b[0;34m)\u001b[0m\u001b[0;34m\u001b[0m\u001b[0;34m\u001b[0m\u001b[0m\n\u001b[0m\u001b[1;32m    194\u001b[0m \u001b[0;34m\u001b[0m\u001b[0m\n\u001b[1;32m    195\u001b[0m \u001b[0;34m\u001b[0m\u001b[0m\n",
      "\u001b[0;32m~/.local/lib/python3.8/site-packages/numpy/lib/_datasource.py\u001b[0m in \u001b[0;36mopen\u001b[0;34m(self, path, mode, encoding, newline)\u001b[0m\n\u001b[1;32m    531\u001b[0m                                       encoding=encoding, newline=newline)\n\u001b[1;32m    532\u001b[0m         \u001b[0;32melse\u001b[0m\u001b[0;34m:\u001b[0m\u001b[0;34m\u001b[0m\u001b[0;34m\u001b[0m\u001b[0m\n\u001b[0;32m--> 533\u001b[0;31m             \u001b[0;32mraise\u001b[0m \u001b[0mIOError\u001b[0m\u001b[0;34m(\u001b[0m\u001b[0;34m\"%s not found.\"\u001b[0m \u001b[0;34m%\u001b[0m \u001b[0mpath\u001b[0m\u001b[0;34m)\u001b[0m\u001b[0;34m\u001b[0m\u001b[0;34m\u001b[0m\u001b[0m\n\u001b[0m\u001b[1;32m    534\u001b[0m \u001b[0;34m\u001b[0m\u001b[0m\n\u001b[1;32m    535\u001b[0m \u001b[0;34m\u001b[0m\u001b[0m\n",
      "\u001b[0;31mOSError\u001b[0m: ./build/output/n1/sigmoidpulse0_002_13000.00_0.00200_0.00_0.950_1.00_1.00_1.6/parseg250.txt not found."
     ]
    }
   ],
   "source": [
    "# Carica i dati dai file\n",
    "file_paths = [\n",
    "    './build/output/n1/' + function + '_' + t_mid_poiss + '.00_' + sigm_par_poiss + '_0.00_' + Dd + '_1.00_1.00_1.6/parseg250.txt',\n",
    "    './build/output/n1/' + function + '_' + t_mid_poiss + '.00_' + sigm_par_poiss + '_0.00_' + Dd + '_1.00_1.00_1.6/parseg500.txt',\n",
    "    './build/output/n1/' + function + '_' + t_mid_poiss + '.00_' + sigm_par_poiss + '_0.00_' + Dd + '_1.00_1.00_1.6/parseg1000.txt',\n",
    "    './build/output/n1/' + function + '_' + t_mid_poiss + '.00_' + sigm_par_poiss + '_0.00_' + Dd + '_1.00_1.00_1.6/parseg2000.txt',\n",
    "]\n",
    "\n",
    "data_list = []  # Una lista per memorizzare i dati da ciascun file\n",
    "\n",
    "for file_path in file_paths:\n",
    "    data = np.loadtxt(file_path, delimiter='\\t', skiprows=1)  # Salta la riga dell'intestazione\n",
    "    data_list.append(data)\n",
    "\n",
    "# Estrai le colonne necessarie\n",
    "t_list = [data[:, 0] for data in data_list]\n",
    "pow_t_mean_list = [data[:, 1] for data in data_list]\n",
    "d_t_list = [data[:, 2] for data in data_list]\n",
    "pow_error_list = [data[:, 3] for data in data_list]\n",
    "\n",
    "# Fai il plot dei dati con intensità su scala logaritmica\n",
    "plt.figure(figsize=(10, 6))\n",
    "\n",
    "for i in range(len(file_paths)):\n",
    "    parseg_values = [int(file_path.split('parseg')[1].split('.txt')[0]) for file_path in file_paths]\n",
    "    plt.errorbar(d_t_list[i], pow_t_mean_list[i], yerr=pow_error_list[i], label=f'parseg {parseg_values[i]}', capsize=5)\n",
    "\n",
    "\n",
    "plt.xlabel('Dopamine depletion')\n",
    "plt.ylabel('intensità media')\n",
    "plt.yscale('log')\n",
    "plt.title('Dd vs intensity changing parseg')\n",
    "plt.legend()\n",
    "plt.show()"
   ]
  },
  {
   "cell_type": "code",
   "execution_count": 33,
   "id": "9965a363-f006-455e-935c-f97d803d679d",
   "metadata": {},
   "outputs": [
    {
     "data": {
      "application/vnd.jupyter.widget-view+json": {
       "model_id": "10e2f91781744b548e8e2c9c71cd11c1",
       "version_major": 2,
       "version_minor": 0
      },
      "text/plain": [
       "Canvas(toolbar=Toolbar(toolitems=[('Home', 'Reset original view', 'home', 'home'), ('Back', 'Back to previous …"
      ]
     },
     "metadata": {},
     "output_type": "display_data"
    }
   ],
   "source": [
    "# Fai il plot dei dati con intensità su scala logaritmica\n",
    "plt.figure(figsize=(10, 6))\n",
    "\n",
    "for i in range(len(file_paths)):\n",
    "    parseg_values = [int(file_path.split('parseg')[1].split('.txt')[0]) for file_path in file_paths]\n",
    "    plt.errorbar(t_list[i], pow_t_mean_list[i], yerr=pow_error_list[i], label=f'parseg {parseg_values[i]}', capsize=5)\n",
    "\n",
    "plt.xlabel('tempo (s)')\n",
    "plt.ylabel('intensità media')\n",
    "plt.yscale('log')\n",
    "plt.title('time vs intensity changing parseg')\n",
    "plt.legend()\n",
    "plt.show()\n"
   ]
  },
  {
   "cell_type": "code",
   "execution_count": 34,
   "id": "b3a74bf5-8409-4a72-b978-0ee73f550463",
   "metadata": {},
   "outputs": [
    {
     "data": {
      "application/vnd.jupyter.widget-view+json": {
       "model_id": "ca12a3a1f9974f6f926b7106bb713827",
       "version_major": 2,
       "version_minor": 0
      },
      "text/plain": [
       "Canvas(toolbar=Toolbar(toolitems=[('Home', 'Reset original view', 'home', 'home'), ('Back', 'Back to previous …"
      ]
     },
     "metadata": {},
     "output_type": "display_data"
    }
   ],
   "source": [
    "from scipy.optimize import curve_fit\n",
    "\n",
    "def linear_fit(parseg, m, q):\n",
    "    return m * np.array(parseg) + q\n",
    "\n",
    "# Indice del tempo desiderato\n",
    "time_index = 80\n",
    "\n",
    "# Seleziona i valori di intensità al tempo specificato per ciascun parseg\n",
    "intensity_values = [pow_t_mean_list[i][time_index] for i in range(len(file_paths))]\n",
    "error_values = [pow_error_list[i][time_index] for i in range(len(file_paths))]\n",
    "\n",
    "# Fai il fit della retta usando il metodo dei minimi quadrati\n",
    "params, covariance = curve_fit(linear_fit, parseg_values, intensity_values, sigma=error_values, absolute_sigma=True)\n",
    "\n",
    "# Estrai i parametri del fit e le relative incertezze\n",
    "m_fit, q_fit = params\n",
    "dm, dq = np.sqrt(np.diag(covariance))\n",
    "\n",
    "# Calcola l'errore totale sulla retta interpolata a parseg=0\n",
    "error = np.sqrt((m_fit * dm)**2 + dq**2)\n",
    "\n",
    "# Calcola i valori del fit lineare\n",
    "fit_values = m_fit * np.array(parseg_values) + q_fit\n",
    "\n",
    "# Calcola il valore interpolato per parseg = 0 utilizzando l'intercetta del fit lineare\n",
    "interpolated_value_at_parseg_0 = q_fit\n",
    "# Calcola l'errore totale sulla retta interpolata a parseg=0\n",
    "error = np.sqrt((m_fit * dm)**2 + dq**2)\n",
    "\n",
    "# Aggiungi un punto a parseg=0\n",
    "parseg_values_extended = np.insert(parseg_values, 0, 0)\n",
    "fit_values_extended = np.insert(fit_values, 0, q_fit)\n",
    "\n",
    "# Fai il plot dei dati, della retta di fit e del valore interpolato per parseg = 0\n",
    "plt.figure(figsize=(8, 5))\n",
    "plt.errorbar(parseg_values, intensity_values, yerr=error_values, fmt='o', capsize=5, label='intensità variando parseg')\n",
    "plt.plot(parseg_values_extended, fit_values_extended, '-', label='Fit lineare')\n",
    "plt.errorbar([0], [interpolated_value_at_parseg_0], color='red', yerr=error, fmt='o', capsize=5, label='parseg = 0')\n",
    "plt.xlabel('parseg')\n",
    "plt.ylabel('Intensità media')\n",
    "plt.title(f'Fit lineare ai dati al tempo {t_list[0][time_index]:.2f} s')\n",
    "plt.legend()\n",
    "plt.show()\n"
   ]
  },
  {
   "cell_type": "markdown",
   "id": "1b48dcf8-54cc-4a76-b3d3-919571c908d2",
   "metadata": {},
   "source": [
    "# parseg 0"
   ]
  },
  {
   "cell_type": "code",
   "execution_count": 35,
   "id": "d9808de7-2a3c-4f09-b09f-f1845d0c5f24",
   "metadata": {},
   "outputs": [
    {
     "data": {
      "application/vnd.jupyter.widget-view+json": {
       "model_id": "e385bf729e7245a7b39508cb70e2750c",
       "version_major": 2,
       "version_minor": 0
      },
      "text/plain": [
       "Canvas(toolbar=Toolbar(toolitems=[('Home', 'Reset original view', 'home', 'home'), ('Back', 'Back to previous …"
      ]
     },
     "metadata": {},
     "output_type": "display_data"
    }
   ],
   "source": [
    "from scipy.optimize import curve_fit\n",
    "\n",
    "def linear_fit(parseg, m, q):\n",
    "    return m * np.array(parseg) + q\n",
    "\n",
    "# Creazione di una lista per memorizzare i valori estrapolati per parseg=0 per ogni valore di t\n",
    "values_at_parseg_0 = []\n",
    "errors_at_parseg_0 = []\n",
    "\n",
    "# Itera su tutti i valori di t\n",
    "for specific_t_value in t_list[0]:\n",
    "    specific_t_index = np.argmin(np.abs(t_list[0] - specific_t_value))\n",
    "\n",
    "    intensity_at_specific_t = [pow_t_mean_list[i][specific_t_index] for i in range(len(file_paths))]\n",
    "    error_at_specific_t = [pow_error_list[i][specific_t_index] for i in range(len(file_paths))]\n",
    "\n",
    "    # Estrai i valori di parseg\n",
    "    parseg_values = [int(file_path.split('parseg')[1].split('.txt')[0]) for file_path in file_paths]\n",
    "    parseg_values = np.array(parseg_values, dtype=float)\n",
    "\n",
    "    # Ordina i dati in base ai valori di parseg\n",
    "    sorted_data = sorted(zip(parseg_values, intensity_at_specific_t, error_at_specific_t))\n",
    "    parseg_values, intensity_at_specific_t, error_at_specific_t = zip(*sorted_data)\n",
    "\n",
    "    # Fai il fit della retta usando il metodo dei minimi quadrati\n",
    "    params, covariance = curve_fit(linear_fit, parseg_values, intensity_at_specific_t, sigma=error_at_specific_t, absolute_sigma=True)\n",
    "\n",
    "    # Estrai i parametri del fit e le relative incertezze\n",
    "    m_fit, q_fit = params\n",
    "    dm, dq = np.sqrt(np.diag(covariance))\n",
    "\n",
    "    # Calcola l'errore totale sulla retta interpolata a parseg=0\n",
    "    errors = np.sqrt((m_fit * dm)**2 + dq**2)\n",
    "\n",
    "    # Aggiungi il valore interpolato e l'errore alle rispettive liste\n",
    "    values_at_parseg_0.append(linear_fit(0, m_fit, q_fit))\n",
    "    errors_at_parseg_0.append(errors)\n",
    "\n",
    "# Plot dei valori interpolati a parseg=0 nel tempo con errori\n",
    "plt.figure(figsize=(10, 6))\n",
    "plt.errorbar(t_list[0], values_at_parseg_0, yerr=errors_at_parseg_0, marker='o', linestyle='-', color='green', label='Interpolati a parseg=0')\n",
    "plt.xlabel('Tempo (t)')\n",
    "plt.ylabel('Valori interpolati a parseg=0')\n",
    "plt.title('Plot di Valori interpolati a parseg=0 nel tempo con errori (retta)')\n",
    "plt.legend()\n",
    "plt.grid(True)\n",
    "plt.show()\n",
    "\n",
    "# Salva i dati in un file di testo\n",
    "#data_to_save = np.column_stack((t_list[0], values_at_parseg_0, d_t_list[0], errors_at_parseg_0))\n",
    "#np.savetxt('./build/output/n1/' + function + '_\" + t_mid_poiss + \".00_\" + sigm_par_poiss + \"_0.00_' + Dd + '_1.00_1.00_1.6/parseg0.txt', data_to_save, header='t pow_t_mean d_t pow_error', delimiter='\\t')"
   ]
  },
  {
   "cell_type": "code",
   "execution_count": 36,
   "id": "7a94a3ae-8dcd-415c-b3bb-cc9f2e4a4d30",
   "metadata": {},
   "outputs": [
    {
     "data": {
      "application/vnd.jupyter.widget-view+json": {
       "model_id": "88232bf5fc394b9ca583897be0a93972",
       "version_major": 2,
       "version_minor": 0
      },
      "text/plain": [
       "Canvas(toolbar=Toolbar(toolitems=[('Home', 'Reset original view', 'home', 'home'), ('Back', 'Back to previous …"
      ]
     },
     "metadata": {},
     "output_type": "display_data"
    }
   ],
   "source": [
    "# Carica i dati dai file\n",
    "file_paths = [\n",
    "    './build/output/n1/' + function + '_' + t_mid_poiss + '.00_' + sigm_par_poiss + '_0.00_' + Dd + '_1.00_1.00_1.6/parseg0.txt',\n",
    "    './build/output/n1/' + function + '_' + t_mid_poiss + '.00_' + sigm_par_poiss + '_0.00_' + Dd + '_1.00_1.00_1.6/parseg250.txt',\n",
    "    './build/output/n1/' + function + '_' + t_mid_poiss + '.00_' + sigm_par_poiss + '_0.00_' + Dd + '_1.00_1.00_1.6/parseg500.txt',\n",
    "    './build/output/n1/' + function + '_' + t_mid_poiss + '.00_' + sigm_par_poiss + '_0.00_' + Dd + '_1.00_1.00_1.6/parseg1000.txt',\n",
    "    './build/output/n1/' + function + '_' + t_mid_poiss + '.00_' + sigm_par_poiss + '_0.00_' + Dd + '_1.00_1.00_1.6/parseg2000.txt',\n",
    "]\n",
    "\n",
    "data_list = []  # Una lista per memorizzare i dati da ciascun file\n",
    "\n",
    "# Estrai i valori di parseg una sola volta fuori dal loop\n",
    "parseg_values = [int(file_path.split('parseg')[1].split('.txt')[0]) for file_path in file_paths]\n",
    "\n",
    "for file_path, parseg_value in zip(file_paths, parseg_values):\n",
    "    data = np.loadtxt(file_path, delimiter='\\t', skiprows=1)  # Salta la riga dell'intestazione\n",
    "    data_list.append(data)\n",
    "\n",
    "# Estrai le colonne necessarie\n",
    "t_list = [data[:, 0] for data in data_list]\n",
    "pow_t_mean_list = [data[:, 1] for data in data_list]\n",
    "d_t_list = [data[:, 2] for data in data_list]\n",
    "pow_error_list = [data[:, 3] for data in data_list]\n",
    "\n",
    "# Fai il plot dei dati con intensità su scala logaritmica\n",
    "plt.figure(figsize=(10, 6))\n",
    "\n",
    "for i in range(len(file_paths)):\n",
    "    # Usa il colore nero solo quando parseg è uguale a 0\n",
    "    if parseg_values[i] == 0:\n",
    "        plt.errorbar(d_t_list[i], pow_t_mean_list[i], yerr=pow_error_list[i], label=f'parseg {parseg_values[i]}', capsize=5, color='black')\n",
    "    else:\n",
    "        plt.errorbar(d_t_list[i], pow_t_mean_list[i], yerr=pow_error_list[i], label=f'parseg {parseg_values[i]}', capsize=5)\n",
    "\n",
    "plt.xlabel('Dopamine depletion')\n",
    "plt.ylabel('intensità media')\n",
    "plt.yscale('log')\n",
    "plt.title('Dd vs intensity changing parseg')\n",
    "plt.legend()\n",
    "plt.show()"
   ]
  },
  {
   "cell_type": "code",
   "execution_count": 37,
   "id": "29d9ef7d-964b-4abc-acf4-6e212a8a6770",
   "metadata": {},
   "outputs": [
    {
     "data": {
      "application/vnd.jupyter.widget-view+json": {
       "model_id": "0fe0aae2eb91405db891386d9fe16a49",
       "version_major": 2,
       "version_minor": 0
      },
      "text/plain": [
       "Canvas(toolbar=Toolbar(toolitems=[('Home', 'Reset original view', 'home', 'home'), ('Back', 'Back to previous …"
      ]
     },
     "metadata": {},
     "output_type": "display_data"
    }
   ],
   "source": [
    "# Fai il plot dei dati con intensità su scala logaritmica\n",
    "plt.figure(figsize=(10, 6))\n",
    "\n",
    "for i in range(len(file_paths)):\n",
    "    parseg_values = [int(file_path.split('parseg')[1].split('.txt')[0]) for file_path in file_paths]\n",
    "\n",
    "    # Usa il colore nero solo quando parseg è uguale a 0\n",
    "    if parseg_values[i] == 0:\n",
    "        plt.errorbar(t_list[i], pow_t_mean_list[i], yerr=pow_error_list[i], label=f'parseg {parseg_values[i]}', capsize=5, color='black')\n",
    "    else:\n",
    "        plt.errorbar(t_list[i], pow_t_mean_list[i], yerr=pow_error_list[i], label=f'parseg {parseg_values[i]}', capsize=5)\n",
    "\n",
    "plt.xlabel('tempo (s)')\n",
    "plt.ylabel('intensità media')\n",
    "plt.yscale('log')\n",
    "plt.title('time vs intensity changing parseg')\n",
    "plt.legend()\n",
    "plt.show()"
   ]
  },
  {
   "cell_type": "code",
   "execution_count": 38,
   "id": "06bebdab-54be-4f9e-8d9e-6aecd62d29b4",
   "metadata": {},
   "outputs": [
    {
     "data": {
      "application/vnd.jupyter.widget-view+json": {
       "model_id": "d798c60de1764164abb03dc433502e41",
       "version_major": 2,
       "version_minor": 0
      },
      "text/plain": [
       "Canvas(toolbar=Toolbar(toolitems=[('Home', 'Reset original view', 'home', 'home'), ('Back', 'Back to previous …"
      ]
     },
     "metadata": {},
     "output_type": "display_data"
    }
   ],
   "source": [
    "%matplotlib widget\n",
    "\n",
    "# Creare un grafico dei valori nel tempo\n",
    "# Finestra mobile (rolling window) per il calcolo della moving average\n",
    "window_size = 1  # Sostituisci con la dimensione della finestra desiderata\n",
    "moving_avg = np.convolve(pow_t_mean, np.ones(window_size)/window_size, mode='same')\n",
    "\n",
    "# Creare un grafico dei valori nel tempo\n",
    "fig, ax1 = plt.subplots(figsize=(9, 5))\n",
    "\n",
    "pow_t_mean = np.array(pow_t_mean)\n",
    "\n",
    "# Utilizza la funzione errorbar per tracciare i dati con errori associati\n",
    "ax1.errorbar(t, pow_t_mean, yerr=pow_error, fmt='none', capsize=1, color='black', ecolor='black', elinewidth=1)\n",
    "\n",
    "# Plot dei dati originali\n",
    "ax1.plot(t, pow_t_mean, label='Intensità media', color='orange')\n",
    "ax1.set_yscale('log')\n",
    "\n",
    "# Aggiungi la moving average al grafico di ax1\n",
    "ax1.plot(t, moving_avg, label=f'Moving Average ({window_size}-point)', color='orange')\n",
    "\n",
    "# Aggiungi il terzo set di dati con errori associati al grafico esistente\n",
    "ax1.errorbar(t_d/1000, pow_t_mean_point, yerr=pow_error_point, fmt='o', label='simulazioni a Dd costante', color='green')\n",
    "\n",
    "# Imposta altre personalizzazioni per il tuo grafico, se necessario\n",
    "plt.xlabel('Tempo [s]')\n",
    "plt.ylabel('Intensità media')\n",
    "plt.legend()  # Assicurati di avere tutte le etichette delle leggende necessarie\n",
    "\n",
    "plt.title(f'Time Series della Media dell\\'Intensità nel Range \\u03B2 per \\u03C4 = {1/sigm_par/1000} [s] nparseg = {parseg}')\n",
    "plt.show()\n"
   ]
  },
  {
   "cell_type": "markdown",
   "id": "650c00f8-28d0-40b8-9158-b1162b000f28",
   "metadata": {},
   "source": [
    "# confronto dd costante e dinamica"
   ]
  },
  {
   "cell_type": "code",
   "execution_count": 39,
   "id": "f289b7a7-12d9-48c2-8606-3380cf921e1b",
   "metadata": {},
   "outputs": [
    {
     "data": {
      "application/vnd.jupyter.widget-view+json": {
       "model_id": "33b9d6314cc8452b869bc541c4117ab5",
       "version_major": 2,
       "version_minor": 0
      },
      "text/plain": [
       "Canvas(toolbar=Toolbar(toolitems=[('Home', 'Reset original view', 'home', 'home'), ('Back', 'Back to previous …"
      ]
     },
     "metadata": {},
     "output_type": "display_data"
    }
   ],
   "source": [
    "%matplotlib widget\n",
    "\n",
    "# Creare un grafico dei valori nel tempo\n",
    "fig, ax1 = plt.subplots(figsize=(9, 5))\n",
    "\n",
    "pow_t_mean = np.array(pow_t_mean)\n",
    "\n",
    "ax1.set_yscale('log')\n",
    "\n",
    "# Aggiungi il terzo set di dati con errori associati al grafico esistente\n",
    "ax1.errorbar(t_list[0], pow_t_mean_list[0], yerr=pow_error_list[0], label=f'parseg {parseg_values[0]}', capsize=5, color='black')\n",
    "ax1.errorbar(t_d/1000, pow_t_mean_point, yerr=pow_error_point, fmt='o', label='simulazioni a Dd costante', color='green')\n",
    "# Imposta altre personalizzazioni per il tuo grafico, se necessario\n",
    "plt.xlabel('Tempo [s]')\n",
    "plt.ylabel('Intensità media')\n",
    "plt.legend()  # Assicurati di avere tutte le etichette delle leggende necessarie\n",
    "\n",
    "plt.title(f'Time Series della Media dell\\'Intensità nel Range \\u03B2 per \\u03C4 = {1/sigm_par/1000} [s]')\n",
    "plt.show()\n"
   ]
  },
  {
   "cell_type": "code",
   "execution_count": 40,
   "id": "c87eb987-77a1-4676-9f67-28f943ba2e58",
   "metadata": {},
   "outputs": [
    {
     "data": {
      "application/vnd.jupyter.widget-view+json": {
       "model_id": "0df991090bf846cabaccd3d56b4e0231",
       "version_major": 2,
       "version_minor": 0
      },
      "text/plain": [
       "Canvas(toolbar=Toolbar(toolitems=[('Home', 'Reset original view', 'home', 'home'), ('Back', 'Back to previous …"
      ]
     },
     "metadata": {},
     "output_type": "display_data"
    }
   ],
   "source": [
    "%matplotlib widget\n",
    "# Creare un grafico dei valori nel tempo\n",
    "# Finestra mobile (rolling window) per il calcolo della moving average\n",
    "window_size = 1  # Sostituisci con la dimensione della finestra desiderata\n",
    "moving_avg = np.convolve(pow_t_mean, np.ones(window_size)/window_size, mode='same')\n",
    "\n",
    "# Creare un grafico dei valori nel tempo\n",
    "fig, ax1 = plt.subplots(figsize = (9,5))\n",
    "\n",
    "pow_t_mean = np.array(pow_t_mean)\n",
    "\n",
    "ax1.set_yscale('log')\n",
    "\n",
    "# Aggiungi il terzo set di dati con errori associati al grafico esistente\n",
    "ax1.errorbar(d_t_list[0], pow_t_mean_list[0], yerr=pow_error_list[0], label=f'parseg {parseg_values[0]}', capsize=5, color='black')\n",
    "ax1.errorbar(Dd_values, pow_t_mean_point, yerr=pow_error_point, fmt='o', label='simulazioni a Dd costante', color='green')\n",
    "\n",
    "# Imposta altre personalizzazioni per il tuo grafico, se necessario\n",
    "plt.xlabel('Dopamine depletion')\n",
    "plt.ylabel('intensità media')\n",
    "plt.legend()  # Assicurati di avere tutte le etichette delle leggende necessarie\n",
    "plt.title(f'Dd vs Intensità nel Range \\u03B2 per \\u03C4 = {1/sigm_par/1000} [s]')\n",
    "plt.show()"
   ]
  },
  {
   "cell_type": "code",
   "execution_count": null,
   "id": "f0b8a8f4-0f95-4d34-b414-3ad3146d4ea3",
   "metadata": {},
   "outputs": [],
   "source": []
  },
  {
   "cell_type": "code",
   "execution_count": null,
   "id": "49b41864-4e0d-436e-9ed1-41273a16f206",
   "metadata": {},
   "outputs": [],
   "source": []
  }
 ],
 "metadata": {
  "kernelspec": {
   "display_name": "Python 3",
   "language": "python",
   "name": "python3"
  },
  "language_info": {
   "codemirror_mode": {
    "name": "ipython",
    "version": 3
   },
   "file_extension": ".py",
   "mimetype": "text/x-python",
   "name": "python",
   "nbconvert_exporter": "python",
   "pygments_lexer": "ipython3",
   "version": "3.8.5"
  }
 },
 "nbformat": 4,
 "nbformat_minor": 5
}
