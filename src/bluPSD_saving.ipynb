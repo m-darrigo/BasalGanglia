{
 "cells": [
  {
   "cell_type": "code",
   "execution_count": 1,
   "id": "fa01731e",
   "metadata": {},
   "outputs": [],
   "source": [
    "import python_utils as utils\n",
    "import sys\n",
    "import pickle\n",
    "import matplotlib.pyplot as plt\n",
    "import numpy as np\n",
    "import pandas as pd\n",
    "import os\n",
    "import re\n",
    "from scipy.optimize import minimize, curve_fit\n",
    "from scipy import stats\n",
    "from statsmodels.stats.multitest import multipletests\n",
    "\n",
    "%matplotlib inline\n",
    "%config InlineBackend.figure_format = 'svg'\n",
    "\n",
    "plt.rcParams['axes.titlesize'] = 16\n",
    "plt.rcParams['axes.labelsize'] = 15\n",
    "plt.rcParams['legend.fontsize'] = 13\n"
   ]
  },
  {
   "cell_type": "markdown",
   "id": "6fc689a7-f6e8-45d7-972f-3069c5754fe5",
   "metadata": {},
   "source": [
    "# SIGMOIDPULSE0_002 t_mid = 13000 duration = 10 s"
   ]
  },
  {
   "cell_type": "code",
   "execution_count": 2,
   "id": "71b17889-2b69-490d-b9be-5041469213d6",
   "metadata": {},
   "outputs": [],
   "source": [
    "parseg = 250\n",
    "overlap = 0.5\n",
    "\n",
    "neglect_t = 3000\n",
    "t_mid = 13000\n",
    "t_mid2 = 23000\n",
    "sigm_par = 0.002\n",
    "\n",
    "t_tot = 33000\n",
    "\n",
    "dd_low = 0.850\n",
    "\n",
    "function = \"sigmoidpulse\""
   ]
  },
  {
   "cell_type": "code",
   "execution_count": 3,
   "id": "bf259301-dad6-4943-9c5b-58ff9c697a26",
   "metadata": {},
   "outputs": [],
   "source": [
    "sigm_par_poiss = \"{:.5f}\".format(sigm_par)\n",
    "\n",
    "Dd = \"0.950\"\n",
    "subnets = \"STN\"\n",
    "simulations = [str(i) for i in range(32)]\n"
   ]
  },
  {
   "cell_type": "code",
   "execution_count": 4,
   "id": "c29849a6-0404-4f95-907f-39d398f151b2",
   "metadata": {},
   "outputs": [
    {
     "name": "stdout",
     "output_type": "stream",
     "text": [
      "[0.85, 0.8525, 0.855, 0.8575, 0.86, 0.8625, 0.865, 0.8675, 0.87, 0.8725, 0.875, 0.8775, 0.88, 0.8825, 0.885, 0.8875, 0.89, 0.8925, 0.895, 0.8975, 0.9, 0.9025, 0.905, 0.9075, 0.91, 0.9125, 0.915, 0.9175, 0.92, 0.9225, 0.925, 0.9275, 0.93, 0.9325, 0.935, 0.9375, 0.94, 0.9425, 0.945, 0.9475, 0.95]\n"
     ]
    }
   ],
   "source": [
    "Dd_values = []\n",
    "current_value = dd_low\n",
    "while current_value <= float(Dd):\n",
    "    Dd_values.append(round(current_value, 4))\n",
    "    current_value += 0.0025\n",
    "\n",
    "print(Dd_values)"
   ]
  },
  {
   "cell_type": "code",
   "execution_count": 5,
   "id": "f92ac941-50a1-418d-9e83-6bf4fcd32c23",
   "metadata": {},
   "outputs": [
    {
     "name": "stdout",
     "output_type": "stream",
     "text": [
      "./build/output/n1/sigmoidpulse_13000.00_0.00200_0.00_0.950_1.00_1.00_1.6/\n"
     ]
    }
   ],
   "source": [
    "simulations_folder_path = f\"./build/output/n1/{function}_{t_mid}.00_{sigm_par_poiss}_0.00_{Dd}_1.00_1.00_1.6/\"\n",
    "print(simulations_folder_path)"
   ]
  },
  {
   "cell_type": "markdown",
   "id": "f66ba0d8-21cf-4b3d-9b7e-47dee992ea01",
   "metadata": {},
   "source": [
    "# FLAT. media per ogni valore di dd"
   ]
  },
  {
   "cell_type": "code",
   "execution_count": null,
   "id": "2d807e4a-8e0e-4026-bbd2-ea5d77853bbf",
   "metadata": {
    "tags": []
   },
   "outputs": [
    {
     "name": "stdout",
     "output_type": "stream",
     "text": [
      "0\n",
      "0.8500\n",
      "nparseg = 250\tnoverlap=125\n",
      "0.8525\n"
     ]
    }
   ],
   "source": [
    "function1 = \"flat\"\n",
    "d = [\"{:.4f}\".format(elemento) for elemento in Dd_values]\n",
    "simulations = [str(i) for i in range(32)]\n",
    "pow_t_mean_all = []\n",
    "for simulation in simulations:\n",
    "\n",
    "    pow_t_mean = []\n",
    "    t = []\n",
    "    f = []\n",
    "    print(simulation)\n",
    "\n",
    "    for ddd in d:\n",
    "        print(ddd)\n",
    "        periodogram_path = './periodograms/' + ddd.replace('.','_') + '_' + subnets + '_' + function1 + '_' + simulation\n",
    "        if not os.path.exists(periodogram_path):  #check if periodogram folder exists and if not create one\n",
    "            os.makedirs(periodogram_path)\n",
    "\n",
    "        data = np.loadtxt(\"./build/output/n1/\" + function1 + \"_0.00_0.00000_0.00_\" + ddd + \"_1.00_1.00_1.6/\" + simulations[0] + \"/ext_rateD2.txt\").T\n",
    "        data[0] = data[0]/1000\n",
    "        data[1] = data[1]/1.083\n",
    "\n",
    "        s = utils.SpikeSim(\"./build/output/n1/\" + function1 + \"_0.00_0.00000_0.00_\" + ddd + \"_1.00_1.00_1.6/\" + simulation , 'new_sim_parallel.yaml', neglect_t, np.max(data[0]))\n",
    "        output=s.periodogram(pop=subnets, res=1., N_parseg=parseg, save_img='')\n",
    "\n",
    "        f = output[0]\n",
    "        t = output[1]\n",
    "        Sxx = output[2]\n",
    "\n",
    "        mask = (8 <= f) & (f <= 26)\n",
    "        Sxx_lim = Sxx[mask,:]\n",
    "        f_lim = f[mask]\n",
    "\n",
    "        pow_t_mean.append(np.mean(Sxx_lim))\n",
    "\n",
    "    ###################################################################################################################\n",
    "\n",
    "    pow_t_mean_all.append(pow_t_mean)\n",
    "print(pow_t_mean_all)\n",
    "\n",
    "#np.savetxt('./build/output/n1/new_pow_t_mean' + str(parseg) + '.txt', pow_t_mean_all, header='pow_t_mean', delimiter='\\t')"
   ]
  },
  {
   "cell_type": "markdown",
   "id": "3a8e8026-0cf8-4283-8089-d0d32e2f76a8",
   "metadata": {},
   "source": [
    "## funzione dell'intensità della sigmoide attesa"
   ]
  },
  {
   "cell_type": "code",
   "execution_count": 6,
   "id": "2525d770-f23a-4076-b183-23adf0631abc",
   "metadata": {},
   "outputs": [],
   "source": [
    "pow_t_mean_all = np.loadtxt('./build/output/n1/new_pow_t_mean' + str(parseg) + '.txt', delimiter='\\t', skiprows=1)\n",
    "x = pow_t_mean_all[:]\n",
    "pow_t_mean_point_int= [elemento[-len(Dd_values):] for elemento in x]\n",
    "for i in range(32):\n",
    "    pow_t_mean_point_int[i] = pow_t_mean_point_int[i].tolist()\n",
    "    pow_t_mean_point_int[i] = pow_t_mean_point_int[i][::-1] + pow_t_mean_point_int[i]\n",
    "    pow_t_mean_point_int[i] = np.insert(pow_t_mean_point_int[i], 0, 0)\n",
    "    pow_t_mean_point_int[i] = np.array(pow_t_mean_point_int[i])\n",
    "pow_t_mean_point_int = np.array(pow_t_mean_point_int)\n",
    "\n"
   ]
  },
  {
   "cell_type": "code",
   "execution_count": 7,
   "id": "11a03396-931f-4a95-be04-7fab30d8ab7f",
   "metadata": {
    "tags": []
   },
   "outputs": [],
   "source": [
    "Dd_values_tot = Dd_values[::-1] + Dd_values\n",
    "intermediate_points = [round((Dd_values_tot[i] + Dd_values_tot[i + 1]) / 2, 4) for i in range(len(Dd_values_tot) - 1)]\n"
   ]
  },
  {
   "cell_type": "code",
   "execution_count": 8,
   "id": "a84b1f3b-c0fd-46e7-90fa-e78d0bba2127",
   "metadata": {},
   "outputs": [],
   "source": [
    "# Inizializza variabile di controllo per il secondo loop\n",
    "start_second_loop = False\n",
    "\n",
    "t_d_int = []\n",
    "t_d_int.append(t_tot)\n",
    "# Primo loop\n",
    "for x in intermediate_points[:]:\n",
    "    # Controlla se è il momento di iniziare il secondo loop\n",
    "    if x == dd_low:\n",
    "        start_second_loop = True\n",
    "        t_d_int.append((t_mid2 + t_mid)/2)\n",
    "        continue\n",
    "\n",
    "    # Calcola i valori in base alla variabile di controllo\n",
    "    if not start_second_loop:\n",
    "        y = -np.log((0.95 - dd_low) / (x - dd_low) - 1) / sigm_par + t_mid2\n",
    "    else:\n",
    "        y = -np.log((dd_low - 0.95) / (x - 0.95) - 1) / sigm_par + t_mid\n",
    "\n",
    "    # Aggiungi il valore calcolato a t_d_int\n",
    "    t_d_int.append(y)\n",
    "\n",
    "t_d_int.append(0)\n",
    "\n",
    "t_d_int = np.array(t_d_int)\n",
    "t_d_int = np.round(t_d_int).astype(int)\n"
   ]
  },
  {
   "cell_type": "code",
   "execution_count": 10,
   "id": "cb4c4c2b-16a5-4784-b4a4-3accd76a23f9",
   "metadata": {},
   "outputs": [
    {
     "data": {
      "application/vnd.jupyter.widget-view+json": {
       "model_id": "5b133cd557744f1ebcad0f35407dc25e",
       "version_major": 2,
       "version_minor": 0
      },
      "text/plain": [
       "Canvas(toolbar=Toolbar(toolitems=[('Home', 'Reset original view', 'home', 'home'), ('Back', 'Back to previous …"
      ]
     },
     "metadata": {},
     "output_type": "display_data"
    }
   ],
   "source": [
    "%matplotlib widget\n",
    "def genera_coppie_tempo_intensita(tempo_array, intensita_array):\n",
    "    y = []\n",
    "    \n",
    "    for tempo in range(tempo_array[-1]):\n",
    "        if np.isin(tempo, tempo_array):\n",
    "            indices = np.where(tempo_array == tempo)[0]\n",
    "            y.append(intensita_array[:][indices[0]])\n",
    "        else:\n",
    "            y.append(y[-1])  # Ripeti l'ultimo valore di intensita_array se tempo non è presente\n",
    "    \n",
    "    return np.array(y)\n",
    "\n",
    "power = []\n",
    "for i in range(32):\n",
    "    power_i = genera_coppie_tempo_intensita(t_d_int[::-1], pow_t_mean_point_int[i][::-1])\n",
    "    power.append(power_i)\n",
    "\n",
    "    # Plot dei dati\n",
    "    plt.plot( power_i, marker='o')\n",
    "    plt.xlabel('Time [ms]')\n",
    "    plt.ylabel('Mean β PSD')\n",
    "    #plt.title('Andamento Tempo-Intensità')\n",
    "    plt.show()\n"
   ]
  },
  {
   "cell_type": "code",
   "execution_count": 11,
   "id": "8391a568-f996-446b-b514-d6a61d058b8e",
   "metadata": {},
   "outputs": [],
   "source": [
    "cleaned_path = simulations_folder_path.replace(\"./build/output/n1/\", \"\").replace(\"_1.00_1.00_1.6/\", \"\")\n",
    "filename = f\"power_{cleaned_path}_{parseg}.txt\"\n",
    "# Costruisci il percorso completo del file. Assicurati che questo percorso punti alla cartella desiderata\n",
    "file_path = os.path.join(simulations_folder_path, filename)\n",
    "\n",
    "# Salva i dati in un file txt\n",
    "np.savetxt(file_path, power, fmt='%f', header=\"power\")\n"
   ]
  },
  {
   "cell_type": "code",
   "execution_count": 6,
   "id": "eb861101-1af9-4886-a094-e3ce2f360ba5",
   "metadata": {},
   "outputs": [],
   "source": [
    "####################### DATI SIMULAZIONE #######################################\n",
    "cleaned_path = simulations_folder_path.replace(\"./build/output/n1/\", \"\").replace(\"_1.00_1.00_1.6/\", \"\")\n",
    "filename = f\"power_{cleaned_path}_{parseg}.txt\"\n",
    "\n",
    "power = np.loadtxt(simulations_folder_path + filename, skiprows=1)\n"
   ]
  },
  {
   "cell_type": "code",
   "execution_count": 7,
   "id": "284c5934-cb73-4759-ae55-c90a4ee97721",
   "metadata": {
    "tags": []
   },
   "outputs": [],
   "source": [
    "time = np.arange(0, len(power[0]), 1)\n",
    "df_attesi = []\n",
    "\n",
    "for i in range(32):\n",
    "    # Crea un DataFrame con i dati\n",
    "    df_i = pd.DataFrame({'Tempo': time, 'Valore': power[i]})\n",
    "\n",
    "    # Calcola la media mobile e assegna i risultati al tempo centrale\n",
    "    window_size = parseg\n",
    "    df_i['Media_Mobile'] = df_i['Valore'].rolling(window=window_size, center=True).mean()\n",
    "\n",
    "    # Rimuovi le righe con valori mancanti (prime e ultime finestre)\n",
    "    df_i = df_i.dropna()\n",
    "\n",
    "    # Rimuovi i primi neglect_t elementi\n",
    "    df_i = df_i.iloc[neglect_t:]\n",
    "\n",
    "    # Aggiungi il DataFrame alla lista\n",
    "    df_attesi.append(df_i)\n",
    "\n",
    "# Stampa il DataFrame risultante\n",
    "#print(df_attesi)"
   ]
  },
  {
   "cell_type": "code",
   "execution_count": 8,
   "id": "1755e604-8193-4014-ab0a-fc338a20ae96",
   "metadata": {},
   "outputs": [],
   "source": [
    "media = []\n",
    "error = []\n",
    "tt = []\n",
    "\n",
    "for i in range(0, len(df_attesi[0]['Tempo']), int(parseg - parseg*overlap)): # qui metti 0. overlap\n",
    "    media.append(np.mean([df_i['Media_Mobile'].iloc[i] for df_i in df_attesi]))\n",
    "    error.append(np.std([df_i['Media_Mobile'].iloc[i] for df_i in df_attesi]))\n",
    "    tt.append(i + int(parseg*overlap))\n"
   ]
  },
  {
   "cell_type": "code",
   "execution_count": 9,
   "id": "53164b2e-8aad-4043-8f7a-75bb24d8b769",
   "metadata": {
    "tags": []
   },
   "outputs": [
    {
     "data": {
      "application/vnd.jupyter.widget-view+json": {
       "model_id": "19ee8878bab54755a037ed99507f23f9",
       "version_major": 2,
       "version_minor": 0
      },
      "text/plain": [
       "Canvas(toolbar=Toolbar(toolitems=[('Home', 'Reset original view', 'home', 'home'), ('Back', 'Back to previous …"
      ]
     },
     "metadata": {},
     "output_type": "display_data"
    }
   ],
   "source": [
    "%matplotlib widget\n",
    "tt = np.array(tt)/1000\n",
    "plt.figure(figsize=(12, 6))\n",
    "plt.errorbar(tt, media, yerr=error, fmt='o')\n",
    "plt.xlabel('Time [s]')\n",
    "plt.ylabel('mean β PSD [u.a.]')\n",
    "plt.title('Pulse expected mean β PSD')\n",
    "plt.show()"
   ]
  },
  {
   "cell_type": "markdown",
   "id": "77a99546-14b9-43bf-aaad-f69f7ed28d77",
   "metadata": {},
   "source": [
    "# simulazione SIGMOIDPULSE"
   ]
  },
  {
   "cell_type": "code",
   "execution_count": null,
   "id": "81f172f1-e26f-4c62-a485-889be5eb2703",
   "metadata": {},
   "outputs": [],
   "source": [
    "%matplotlib inline\n",
    "#funzione Dd\n",
    "data = np.loadtxt(simulations_folder_path + simulations[0] + \"/ext_rateD2.txt\").T\n",
    "\n",
    "data[0] = data[0]/1000\n",
    "data[1] = data[1]/1.083\n",
    "\n",
    "#check if periodogram folder exists and if not create one\n",
    "#spikesim\n",
    "periodogram_paths = []\n",
    "s = []\n",
    "for simulation in simulations:\n",
    "    periodogram_path = './periodograms/' + Dd.replace('.','_') + '_' + subnets + '_' + function + '_' + simulation\n",
    "    if not os.path.exists(periodogram_path):  #check if periodogram folder exists and if not create one\n",
    "        os.makedirs(periodogram_path) \n",
    "    periodogram_paths.append(periodogram_path)\n",
    "    ss = utils.SpikeSim(simulations_folder_path + simulation , 'new_sim_parallel.yaml', neglect_t, np.max(data[0]))\n",
    "    s.append(ss)\n",
    "\n",
    "all_pow_t = []\n",
    "t = []\n",
    "f = []\n",
    "\n",
    "for index,ss in enumerate(s):\n",
    "    output=ss.periodogram(pop=subnets, res=1., N_parseg=parseg, save_img=periodogram_paths[index] + \"/periodogram.png\")\n",
    "\n",
    "    f = output[0]\n",
    "    t = output[1]\n",
    "    Sxx = output[2]\n",
    "\n",
    "    mask = (8 <= f) & (f <= 26)\n",
    "    Sxx_lim = Sxx[mask,:]\n",
    "    f_lim = f[mask]\n",
    "\n",
    "    pow_t = []\n",
    "    for i in range (len(t)):\n",
    "        pow_t.append(np.mean(Sxx_lim[:,i]))\n",
    "\n",
    "    all_pow_t.append(pow_t)\n",
    "\n",
    "np.vstack(all_pow_t)\n",
    "pow_t_mean = np.mean(all_pow_t, axis=0)\n",
    "pow_error = np.std(all_pow_t, axis=0)"
   ]
  },
  {
   "cell_type": "code",
   "execution_count": null,
   "id": "c8f3717c-7ea3-4195-8df9-81cf70c8b9c8",
   "metadata": {},
   "outputs": [],
   "source": [
    "cleaned_path = simulations_folder_path.replace(\"./build/output/n1/\", \"\").replace(\"_1.00_1.00_1.6/\", \"\")\n",
    "filename = f\"all_pow_t{cleaned_path}_{parseg}.txt\"\n",
    "# Costruisci il percorso completo del file. Assicurati che questo percorso punti alla cartella desiderata\n",
    "file_path = os.path.join(simulations_folder_path, filename)\n",
    "\n",
    "# Salva i dati in un file txt\n",
    "np.savetxt(file_path, all_pow_t, fmt='%f', header=\"t\\pow_t_mean\\pow_error\")\n"
   ]
  },
  {
   "cell_type": "code",
   "execution_count": 10,
   "id": "142293a8-1aab-431b-8bbc-ded76d007811",
   "metadata": {},
   "outputs": [],
   "source": [
    "####################### DATI SIMULAZIONE #######################################\n",
    "cleaned_path = simulations_folder_path.replace(\"./build/output/n1/\", \"\").replace(\"_1.00_1.00_1.6/\", \"\")\n",
    "filename = f\"all_pow_t{cleaned_path}_{parseg}.txt\"\n",
    "\n",
    "all_pow_t = np.loadtxt(simulations_folder_path + filename, skiprows=1)\n"
   ]
  },
  {
   "cell_type": "code",
   "execution_count": 11,
   "id": "0e3b713d-b952-4805-8e96-b6f160b90a52",
   "metadata": {},
   "outputs": [],
   "source": [
    "pow_t_mean = np.mean(all_pow_t, axis=0)\n",
    "pow_error = np.std(all_pow_t, axis=0)\n",
    "\n",
    "num_elements = len(pow_t_mean)\n",
    "t = np.linspace(parseg*overlap/1000, num_elements * parseg*overlap/1000, num_elements)\n"
   ]
  },
  {
   "cell_type": "markdown",
   "id": "b2c14688-93c8-4f11-b30e-de76a4e89b39",
   "metadata": {},
   "source": [
    "## time-pow_t"
   ]
  },
  {
   "cell_type": "code",
   "execution_count": 12,
   "id": "8fd88ab6-13ca-4142-970d-7ec05ed96359",
   "metadata": {},
   "outputs": [
    {
     "data": {
      "application/vnd.jupyter.widget-view+json": {
       "model_id": "507b5ffdbc75402793365b73abc7b318",
       "version_major": 2,
       "version_minor": 0
      },
      "text/plain": [
       "Canvas(toolbar=Toolbar(toolitems=[('Home', 'Reset original view', 'home', 'home'), ('Back', 'Back to previous …"
      ]
     },
     "metadata": {},
     "output_type": "display_data"
    }
   ],
   "source": [
    "%matplotlib widget\n",
    "# Creare un grafico dei valori nel tempo\n",
    "fig, ax1 = plt.subplots(figsize=(9, 5))\n",
    "\n",
    "# Utilizza la funzione errorbar per tracciare i dati con errori associati\n",
    "ax1.errorbar(t, pow_t_mean, yerr=pow_error, fmt='none', capsize=1, color='black', ecolor='black', elinewidth=1)\n",
    "\n",
    "# Plot dei dati originali\n",
    "ax1.plot(t, pow_t_mean, color='orange')\n",
    "\n",
    "# Etichette e legenda per l'asse x e y\n",
    "ax1.set_xlabel('Time [s]')\n",
    "ax1.set_ylabel('Mean β PSD [u.a.]')\n",
    "\n",
    "plt.title(f'Mean β PSD for τ = {1/sigm_par/1000} [s]')# nparseg = {parseg}')\n",
    "plt.show()\n"
   ]
  },
  {
   "cell_type": "code",
   "execution_count": 13,
   "id": "68ba601d-912f-4062-a815-cf9b5f85ea77",
   "metadata": {},
   "outputs": [
    {
     "data": {
      "application/vnd.jupyter.widget-view+json": {
       "model_id": "616a88783f9d427dbaa8c784aa2c4e6a",
       "version_major": 2,
       "version_minor": 0
      },
      "text/plain": [
       "Canvas(toolbar=Toolbar(toolitems=[('Home', 'Reset original view', 'home', 'home'), ('Back', 'Back to previous …"
      ]
     },
     "metadata": {},
     "output_type": "display_data"
    }
   ],
   "source": [
    "%matplotlib widget\n",
    "# Creare un grafico dei valori nel tempo\n",
    "fig, ax1 = plt.subplots(figsize=(9, 5))\n",
    "\n",
    "# Utilizza la funzione errorbar per tracciare i dati con errori associati\n",
    "ax1.errorbar(t, pow_t_mean, yerr=pow_error, fmt='none', capsize=1, color='black', ecolor='black', elinewidth=1)\n",
    "\n",
    "# Plot dei dati originali\n",
    "ax1.plot(t, pow_t_mean, label='Dynamic simulation β PSD', color='orange')\n",
    "#ax1.set_yscale('log')\n",
    "\n",
    "# Aggiungi il terzo set di dati con errori associati al grafico esistente\n",
    "plt.errorbar(tt, media, yerr=error, fmt='o', label='Expected PSD')\n",
    "\n",
    "# Etichette e legenda per l'asse x e y\n",
    "ax1.set_xlabel('Time [s]')\n",
    "ax1.set_ylabel('Mean β PSD [u.a.]')\n",
    "ax1.legend()  # Assicurati di avere tutte le etichette delle leggende necessarie\n",
    "\n",
    "plt.title(f'Intensità nel Range β for τ = {1/sigm_par/1000} [s]')# nparseg = {parseg}')\n",
    "plt.show()\n"
   ]
  },
  {
   "cell_type": "markdown",
   "id": "3762a962-5a04-4e37-a2f3-10ea738886a0",
   "metadata": {},
   "source": [
    "# visualizza dopamina"
   ]
  },
  {
   "cell_type": "code",
   "execution_count": 14,
   "id": "f7d2fa4e-03f1-435d-b93c-9f8157ca1b6f",
   "metadata": {},
   "outputs": [
    {
     "data": {
      "application/vnd.jupyter.widget-view+json": {
       "model_id": "13d0d384bc83411ab0a42c9d402e15ab",
       "version_major": 2,
       "version_minor": 0
      },
      "text/plain": [
       "Canvas(toolbar=Toolbar(toolitems=[('Home', 'Reset original view', 'home', 'home'), ('Back', 'Back to previous …"
      ]
     },
     "metadata": {},
     "output_type": "display_data"
    }
   ],
   "source": [
    "%matplotlib widget\n",
    "data_path = f\"./build/output/n1/{function}_{t_mid}.00_{sigm_par_poiss}_0.00_{Dd}_1.00_1.00_1.6/0/ext_rateD2.txt\"\n",
    "data = np.loadtxt(data_path).T\n",
    "data[0] = data[0] / 1000  # Converti il tempo in secondi\n",
    "data[1] = 10*(data[1] / 1.083 - 0.85)\n",
    "\n",
    "data = data[:, neglect_t:]\n",
    "\n",
    "# Crea un grafico per ogni set di dati\n",
    "plt.figure(figsize=(12, 5))\n",
    "plt.plot(data[0], data[1], color ='red')\n",
    "plt.xlabel('Time (s)')\n",
    "plt.ylabel('Dopamine Depletion y [a.u.]')\n",
    "plt.title('Dopamine Concentration Over Time')\n",
    "plt.ylim(-0.1, 1.1) \n",
    "plt.grid(True)\n",
    "plt.show()"
   ]
  },
  {
   "cell_type": "code",
   "execution_count": null,
   "id": "eb01415c-97d7-4a30-ab81-a3c14c17127f",
   "metadata": {},
   "outputs": [],
   "source": []
  }
 ],
 "metadata": {
  "kernelspec": {
   "display_name": "Python 3",
   "language": "python",
   "name": "python3"
  },
  "language_info": {
   "codemirror_mode": {
    "name": "ipython",
    "version": 3
   },
   "file_extension": ".py",
   "mimetype": "text/x-python",
   "name": "python",
   "nbconvert_exporter": "python",
   "pygments_lexer": "ipython3",
   "version": "3.8.5"
  }
 },
 "nbformat": 4,
 "nbformat_minor": 5
}
